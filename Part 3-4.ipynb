{
 "cells": [
  {
   "cell_type": "markdown",
   "metadata": {},
   "source": [
    "# Functionalities 3 - 4"
   ]
  },
  {
   "cell_type": "markdown",
   "metadata": {},
   "source": [
    "Import the libraries we will need"
   ]
  },
  {
   "cell_type": "code",
   "execution_count": 1,
   "metadata": {},
   "outputs": [],
   "source": [
    "import collections\n",
    "import math\n",
    "import gmplot\n",
    "import statistics\n",
    "import itertools\n",
    "import func_3_4 as f"
   ]
  },
  {
   "cell_type": "markdown",
   "metadata": {},
   "source": [
    "### Functionality 3"
   ]
  },
  {
   "cell_type": "markdown",
   "metadata": {},
   "source": [
    "This is the function to call to use funtionality 3."
   ]
  },
  {
   "cell_type": "code",
   "execution_count": 9,
   "metadata": {},
   "outputs": [],
   "source": [
    "def functionality_3():\n",
    "    # Call the setup function to initialize our elements. \n",
    "    # Sequence = nodes to visit, graph = the graph of all the nodes and edges, mode = distance, time, network distance\n",
    "    sequence, graph, mode = f.setup()    \n",
    "    # Calculate the shortest path for each subpath and concatenate them \n",
    "    # If the mode = nd we need to pass to the function walk \"nd = True\"\n",
    "    path = []\n",
    "    if mode == \"nd\":\n",
    "        for i in range(len(sequence)-1):\n",
    "            path = path + f.walk(graph, sequence[i], sequence[i+1], nd = True)[:-1]\n",
    "        print(path)\n",
    "    else:\n",
    "        for i in range(len(sequence)-1):\n",
    "            path = path + f.walk(graph, sequence[i], sequence[i+1])[:-1]\n",
    "        print(path+[sequence[-1]])\n",
    "        \n",
    "    # Visualization\n",
    "    # Store the coordinate for each point we visited in a dictionary ID:[longitude, latitude]\n",
    "    coordinate = {}\n",
    "    with open(r\"C:\\Users\\39335\\Desktop\\University\\Aris\\USA-road-d.CAL.co\") as file:\n",
    "        for line in file:\n",
    "            if line.startswith(\"v\"):\n",
    "                l = [int(x) for x in line[2:].split()]\n",
    "                if l[0] not in coordinate:\n",
    "                    coordinate[l[0]] = [l[1], l[2]]\n",
    "                    \n",
    "    # Store in two different lists the coordinates of the points we visited\n",
    "    latitude_list = []\n",
    "    longitude_list = []\n",
    "    for i in range(len(path)):\n",
    "        latitude_list.append((coordinate[path[i]][1])/10**6)    #The division by 10^6 is to adjust the coordinates in the file to the real world\n",
    "        longitude_list.append((coordinate[path[i]][0])/10**6)\n",
    "    \n",
    "    # Set the center of the map using the mean of the coordinates of the points in our graph\n",
    "    mid_lon = statistics.mean(longitude_list)\n",
    "    mid_lat = statistics.mean(latitude_list)\n",
    "    gmap = gmplot.GoogleMapPlotter(mid_lat, mid_lon, 12.5) \n",
    "    \n",
    "    # Plot using gmap\n",
    "    gmap.scatter( latitude_list, longitude_list, '# FF0000', size = 40, marker = False ) \n",
    "    gmap.plot(latitude_list, longitude_list, 'red', edge_width = 2.5) \n",
    "    # Set the directory we want to output the html file\n",
    "    gmap.draw(r\"C:\\Users\\39335\\Desktop\\University\\Aris\\map3.html\")\n",
    "    "
   ]
  },
  {
   "cell_type": "markdown",
   "metadata": {},
   "source": [
    "### Functionality 4"
   ]
  },
  {
   "cell_type": "markdown",
   "metadata": {},
   "source": [
    "To find the shortest path passing through the given nodes we will need to calculate the distance for all the permutation of the possible paths. Then we choose the one with the lesser weight. <br>\n",
    "The rest of the code is a lot similar to functionality 3. "
   ]
  },
  {
   "cell_type": "code",
   "execution_count": 3,
   "metadata": {},
   "outputs": [],
   "source": [
    "def functionality_4():\n",
    "    sequence, graph, mode = f.setup()  \n",
    "    \n",
    "    # Permutation of all the nodes that are not the starting nor the final one. In this way we check every possible route.\n",
    "    perm = list(itertools.permutations(sequence[1:-1]))\n",
    "    min_weight = math.inf\n",
    "    min_path = []\n",
    "    \n",
    "    # For every permutation we compute the weight and we check if it is the lowest.\n",
    "    # In that case we update the min path and the min weight\n",
    "    if mode == \"nd\":\n",
    "        for p in perm:\n",
    "            current_path = []\n",
    "            current_weight = 0\n",
    "            for i in range(len(p)-1):\n",
    "                current_path = current_path + f.walk(graph, p[i], p[i+1], nd = True)[:-1]\n",
    "                current_weight = current_weight + f.walk(graph, p[i], p[i+1], nd = True, w = True)\n",
    "            if (current_weight < min_weight):\n",
    "                min_weight = current_weight \n",
    "                min_path = current_path\n",
    "        min_path = min_path + [sequence[-2]]\n",
    "        # Concatenate the path that goes from starting point (H) to p1, and the one that goes from p_n-1 to p_n. (H and p_n are fixed)\n",
    "        path = f.walk(graph, sequence[0], min_path[0], nd = True)[:-1] + min_path + f.walk(graph, min_path[-2], sequence[-1], nd = True)\n",
    "        print(path)\n",
    "        \n",
    "    else:\n",
    "        for p in perm:\n",
    "            current_path = []\n",
    "            current_weight = 0\n",
    "            for i in range(len(p)-1):\n",
    "                current_path = current_path + f.walk(graph, p[i], p[i+1])[:-1]\n",
    "                current_weight = current_weight + f.walk(graph, p[i], p[i+1], w = True)\n",
    "            if (current_weight < min_weight):\n",
    "                min_weight = current_weight \n",
    "                min_path = current_path\n",
    "        min_path = min_path + [sequence[-2]]\n",
    "        path = f.walk(graph, sequence[0], min_path[0])[:-1] + min_path + f.walk(graph, min_path[-2], sequence[-1])\n",
    "        print(path)\n",
    "    \n",
    "    \n",
    "    \n",
    "    # Visualization\n",
    "    coordinate = {}\n",
    "    with open(r\"C:\\Users\\39335\\Desktop\\University\\Aris\\USA-road-d.CAL.co\") as file:\n",
    "        for line in file:\n",
    "            if line.startswith(\"v\"):\n",
    "                l = [int(x) for x in line[2:].split()]\n",
    "                if l[0] not in coordinate:\n",
    "                    coordinate[l[0]] = [l[1], l[2]]\n",
    "                    \n",
    "    latitude_list = []\n",
    "    longitude_list = []\n",
    "    for i in range(len(path)):\n",
    "        latitude_list.append((coordinate[path[i]][1])/10**6)\n",
    "        longitude_list.append((coordinate[path[i]][0])/10**6)\n",
    "    \n",
    "    mid_lon = statistics.mean(longitude_list)\n",
    "    mid_lat = statistics.mean(latitude_list)\n",
    "    gmap = gmplot.GoogleMapPlotter(mid_lat, mid_lon, 12.5) \n",
    "    \n",
    "    gmap.scatter( latitude_list, longitude_list, '# FF0000', size = 40, marker = False ) \n",
    "    gmap.plot(latitude_list, longitude_list, 'magenta', edge_width = 2.5) \n",
    "    gmap.draw(r\"C:\\Users\\39335\\Desktop\\University\\Aris\\map4.html\")"
   ]
  },
  {
   "cell_type": "code",
   "execution_count": 10,
   "metadata": {},
   "outputs": [
    {
     "name": "stdout",
     "output_type": "stream",
     "text": [
      "Write a node H, the sequence of nodes to visit in order p_1,...,p_n, and the mode you want t(time) / d(distance) / nd(network distance). Ex. '25 50,22,13,4 t'\n",
      "1 20,40,50,60 nd\n",
      "[1, 1803, 1802, 1050022, 1808, 1050024, 1810, 1050026, 1813, 1050030, 2199, 1050339, 1050261, 2102, 2092, 2093, 1050262, 2078, 1050243, 1050266, 2118, 2125, 1050280, 2122, 1050277, 2142, 1050291, 2522, 2524, 1050447, 2153, 2152, 2154, 2158, 1050306, 1050308, 2159, 34, 1048603, 1048598, 28, 1050699, 1050700, 1048601, 31, 1050698, 1048627, 64, 2655, 2656, 2657, 1048626, 179, 180, 35, 1048604, 1048606, 2662, 1050717, 2661, 40, 1048609, 1050708, 43, 1048612, 2384, 1048594, 23, 24, 1048595, 1048596, 21, 20, 21, 1048596, 1048595, 24, 23, 1048594, 2384, 1048612, 43, 1050708, 1048609, 40, 1048609, 2663, 41, 1048610, 42, 2670, 45, 44, 1048613, 1048650, 71, 1048634, 1048653, 103, 1048658, 104, 111, 114, 130, 133, 1048680, 132, 1048695, 152, 160, 1048703, 161, 1048710, 172, 1048848, 337, 338, 341, 367, 344, 1048851, 1048852, 346, 1048856, 1048860, 353, 359, 362, 1048869, 1048867, 360, 363, 429, 428, 430, 458, 1048941, 1048942, 1048993, 520, 515, 1048946, 462, 465, 468, 473, 514, 516, 1048989, 1048961, 1048957, 476, 1048958, 1048962, 1048979, 475, 474, 1048955, 471, 1048952, 1049054, 596, 597, 1049058, 561, 1049026, 556, 1049023, 1049022, 555, 594, 547, 545, 1049015, 525, 1048999, 2311, 741, 1049165, 533, 534, 535, 814, 725, 1049154, 721, 1049166, 715, 1049149, 718, 1049198, 774, 1049197, 780, 1048616, 49, 50, 49, 1048616, 780, 1049197, 774, 1049198, 718, 1049149, 715, 1049166, 721, 1049154, 725, 814, 535, 534, 533, 1049165, 741, 2311, 1048999, 525, 1049015, 545, 547, 594, 555, 1049022, 1049023, 556, 1049026, 561, 1049058, 597, 596, 1049054, 1048952, 471, 1048955, 474, 475, 1048979, 1048962, 1048958, 476, 1048957, 1048961, 1048989, 516, 514, 473, 468, 465, 462, 1048946, 515, 520, 1048993, 1048942, 1048941, 458, 430, 428, 429, 363, 360, 1048867, 1048869, 362, 359, 353, 1048860, 1048856, 346, 1048852, 1048851, 344, 367, 341, 338, 337, 1048848, 172, 1048710, 161, 1048703, 160, 152, 1048695, 132, 1048680, 133, 130, 114, 111, 104, 1048658, 103, 1048653, 1048634, 1048633, 1048635, 1048632, 69, 46, 47, 1048614, 2472, 1048617, 51, 1050719, 52, 1048598, 33, 1048624, 38, 37, 60]\n"
     ]
    }
   ],
   "source": [
    "functionality_3()"
   ]
  },
  {
   "cell_type": "code",
   "execution_count": 6,
   "metadata": {},
   "outputs": [
    {
     "name": "stdout",
     "output_type": "stream",
     "text": [
      "Write a node H, the sequence of nodes to visit in order p_1,...,p_n, and the mode you want t(time) / d(distance) / nd(network distance). Ex. '25 50,22,13,4 t'\n",
      "1 20,40,50,60 nd\n",
      "[1, 1803, 1802, 1050022, 1799, 1050018, 1050017, 1800, 1050019, 1823, 451, 1048937, 1707, 1705, 1050005, 1778, 1050000, 1774, 1049998, 1050002, 1781, 1783, 1796, 1050015, 1795, 1050014, 1050383, 2249, 2248, 1049494, 1050385, 211, 1048724, 185, 184, 1048719, 183, 1048718, 382, 1048878, 376, 1048879, 377, 379, 1048880, 378, 1048881, 372, 371, 1048892, 393, 1048882, 380, 1048891, 1048875, 373, 392, 1049055, 1049056, 1049057, 601, 1049063, 612, 1049065, 614, 1049069, 1049074, 621, 1049085, 119, 1049087, 638, 645, 1050424, 2313, 1050423, 1049217, 1049094, 647, 640, 1049089, 1049090, 1049099, 652, 1049098, 2701, 800, 1049117, 798, 690, 691, 1049130, 1049131, 707, 715, 1049149, 718, 1049198, 774, 1049197, 780, 1048616, 49, 50, 49, 1048616, 780, 1049197, 774, 1049198, 718, 1049149, 715, 1049166, 721, 1049154, 725, 814, 535, 534, 533, 1049165, 741, 2311, 1048999, 525, 1049015, 545, 547, 594, 555, 1049022, 1049023, 556, 1049026, 561, 1049058, 597, 596, 1049054, 1048952, 471, 1048955, 474, 475, 1048979, 1048962, 1048958, 476, 1048957, 1048961, 1048989, 516, 514, 473, 468, 465, 462, 1048946, 515, 520, 1048993, 1048942, 1048941, 458, 430, 428, 429, 363, 360, 1048867, 1048869, 362, 359, 353, 1048860, 1048856, 346, 1048852, 1048851, 344, 345, 365, 348, 329, 1048694, 1048693, 150, 154, 1048697, 153, 1048683, 139, 155, 1048591, 18, 19, 20, 21, 1048596, 1048595, 24, 23, 1048594, 2384, 1048612, 43, 1050708, 1048609, 50, 1048609, 40, 2661, 1050717, 2662, 1048606, 1048604, 35, 180, 179, 1048626, 2657, 2656, 2655, 64, 1048627, 1050698, 31, 1048601, 1050700, 1050699, 28, 1048598, 33, 1048624, 38, 37, 60]\n"
     ]
    }
   ],
   "source": [
    "functionality_4()"
   ]
  },
  {
   "cell_type": "code",
   "execution_count": null,
   "metadata": {},
   "outputs": [],
   "source": []
  }
 ],
 "metadata": {
  "kernelspec": {
   "display_name": "Python 3",
   "language": "python",
   "name": "python3"
  },
  "language_info": {
   "codemirror_mode": {
    "name": "ipython",
    "version": 3
   },
   "file_extension": ".py",
   "mimetype": "text/x-python",
   "name": "python",
   "nbconvert_exporter": "python",
   "pygments_lexer": "ipython3",
   "version": "3.7.4"
  }
 },
 "nbformat": 4,
 "nbformat_minor": 2
}
