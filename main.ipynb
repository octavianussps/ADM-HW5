{
 "cells": [
  {
   "cell_type": "markdown",
   "metadata": {},
   "source": [
    "# Functionality 1 - Find the Neighbours!\n",
    "\n",
    "Take input:\n",
    "\n",
    "a node v\n",
    "\n",
    "One of the following distances function: \n",
    "\n",
    "t(x,y), d(x,y) or network distance .\n",
    "\n",
    "a distance threshold d.\n",
    "\n",
    "Implement an algorithm (using proper data structures) that returns :\n",
    "\n",
    "the set of nodes at distance <= d from v, corresponding to v’s neighborhood."
   ]
  },
  {
   "cell_type": "code",
   "execution_count": 1,
   "metadata": {},
   "outputs": [],
   "source": [
    "import pandas as pd\n",
    "import networkx as nx\n",
    "import matplotlib.pyplot as plt\n",
    "import numpy as np"
   ]
  },
  {
   "cell_type": "markdown",
   "metadata": {},
   "source": [
    "# Read DS"
   ]
  },
  {
   "cell_type": "markdown",
   "metadata": {},
   "source": [
    "# Distance :"
   ]
  },
  {
   "cell_type": "code",
   "execution_count": 2,
   "metadata": {},
   "outputs": [
    {
     "data": {
      "text/html": [
       "<div>\n",
       "<style scoped>\n",
       "    .dataframe tbody tr th:only-of-type {\n",
       "        vertical-align: middle;\n",
       "    }\n",
       "\n",
       "    .dataframe tbody tr th {\n",
       "        vertical-align: top;\n",
       "    }\n",
       "\n",
       "    .dataframe thead th {\n",
       "        text-align: right;\n",
       "    }\n",
       "</style>\n",
       "<table border=\"1\" class=\"dataframe\">\n",
       "  <thead>\n",
       "    <tr style=\"text-align: right;\">\n",
       "      <th></th>\n",
       "      <th>Distance</th>\n",
       "    </tr>\n",
       "  </thead>\n",
       "  <tbody>\n",
       "    <tr>\n",
       "      <th>6</th>\n",
       "      <td>a 1 1048577 456</td>\n",
       "    </tr>\n",
       "    <tr>\n",
       "      <th>7</th>\n",
       "      <td>a 1048577 1 456</td>\n",
       "    </tr>\n",
       "    <tr>\n",
       "      <th>8</th>\n",
       "      <td>a 2 1048578 2389</td>\n",
       "    </tr>\n",
       "    <tr>\n",
       "      <th>9</th>\n",
       "      <td>a 1048578 2 2389</td>\n",
       "    </tr>\n",
       "    <tr>\n",
       "      <th>10</th>\n",
       "      <td>a 3 1048579 358</td>\n",
       "    </tr>\n",
       "    <tr>\n",
       "      <th>11</th>\n",
       "      <td>a 1048579 3 358</td>\n",
       "    </tr>\n",
       "    <tr>\n",
       "      <th>12</th>\n",
       "      <td>a 4 1048579 14901</td>\n",
       "    </tr>\n",
       "    <tr>\n",
       "      <th>13</th>\n",
       "      <td>a 1048579 4 14901</td>\n",
       "    </tr>\n",
       "    <tr>\n",
       "      <th>14</th>\n",
       "      <td>a 5 6 18133</td>\n",
       "    </tr>\n",
       "    <tr>\n",
       "      <th>15</th>\n",
       "      <td>a 6 5 18133</td>\n",
       "    </tr>\n",
       "  </tbody>\n",
       "</table>\n",
       "</div>"
      ],
      "text/plain": [
       "             Distance\n",
       "6     a 1 1048577 456\n",
       "7     a 1048577 1 456\n",
       "8    a 2 1048578 2389\n",
       "9    a 1048578 2 2389\n",
       "10    a 3 1048579 358\n",
       "11    a 1048579 3 358\n",
       "12  a 4 1048579 14901\n",
       "13  a 1048579 4 14901\n",
       "14        a 5 6 18133\n",
       "15        a 6 5 18133"
      ]
     },
     "execution_count": 2,
     "metadata": {},
     "output_type": "execute_result"
    }
   ],
   "source": [
    "df_D = pd.read_csv('./DATA/Distance_graph',header=0, sep=',',\n",
    "                index_col=None, encoding = \"ISO-8859-1\")\n",
    "df_D.columns=[\"Distance\"]\n",
    "df_D.drop([0,1,2,3,4,5],inplace=True)\n",
    "df_D.reset_index(drop=True)\n",
    "df_D.head(10)\n"
   ]
  },
  {
   "cell_type": "code",
   "execution_count": 3,
   "metadata": {},
   "outputs": [
    {
     "data": {
      "text/html": [
       "<div>\n",
       "<style scoped>\n",
       "    .dataframe tbody tr th:only-of-type {\n",
       "        vertical-align: middle;\n",
       "    }\n",
       "\n",
       "    .dataframe tbody tr th {\n",
       "        vertical-align: top;\n",
       "    }\n",
       "\n",
       "    .dataframe thead th {\n",
       "        text-align: right;\n",
       "    }\n",
       "</style>\n",
       "<table border=\"1\" class=\"dataframe\">\n",
       "  <thead>\n",
       "    <tr style=\"text-align: right;\">\n",
       "      <th></th>\n",
       "      <th>a</th>\n",
       "      <th>Node1</th>\n",
       "      <th>Node2</th>\n",
       "      <th>Distance</th>\n",
       "    </tr>\n",
       "  </thead>\n",
       "  <tbody>\n",
       "    <tr>\n",
       "      <th>0</th>\n",
       "      <td>a</td>\n",
       "      <td>1</td>\n",
       "      <td>1048577</td>\n",
       "      <td>456</td>\n",
       "    </tr>\n",
       "    <tr>\n",
       "      <th>1</th>\n",
       "      <td>a</td>\n",
       "      <td>1048577</td>\n",
       "      <td>1</td>\n",
       "      <td>456</td>\n",
       "    </tr>\n",
       "    <tr>\n",
       "      <th>2</th>\n",
       "      <td>a</td>\n",
       "      <td>2</td>\n",
       "      <td>1048578</td>\n",
       "      <td>2389</td>\n",
       "    </tr>\n",
       "    <tr>\n",
       "      <th>3</th>\n",
       "      <td>a</td>\n",
       "      <td>1048578</td>\n",
       "      <td>2</td>\n",
       "      <td>2389</td>\n",
       "    </tr>\n",
       "  </tbody>\n",
       "</table>\n",
       "</div>"
      ],
      "text/plain": [
       "   a    Node1    Node2  Distance\n",
       "0  a        1  1048577       456\n",
       "1  a  1048577        1       456\n",
       "2  a        2  1048578      2389\n",
       "3  a  1048578        2      2389"
      ]
     },
     "execution_count": 3,
     "metadata": {},
     "output_type": "execute_result"
    }
   ],
   "source": [
    "df_D=df_D['Distance'].str.split(\" \" , expand=True)\n",
    "df_D.columns=['a','Node1','Node2','Distance']\n",
    "df_D['Node1']=pd.to_numeric(df_D['Node1'])\n",
    "df_D['Node2']=pd.to_numeric(df_D['Node2'])\n",
    "df_D['Distance']=pd.to_numeric(df_D['Distance'])\n",
    "df_D=df_D.reset_index(drop=True)\n",
    "df_D.head(4)"
   ]
  },
  {
   "cell_type": "code",
   "execution_count": 4,
   "metadata": {},
   "outputs": [
    {
     "data": {
      "text/plain": [
       "(4657742, 4)"
      ]
     },
     "execution_count": 4,
     "metadata": {},
     "output_type": "execute_result"
    }
   ],
   "source": [
    "df_D.shape"
   ]
  },
  {
   "cell_type": "code",
   "execution_count": 5,
   "metadata": {},
   "outputs": [
    {
     "data": {
      "text/html": [
       "<div>\n",
       "<style scoped>\n",
       "    .dataframe tbody tr th:only-of-type {\n",
       "        vertical-align: middle;\n",
       "    }\n",
       "\n",
       "    .dataframe tbody tr th {\n",
       "        vertical-align: top;\n",
       "    }\n",
       "\n",
       "    .dataframe thead th {\n",
       "        text-align: right;\n",
       "    }\n",
       "</style>\n",
       "<table border=\"1\" class=\"dataframe\">\n",
       "  <thead>\n",
       "    <tr style=\"text-align: right;\">\n",
       "      <th></th>\n",
       "      <th>Distance</th>\n",
       "    </tr>\n",
       "  </thead>\n",
       "  <tbody>\n",
       "    <tr>\n",
       "      <th>6</th>\n",
       "      <td>a 1 1048577 1139</td>\n",
       "    </tr>\n",
       "    <tr>\n",
       "      <th>7</th>\n",
       "      <td>a 1048577 1 1139</td>\n",
       "    </tr>\n",
       "    <tr>\n",
       "      <th>8</th>\n",
       "      <td>a 2 1048578 5972</td>\n",
       "    </tr>\n",
       "    <tr>\n",
       "      <th>9</th>\n",
       "      <td>a 1048578 2 5972</td>\n",
       "    </tr>\n",
       "    <tr>\n",
       "      <th>10</th>\n",
       "      <td>a 3 1048579 895</td>\n",
       "    </tr>\n",
       "  </tbody>\n",
       "</table>\n",
       "</div>"
      ],
      "text/plain": [
       "            Distance\n",
       "6   a 1 1048577 1139\n",
       "7   a 1048577 1 1139\n",
       "8   a 2 1048578 5972\n",
       "9   a 1048578 2 5972\n",
       "10   a 3 1048579 895"
      ]
     },
     "execution_count": 5,
     "metadata": {},
     "output_type": "execute_result"
    }
   ],
   "source": [
    "df_T = pd.read_csv('./DATA/Travel_time_graph',header=0, sep=',',\n",
    "                index_col=None, encoding = \"ISO-8859-1\")\n",
    "df_T.columns=[\"Distance\"]\n",
    "df_T.drop([0,1,2,3,4,5],inplace=True)\n",
    "df_T.head(5)"
   ]
  },
  {
   "cell_type": "code",
   "execution_count": 6,
   "metadata": {},
   "outputs": [
    {
     "data": {
      "text/html": [
       "<div>\n",
       "<style scoped>\n",
       "    .dataframe tbody tr th:only-of-type {\n",
       "        vertical-align: middle;\n",
       "    }\n",
       "\n",
       "    .dataframe tbody tr th {\n",
       "        vertical-align: top;\n",
       "    }\n",
       "\n",
       "    .dataframe thead th {\n",
       "        text-align: right;\n",
       "    }\n",
       "</style>\n",
       "<table border=\"1\" class=\"dataframe\">\n",
       "  <thead>\n",
       "    <tr style=\"text-align: right;\">\n",
       "      <th></th>\n",
       "      <th>a</th>\n",
       "      <th>Node1</th>\n",
       "      <th>Node2</th>\n",
       "      <th>Distance</th>\n",
       "    </tr>\n",
       "  </thead>\n",
       "  <tbody>\n",
       "    <tr>\n",
       "      <th>0</th>\n",
       "      <td>a</td>\n",
       "      <td>1</td>\n",
       "      <td>1048577</td>\n",
       "      <td>1139</td>\n",
       "    </tr>\n",
       "    <tr>\n",
       "      <th>1</th>\n",
       "      <td>a</td>\n",
       "      <td>1048577</td>\n",
       "      <td>1</td>\n",
       "      <td>1139</td>\n",
       "    </tr>\n",
       "    <tr>\n",
       "      <th>2</th>\n",
       "      <td>a</td>\n",
       "      <td>2</td>\n",
       "      <td>1048578</td>\n",
       "      <td>5972</td>\n",
       "    </tr>\n",
       "    <tr>\n",
       "      <th>3</th>\n",
       "      <td>a</td>\n",
       "      <td>1048578</td>\n",
       "      <td>2</td>\n",
       "      <td>5972</td>\n",
       "    </tr>\n",
       "    <tr>\n",
       "      <th>4</th>\n",
       "      <td>a</td>\n",
       "      <td>3</td>\n",
       "      <td>1048579</td>\n",
       "      <td>895</td>\n",
       "    </tr>\n",
       "  </tbody>\n",
       "</table>\n",
       "</div>"
      ],
      "text/plain": [
       "   a    Node1    Node2  Distance\n",
       "0  a        1  1048577      1139\n",
       "1  a  1048577        1      1139\n",
       "2  a        2  1048578      5972\n",
       "3  a  1048578        2      5972\n",
       "4  a        3  1048579       895"
      ]
     },
     "execution_count": 6,
     "metadata": {},
     "output_type": "execute_result"
    }
   ],
   "source": [
    "df_T=df_T[\"Distance\"].str.split(\" \" , expand=True)\n",
    "df_T.columns=['a','Node1','Node2','Distance']\n",
    "df_T['Node1']=pd.to_numeric(df_T['Node1'])\n",
    "df_T['Node2']=pd.to_numeric(df_T['Node2'])\n",
    "df_T['Distance']=pd.to_numeric(df_T['Distance'])\n",
    "df_T=df_T.reset_index(drop=True)\n",
    "df_T.head(5)"
   ]
  },
  {
   "cell_type": "code",
   "execution_count": 7,
   "metadata": {},
   "outputs": [
    {
     "data": {
      "text/plain": [
       "(4657742, 4)"
      ]
     },
     "execution_count": 7,
     "metadata": {},
     "output_type": "execute_result"
    }
   ],
   "source": [
    "df_T.shape"
   ]
  },
  {
   "cell_type": "markdown",
   "metadata": {},
   "source": [
    "# Search Neighbours:\n"
   ]
  },
  {
   "cell_type": "code",
   "execution_count": 8,
   "metadata": {},
   "outputs": [
    {
     "name": "stdout",
     "output_type": "stream",
     "text": [
      "Enter node numbner 300\n",
      "Enter one of this Distance type: Time or Physical Physical\n",
      "Enter your threshold 5000\n"
     ]
    },
    {
     "data": {
      "text/html": [
       "<div>\n",
       "<style scoped>\n",
       "    .dataframe tbody tr th:only-of-type {\n",
       "        vertical-align: middle;\n",
       "    }\n",
       "\n",
       "    .dataframe tbody tr th {\n",
       "        vertical-align: top;\n",
       "    }\n",
       "\n",
       "    .dataframe thead th {\n",
       "        text-align: right;\n",
       "    }\n",
       "</style>\n",
       "<table border=\"1\" class=\"dataframe\">\n",
       "  <thead>\n",
       "    <tr style=\"text-align: right;\">\n",
       "      <th></th>\n",
       "      <th>a</th>\n",
       "      <th>Node1</th>\n",
       "      <th>Node2</th>\n",
       "      <th>Distance</th>\n",
       "    </tr>\n",
       "  </thead>\n",
       "  <tbody>\n",
       "    <tr>\n",
       "      <th>1003</th>\n",
       "      <td>a</td>\n",
       "      <td>300</td>\n",
       "      <td>1048816</td>\n",
       "      <td>1018</td>\n",
       "    </tr>\n",
       "    <tr>\n",
       "      <th>1008</th>\n",
       "      <td>a</td>\n",
       "      <td>300</td>\n",
       "      <td>1048818</td>\n",
       "      <td>597</td>\n",
       "    </tr>\n",
       "    <tr>\n",
       "      <th>1002</th>\n",
       "      <td>a</td>\n",
       "      <td>1048816</td>\n",
       "      <td>300</td>\n",
       "      <td>1018</td>\n",
       "    </tr>\n",
       "    <tr>\n",
       "      <th>1071</th>\n",
       "      <td>a</td>\n",
       "      <td>1048816</td>\n",
       "      <td>1048832</td>\n",
       "      <td>365</td>\n",
       "    </tr>\n",
       "    <tr>\n",
       "      <th>1003</th>\n",
       "      <td>a</td>\n",
       "      <td>300</td>\n",
       "      <td>1048816</td>\n",
       "      <td>1018</td>\n",
       "    </tr>\n",
       "    <tr>\n",
       "      <th>1008</th>\n",
       "      <td>a</td>\n",
       "      <td>300</td>\n",
       "      <td>1048818</td>\n",
       "      <td>597</td>\n",
       "    </tr>\n",
       "    <tr>\n",
       "      <th>1002</th>\n",
       "      <td>a</td>\n",
       "      <td>1048816</td>\n",
       "      <td>300</td>\n",
       "      <td>1018</td>\n",
       "    </tr>\n",
       "  </tbody>\n",
       "</table>\n",
       "</div>"
      ],
      "text/plain": [
       "      a    Node1    Node2  Distance\n",
       "1003  a      300  1048816      1018\n",
       "1008  a      300  1048818       597\n",
       "1002  a  1048816      300      1018\n",
       "1071  a  1048816  1048832       365\n",
       "1003  a      300  1048816      1018\n",
       "1008  a      300  1048818       597\n",
       "1002  a  1048816      300      1018"
      ]
     },
     "execution_count": 8,
     "metadata": {},
     "output_type": "execute_result"
    }
   ],
   "source": [
    "node= int(input(\"Enter node numbner \"))\n",
    "distance_type=input(\"Enter one of this Distance type: Time or Physical \")\n",
    "threshold=int(input(\"Enter your threshold \"))  \n",
    "#The idea is to iterate all direct neighbour from node v\n",
    "#and check the values Corresponding to the input\n",
    "#and we recursively subtract the new distance from initial threshold \n",
    "#to check the neighbours of the initial node's neighbour's Satisfying the threshold\n",
    "def search_Neighbours(node, distance_type, threshold): \n",
    "    if distance_type == \"Physical\":\n",
    "        data = df_D\n",
    "    elif distance_type == \"Time\":\n",
    "        data=df_T   \n",
    "    out_df = data[(data['Node1'] == node) & (data['Distance'] <= threshold)]\n",
    "\n",
    "    Neighbours=list(out_df.Node2.values)\n",
    "        #print(Neighbours)\n",
    "    for j in Neighbours:\n",
    "        neigh_dis = data[(data['Node1'] == node) & (data['Node2'] == j)]\n",
    "        neigh_dis=int(neigh_dis['Distance'])\n",
    "        out_df=pd.concat([out_df,search_Neighbours(j, distance_type, threshold-neigh_dis)])\n",
    "    return out_df\n",
    "\n",
    "out_df=search_Neighbours(node,distance_type,threshold)\n",
    "out_df.head(7)"
   ]
  },
  {
   "cell_type": "code",
   "execution_count": 9,
   "metadata": {},
   "outputs": [
    {
     "data": {
      "text/plain": [
       "[1048832,\n",
       " 228,\n",
       " 1048836,\n",
       " 300,\n",
       " 303,\n",
       " 1048816,\n",
       " 2448,\n",
       " 1048818,\n",
       " 1048819,\n",
       " 1048817,\n",
       " 1048820]"
      ]
     },
     "execution_count": 9,
     "metadata": {},
     "output_type": "execute_result"
    }
   ],
   "source": [
    "all_Neighbours = list(set(out_df['Node2'].values))\n",
    "all_Neighbours"
   ]
  },
  {
   "cell_type": "markdown",
   "metadata": {},
   "source": [
    "# Visualization 1 - Visualize the Neighbours!\n",
    "#### The map "
   ]
  },
  {
   "cell_type": "code",
   "execution_count": 10,
   "metadata": {},
   "outputs": [],
   "source": [
    "import folium\n",
    "from folium import plugins\n",
    "import pandas as pd\n",
    "import matplotlib.pyplot as plt\n",
    "import seaborn as sns\n",
    "\n",
    "%matplotlib inline"
   ]
  },
  {
   "cell_type": "code",
   "execution_count": 11,
   "metadata": {},
   "outputs": [
    {
     "data": {
      "text/html": [
       "<div>\n",
       "<style scoped>\n",
       "    .dataframe tbody tr th:only-of-type {\n",
       "        vertical-align: middle;\n",
       "    }\n",
       "\n",
       "    .dataframe tbody tr th {\n",
       "        vertical-align: top;\n",
       "    }\n",
       "\n",
       "    .dataframe thead th {\n",
       "        text-align: right;\n",
       "    }\n",
       "</style>\n",
       "<table border=\"1\" class=\"dataframe\">\n",
       "  <thead>\n",
       "    <tr style=\"text-align: right;\">\n",
       "      <th></th>\n",
       "      <th>Coordinates</th>\n",
       "    </tr>\n",
       "  </thead>\n",
       "  <tbody>\n",
       "    <tr>\n",
       "      <th>6</th>\n",
       "      <td>v 1 -114315309 34133550</td>\n",
       "    </tr>\n",
       "    <tr>\n",
       "      <th>7</th>\n",
       "      <td>v 2 -114223946 34176221</td>\n",
       "    </tr>\n",
       "    <tr>\n",
       "      <th>8</th>\n",
       "      <td>v 3 -114307299 34148791</td>\n",
       "    </tr>\n",
       "  </tbody>\n",
       "</table>\n",
       "</div>"
      ],
      "text/plain": [
       "               Coordinates\n",
       "6  v 1 -114315309 34133550\n",
       "7  v 2 -114223946 34176221\n",
       "8  v 3 -114307299 34148791"
      ]
     },
     "execution_count": 11,
     "metadata": {},
     "output_type": "execute_result"
    }
   ],
   "source": [
    "df_c = pd.read_csv('./DATA/Coordinates',header=0, sep=',',\n",
    "                index_col=None, encoding = \"ISO-8859-1\")\n",
    "df_c.columns=[\"Coordinates\"]\n",
    "df_c.drop([0,1,2,3,4,5],inplace=True)\n",
    "df_c.head(3)"
   ]
  },
  {
   "cell_type": "code",
   "execution_count": 12,
   "metadata": {},
   "outputs": [
    {
     "data": {
      "text/html": [
       "<div>\n",
       "<style scoped>\n",
       "    .dataframe tbody tr th:only-of-type {\n",
       "        vertical-align: middle;\n",
       "    }\n",
       "\n",
       "    .dataframe tbody tr th {\n",
       "        vertical-align: top;\n",
       "    }\n",
       "\n",
       "    .dataframe thead th {\n",
       "        text-align: right;\n",
       "    }\n",
       "</style>\n",
       "<table border=\"1\" class=\"dataframe\">\n",
       "  <thead>\n",
       "    <tr style=\"text-align: right;\">\n",
       "      <th></th>\n",
       "      <th>v</th>\n",
       "      <th>Node_ID</th>\n",
       "      <th>long</th>\n",
       "      <th>lat</th>\n",
       "    </tr>\n",
       "  </thead>\n",
       "  <tbody>\n",
       "    <tr>\n",
       "      <th>0</th>\n",
       "      <td>v</td>\n",
       "      <td>1</td>\n",
       "      <td>-114315309</td>\n",
       "      <td>34133550</td>\n",
       "    </tr>\n",
       "    <tr>\n",
       "      <th>1</th>\n",
       "      <td>v</td>\n",
       "      <td>2</td>\n",
       "      <td>-114223946</td>\n",
       "      <td>34176221</td>\n",
       "    </tr>\n",
       "    <tr>\n",
       "      <th>2</th>\n",
       "      <td>v</td>\n",
       "      <td>3</td>\n",
       "      <td>-114307299</td>\n",
       "      <td>34148791</td>\n",
       "    </tr>\n",
       "    <tr>\n",
       "      <th>3</th>\n",
       "      <td>v</td>\n",
       "      <td>4</td>\n",
       "      <td>-114318765</td>\n",
       "      <td>34138889</td>\n",
       "    </tr>\n",
       "    <tr>\n",
       "      <th>4</th>\n",
       "      <td>v</td>\n",
       "      <td>5</td>\n",
       "      <td>-114347300</td>\n",
       "      <td>34042614</td>\n",
       "    </tr>\n",
       "  </tbody>\n",
       "</table>\n",
       "</div>"
      ],
      "text/plain": [
       "   v  Node_ID       long       lat\n",
       "0  v        1 -114315309  34133550\n",
       "1  v        2 -114223946  34176221\n",
       "2  v        3 -114307299  34148791\n",
       "3  v        4 -114318765  34138889\n",
       "4  v        5 -114347300  34042614"
      ]
     },
     "execution_count": 12,
     "metadata": {},
     "output_type": "execute_result"
    }
   ],
   "source": [
    "df_c=df_c.Coordinates.str.split(\" \" , expand=True)\n",
    "df_c.columns=['v','Node_ID','long','lat']\n",
    "df_c['Node_ID']=pd.to_numeric(df_c['Node_ID'])\n",
    "df_c['long']=pd.to_numeric(df_c['long'])\n",
    "df_c['lat']=pd.to_numeric(df_c['lat'])\n",
    "df_c=df_c.reset_index(drop=True)\n",
    "df_c.head(5)"
   ]
  },
  {
   "cell_type": "code",
   "execution_count": 13,
   "metadata": {},
   "outputs": [],
   "source": [
    "df_c['lat']=df_c['lat']/1000000\n",
    "df_c['long']=df_c['long']/1000000"
   ]
  },
  {
   "cell_type": "code",
   "execution_count": 14,
   "metadata": {},
   "outputs": [
    {
     "data": {
      "text/html": [
       "<div>\n",
       "<style scoped>\n",
       "    .dataframe tbody tr th:only-of-type {\n",
       "        vertical-align: middle;\n",
       "    }\n",
       "\n",
       "    .dataframe tbody tr th {\n",
       "        vertical-align: top;\n",
       "    }\n",
       "\n",
       "    .dataframe thead th {\n",
       "        text-align: right;\n",
       "    }\n",
       "</style>\n",
       "<table border=\"1\" class=\"dataframe\">\n",
       "  <thead>\n",
       "    <tr style=\"text-align: right;\">\n",
       "      <th></th>\n",
       "      <th>v</th>\n",
       "      <th>Node_ID</th>\n",
       "      <th>long</th>\n",
       "      <th>lat</th>\n",
       "    </tr>\n",
       "  </thead>\n",
       "  <tbody>\n",
       "    <tr>\n",
       "      <th>0</th>\n",
       "      <td>v</td>\n",
       "      <td>1</td>\n",
       "      <td>-114.315309</td>\n",
       "      <td>34.133550</td>\n",
       "    </tr>\n",
       "    <tr>\n",
       "      <th>1</th>\n",
       "      <td>v</td>\n",
       "      <td>2</td>\n",
       "      <td>-114.223946</td>\n",
       "      <td>34.176221</td>\n",
       "    </tr>\n",
       "    <tr>\n",
       "      <th>2</th>\n",
       "      <td>v</td>\n",
       "      <td>3</td>\n",
       "      <td>-114.307299</td>\n",
       "      <td>34.148791</td>\n",
       "    </tr>\n",
       "    <tr>\n",
       "      <th>3</th>\n",
       "      <td>v</td>\n",
       "      <td>4</td>\n",
       "      <td>-114.318765</td>\n",
       "      <td>34.138889</td>\n",
       "    </tr>\n",
       "  </tbody>\n",
       "</table>\n",
       "</div>"
      ],
      "text/plain": [
       "   v  Node_ID        long        lat\n",
       "0  v        1 -114.315309  34.133550\n",
       "1  v        2 -114.223946  34.176221\n",
       "2  v        3 -114.307299  34.148791\n",
       "3  v        4 -114.318765  34.138889"
      ]
     },
     "execution_count": 14,
     "metadata": {},
     "output_type": "execute_result"
    }
   ],
   "source": [
    "df_c.head(4)"
   ]
  },
  {
   "cell_type": "code",
   "execution_count": 15,
   "metadata": {},
   "outputs": [
    {
     "data": {
      "text/html": [
       "<div>\n",
       "<style scoped>\n",
       "    .dataframe tbody tr th:only-of-type {\n",
       "        vertical-align: middle;\n",
       "    }\n",
       "\n",
       "    .dataframe tbody tr th {\n",
       "        vertical-align: top;\n",
       "    }\n",
       "\n",
       "    .dataframe thead th {\n",
       "        text-align: right;\n",
       "    }\n",
       "</style>\n",
       "<table border=\"1\" class=\"dataframe\">\n",
       "  <thead>\n",
       "    <tr style=\"text-align: right;\">\n",
       "      <th></th>\n",
       "      <th>v</th>\n",
       "      <th>Node_ID</th>\n",
       "      <th>long</th>\n",
       "      <th>lat</th>\n",
       "      <th>a</th>\n",
       "      <th>Node1</th>\n",
       "      <th>Node2</th>\n",
       "      <th>Distance</th>\n",
       "    </tr>\n",
       "  </thead>\n",
       "  <tbody>\n",
       "    <tr>\n",
       "      <th>0</th>\n",
       "      <td>v</td>\n",
       "      <td>228</td>\n",
       "      <td>-114.033229</td>\n",
       "      <td>33.953738</td>\n",
       "      <td>a</td>\n",
       "      <td>1048832</td>\n",
       "      <td>228</td>\n",
       "      <td>1957</td>\n",
       "    </tr>\n",
       "    <tr>\n",
       "      <th>1</th>\n",
       "      <td>v</td>\n",
       "      <td>228</td>\n",
       "      <td>-114.033229</td>\n",
       "      <td>33.953738</td>\n",
       "      <td>a</td>\n",
       "      <td>1048832</td>\n",
       "      <td>228</td>\n",
       "      <td>1957</td>\n",
       "    </tr>\n",
       "    <tr>\n",
       "      <th>2</th>\n",
       "      <td>v</td>\n",
       "      <td>228</td>\n",
       "      <td>-114.033229</td>\n",
       "      <td>33.953738</td>\n",
       "      <td>a</td>\n",
       "      <td>1048832</td>\n",
       "      <td>228</td>\n",
       "      <td>1957</td>\n",
       "    </tr>\n",
       "    <tr>\n",
       "      <th>3</th>\n",
       "      <td>v</td>\n",
       "      <td>228</td>\n",
       "      <td>-114.033229</td>\n",
       "      <td>33.953738</td>\n",
       "      <td>a</td>\n",
       "      <td>1048832</td>\n",
       "      <td>228</td>\n",
       "      <td>1957</td>\n",
       "    </tr>\n",
       "    <tr>\n",
       "      <th>4</th>\n",
       "      <td>v</td>\n",
       "      <td>300</td>\n",
       "      <td>-114.030468</td>\n",
       "      <td>33.955685</td>\n",
       "      <td>a</td>\n",
       "      <td>1048816</td>\n",
       "      <td>300</td>\n",
       "      <td>1018</td>\n",
       "    </tr>\n",
       "  </tbody>\n",
       "</table>\n",
       "</div>"
      ],
      "text/plain": [
       "   v  Node_ID        long        lat  a    Node1  Node2  Distance\n",
       "0  v      228 -114.033229  33.953738  a  1048832    228      1957\n",
       "1  v      228 -114.033229  33.953738  a  1048832    228      1957\n",
       "2  v      228 -114.033229  33.953738  a  1048832    228      1957\n",
       "3  v      228 -114.033229  33.953738  a  1048832    228      1957\n",
       "4  v      300 -114.030468  33.955685  a  1048816    300      1018"
      ]
     },
     "execution_count": 15,
     "metadata": {},
     "output_type": "execute_result"
    }
   ],
   "source": [
    "out_df_cor=pd.merge(df_c,out_df, right_on=\"Node2\", left_on='Node_ID' )\n",
    "out_df_cor.head(5)"
   ]
  },
  {
   "cell_type": "code",
   "execution_count": 16,
   "metadata": {},
   "outputs": [],
   "source": [
    "out_df_cor=out_df_cor.drop_duplicates()"
   ]
  },
  {
   "cell_type": "code",
   "execution_count": 17,
   "metadata": {},
   "outputs": [
    {
     "data": {
      "text/html": [
       "<div>\n",
       "<style scoped>\n",
       "    .dataframe tbody tr th:only-of-type {\n",
       "        vertical-align: middle;\n",
       "    }\n",
       "\n",
       "    .dataframe tbody tr th {\n",
       "        vertical-align: top;\n",
       "    }\n",
       "\n",
       "    .dataframe thead th {\n",
       "        text-align: right;\n",
       "    }\n",
       "</style>\n",
       "<table border=\"1\" class=\"dataframe\">\n",
       "  <thead>\n",
       "    <tr style=\"text-align: right;\">\n",
       "      <th></th>\n",
       "      <th>v</th>\n",
       "      <th>Node_ID</th>\n",
       "      <th>long</th>\n",
       "      <th>lat</th>\n",
       "      <th>a</th>\n",
       "      <th>Node1</th>\n",
       "      <th>Node2</th>\n",
       "      <th>Distance</th>\n",
       "    </tr>\n",
       "  </thead>\n",
       "  <tbody>\n",
       "    <tr>\n",
       "      <th>0</th>\n",
       "      <td>v</td>\n",
       "      <td>228</td>\n",
       "      <td>-114.033229</td>\n",
       "      <td>33.953738</td>\n",
       "      <td>a</td>\n",
       "      <td>1048832</td>\n",
       "      <td>228</td>\n",
       "      <td>1957</td>\n",
       "    </tr>\n",
       "    <tr>\n",
       "      <th>4</th>\n",
       "      <td>v</td>\n",
       "      <td>300</td>\n",
       "      <td>-114.030468</td>\n",
       "      <td>33.955685</td>\n",
       "      <td>a</td>\n",
       "      <td>1048816</td>\n",
       "      <td>300</td>\n",
       "      <td>1018</td>\n",
       "    </tr>\n",
       "    <tr>\n",
       "      <th>7</th>\n",
       "      <td>v</td>\n",
       "      <td>300</td>\n",
       "      <td>-114.030468</td>\n",
       "      <td>33.955685</td>\n",
       "      <td>a</td>\n",
       "      <td>1048818</td>\n",
       "      <td>300</td>\n",
       "      <td>597</td>\n",
       "    </tr>\n",
       "    <tr>\n",
       "      <th>31</th>\n",
       "      <td>v</td>\n",
       "      <td>303</td>\n",
       "      <td>-114.029393</td>\n",
       "      <td>33.956453</td>\n",
       "      <td>a</td>\n",
       "      <td>1048818</td>\n",
       "      <td>303</td>\n",
       "      <td>711</td>\n",
       "    </tr>\n",
       "    <tr>\n",
       "      <th>45</th>\n",
       "      <td>v</td>\n",
       "      <td>303</td>\n",
       "      <td>-114.029393</td>\n",
       "      <td>33.956453</td>\n",
       "      <td>a</td>\n",
       "      <td>1048819</td>\n",
       "      <td>303</td>\n",
       "      <td>1577</td>\n",
       "    </tr>\n",
       "  </tbody>\n",
       "</table>\n",
       "</div>"
      ],
      "text/plain": [
       "    v  Node_ID        long        lat  a    Node1  Node2  Distance\n",
       "0   v      228 -114.033229  33.953738  a  1048832    228      1957\n",
       "4   v      300 -114.030468  33.955685  a  1048816    300      1018\n",
       "7   v      300 -114.030468  33.955685  a  1048818    300       597\n",
       "31  v      303 -114.029393  33.956453  a  1048818    303       711\n",
       "45  v      303 -114.029393  33.956453  a  1048819    303      1577"
      ]
     },
     "execution_count": 17,
     "metadata": {},
     "output_type": "execute_result"
    }
   ],
   "source": [
    "out_df_cor.head(5)"
   ]
  },
  {
   "cell_type": "code",
   "execution_count": 18,
   "metadata": {},
   "outputs": [],
   "source": [
    "lat=list(df_c['lat'].values)\n",
    "long=list(df_c['long'].values)\n",
    "m = folium.Map(location=[np.mean(lat),np.mean(long)],zoom_start=6)"
   ]
  },
  {
   "cell_type": "code",
   "execution_count": 19,
   "metadata": {},
   "outputs": [
    {
     "data": {
      "text/html": [
       "<div style=\"width:100%;\"><div style=\"position:relative;width:100%;height:0;padding-bottom:60%;\"><iframe src=\"data:text/html;charset=utf-8;base64,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\" style=\"position:absolute;width:100%;height:100%;left:0;top:0;border:none !important;\" allowfullscreen webkitallowfullscreen mozallowfullscreen></iframe></div></div>"
      ],
      "text/plain": [
       "<folium.folium.Map at 0xa67cee748>"
      ]
     },
     "execution_count": 19,
     "metadata": {},
     "output_type": "execute_result"
    }
   ],
   "source": [
    "m"
   ]
  },
  {
   "cell_type": "code",
   "execution_count": 20,
   "metadata": {},
   "outputs": [],
   "source": [
    "# plotting the starting node and node within the threshold\n",
    "for i in range(len(out_df_cor)):\n",
    "    folium.CircleMarker(location=[lat[i],long[i]],\n",
    "                        radius=5,\n",
    "                        popup=['Node_ID'],\n",
    "                        fill_color=\"#3db7e4\",\n",
    "                       ).add_to(m)"
   ]
  },
  {
   "cell_type": "code",
   "execution_count": 21,
   "metadata": {},
   "outputs": [
    {
     "data": {
      "text/html": [
       "<div style=\"width:100%;\"><div style=\"position:relative;width:100%;height:0;padding-bottom:60%;\"><iframe src=\"data:text/html;charset=utf-8;base64,PCFET0NUWVBFIGh0bWw+CjxoZWFkPiAgICAKICAgIDxtZXRhIGh0dHAtZXF1aXY9ImNvbnRlbnQtdHlwZSIgY29udGVudD0idGV4dC9odG1sOyBjaGFyc2V0PVVURi04IiAvPgogICAgCiAgICAgICAgPHNjcmlwdD4KICAgICAgICAgICAgTF9OT19UT1VDSCA9IGZhbHNlOwogICAgICAgICAgICBMX0RJU0FCTEVfM0QgPSBmYWxzZTsKICAgICAgICA8L3NjcmlwdD4KICAgIAogICAgPHNjcmlwdCBzcmM9Imh0dHBzOi8vY2RuLmpzZGVsaXZyLm5ldC9ucG0vbGVhZmxldEAxLjUuMS9kaXN0L2xlYWZsZXQuanMiPjwvc2NyaXB0PgogICAgPHNjcmlwdCBzcmM9Imh0dHBzOi8vY29kZS5qcXVlcnkuY29tL2pxdWVyeS0xLjEyLjQubWluLmpzIj48L3NjcmlwdD4KICAgIDxzY3JpcHQgc3JjPSJodHRwczovL21heGNkbi5ib290c3RyYXBjZG4uY29tL2Jvb3RzdHJhcC8zLjIuMC9qcy9ib290c3RyYXAubWluLmpzIj48L3NjcmlwdD4KICAgIDxzY3JpcHQgc3JjPSJodHRwczovL2NkbmpzLmNsb3VkZmxhcmUuY29tL2FqYXgvbGlicy9MZWFmbGV0LmF3ZXNvbWUtbWFya2Vycy8yLjAuMi9sZWFmbGV0LmF3ZXNvbWUtbWFya2Vycy5qcyI+PC9zY3JpcHQ+CiAgICA8bGluayByZWw9InN0eWxlc2hlZXQiIGhyZWY9Imh0dHBzOi8vY2RuLmpzZGVsaXZyLm5ldC9ucG0vbGVhZmxldEAxLjUuMS9kaXN0L2xlYWZsZXQuY3NzIi8+CiAgICA8bGluayByZWw9InN0eWxlc2hlZXQiIGhyZWY9Imh0dHBzOi8vbWF4Y2RuLmJvb3RzdHJhcGNkbi5jb20vYm9vdHN0cmFwLzMuMi4wL2Nzcy9ib290c3RyYXAubWluLmNzcyIvPgogICAgPGxpbmsgcmVsPSJzdHlsZXNoZWV0IiBocmVmPSJodHRwczovL21heGNkbi5ib290c3RyYXBjZG4uY29tL2Jvb3RzdHJhcC8zLjIuMC9jc3MvYm9vdHN0cmFwLXRoZW1lLm1pbi5jc3MiLz4KICAgIDxsaW5rIHJlbD0ic3R5bGVzaGVldCIgaHJlZj0iaHR0cHM6Ly9tYXhjZG4uYm9vdHN0cmFwY2RuLmNvbS9mb250LWF3ZXNvbWUvNC42LjMvY3NzL2ZvbnQtYXdlc29tZS5taW4uY3NzIi8+CiAgICA8bGluayByZWw9InN0eWxlc2hlZXQiIGhyZWY9Imh0dHBzOi8vY2RuanMuY2xvdWRmbGFyZS5jb20vYWpheC9saWJzL0xlYWZsZXQuYXdlc29tZS1tYXJrZXJzLzIuMC4yL2xlYWZsZXQuYXdlc29tZS1tYXJrZXJzLmNzcyIvPgogICAgPGxpbmsgcmVsPSJzdHlsZXNoZWV0IiBocmVmPSJodHRwczovL3Jhd2Nkbi5naXRoYWNrLmNvbS9weXRob24tdmlzdWFsaXphdGlvbi9mb2xpdW0vbWFzdGVyL2ZvbGl1bS90ZW1wbGF0ZXMvbGVhZmxldC5hd2Vzb21lLnJvdGF0ZS5jc3MiLz4KICAgIDxzdHlsZT5odG1sLCBib2R5IHt3aWR0aDogMTAwJTtoZWlnaHQ6IDEwMCU7bWFyZ2luOiAwO3BhZGRpbmc6IDA7fTwvc3R5bGU+CiAgICA8c3R5bGU+I21hcCB7cG9zaXRpb246YWJzb2x1dGU7dG9wOjA7Ym90dG9tOjA7cmlnaHQ6MDtsZWZ0OjA7fTwvc3R5bGU+CiAgICAKICAgICAgICAgICAgPG1ldGEgbmFtZT0idmlld3BvcnQiIGNvbnRlbnQ9IndpZHRoPWRldmljZS13aWR0aCwKICAgICAgICAgICAgICAgIGluaXRpYWwtc2NhbGU9MS4wLCBtYXhpbXVtLXNjYWxlPTEuMCwgdXNlci1zY2FsYWJsZT1ubyIgLz4KICAgICAgICAgICAgPHN0eWxlPgogICAgICAgICAgICAgICAgI21hcF9iYTEwNWI2NTY5ZmQ0ODJkOGJmNjVmODAxZmUxZjhlNyB7CiAgICAgICAgICAgICAgICAgICAgcG9zaXRpb246IHJlbGF0aXZlOwogICAgICAgICAgICAgICAgICAgIHdpZHRoOiAxMDAuMCU7CiAgICAgICAgICAgICAgICAgICAgaGVpZ2h0OiAxMDAuMCU7CiAgICAgICAgICAgICAgICAgICAgbGVmdDogMC4wJTsKICAgICAgICAgICAgICAgICAgICB0b3A6IDAuMCU7CiAgICAgICAgICAgICAgICB9CiAgICAgICAgICAgIDwvc3R5bGU+CiAgICAgICAgCjwvaGVhZD4KPGJvZHk+ICAgIAogICAgCiAgICAgICAgICAgIDxkaXYgY2xhc3M9ImZvbGl1bS1tYXAiIGlkPSJtYXBfYmExMDViNjU2OWZkNDgyZDhiZjY1ZjgwMWZlMWY4ZTciID48L2Rpdj4KICAgICAgICAKPC9ib2R5Pgo8c2NyaXB0PiAgICAKICAgIAogICAgICAgICAgICB2YXIgbWFwX2JhMTA1YjY1NjlmZDQ4MmQ4YmY2NWY4MDFmZTFmOGU3ID0gTC5tYXAoCiAgICAgICAgICAgICAgICAibWFwX2JhMTA1YjY1NjlmZDQ4MmQ4YmY2NWY4MDFmZTFmOGU3IiwKICAgICAgICAgICAgICAgIHsKICAgICAgICAgICAgICAgICAgICBjZW50ZXI6IFszNi41ODYxNzI0NzY4Mjg3OCwgLTExOS4xNzU4OTc0NjE0MzY5Nl0sCiAgICAgICAgICAgICAgICAgICAgY3JzOiBMLkNSUy5FUFNHMzg1NywKICAgICAgICAgICAgICAgICAgICB6b29tOiA2LAogICAgICAgICAgICAgICAgICAgIHpvb21Db250cm9sOiB0cnVlLAogICAgICAgICAgICAgICAgICAgIHByZWZlckNhbnZhczogZmFsc2UsCiAgICAgICAgICAgICAgICB9CiAgICAgICAgICAgICk7CgogICAgICAgICAgICAKCiAgICAgICAgCiAgICAKICAgICAgICAgICAgdmFyIHRpbGVfbGF5ZXJfOTA3MTU3NjcwNDc2NDBlMGIzYmNlOThkYjRjYTcxYzggPSBMLnRpbGVMYXllcigKICAgICAgICAgICAgICAgICJodHRwczovL3tzfS50aWxlLm9wZW5zdHJlZXRtYXAub3JnL3t6fS97eH0ve3l9LnBuZyIsCiAgICAgICAgICAgICAgICB7ImF0dHJpYnV0aW9uIjogIkRhdGEgYnkgXHUwMDI2Y29weTsgXHUwMDNjYSBocmVmPVwiaHR0cDovL29wZW5zdHJlZXRtYXAub3JnXCJcdTAwM2VPcGVuU3RyZWV0TWFwXHUwMDNjL2FcdTAwM2UsIHVuZGVyIFx1MDAzY2EgaHJlZj1cImh0dHA6Ly93d3cub3BlbnN0cmVldG1hcC5vcmcvY29weXJpZ2h0XCJcdTAwM2VPRGJMXHUwMDNjL2FcdTAwM2UuIiwgImRldGVjdFJldGluYSI6IGZhbHNlLCAibWF4TmF0aXZlWm9vbSI6IDE4LCAibWF4Wm9vbSI6IDE4LCAibWluWm9vbSI6IDAsICJub1dyYXAiOiBmYWxzZSwgIm9wYWNpdHkiOiAxLCAic3ViZG9tYWlucyI6ICJhYmMiLCAidG1zIjogZmFsc2V9CiAgICAgICAgICAgICkuYWRkVG8obWFwX2JhMTA1YjY1NjlmZDQ4MmQ4YmY2NWY4MDFmZTFmOGU3KTsKICAgICAgICAKICAgIAogICAgICAgICAgICB2YXIgY2lyY2xlX21hcmtlcl81YzMwNWQ2Y2M2ZjQ0NjdkODAyMzNkZWQ0ZjcxMjE0MyA9IEwuY2lyY2xlTWFya2VyKAogICAgICAgICAgICAgICAgWzM0LjEzMzU1LCAtMTE0LjMxNTMwOV0sCiAgICAgICAgICAgICAgICB7ImJ1YmJsaW5nTW91c2VFdmVudHMiOiB0cnVlLCAiY29sb3IiOiAiIzMzODhmZiIsICJkYXNoQXJyYXkiOiBudWxsLCAiZGFzaE9mZnNldCI6IG51bGwsICJmaWxsIjogdHJ1ZSwgImZpbGxDb2xvciI6ICIjM2RiN2U0IiwgImZpbGxPcGFjaXR5IjogMC4yLCAiZmlsbFJ1bGUiOiAiZXZlbm9kZCIsICJsaW5lQ2FwIjogInJvdW5kIiwgImxpbmVKb2luIjogInJvdW5kIiwgIm9wYWNpdHkiOiAxLjAsICJyYWRpdXMiOiA1LCAic3Ryb2tlIjogdHJ1ZSwgIndlaWdodCI6IDN9CiAgICAgICAgICAgICkuYWRkVG8obWFwX2JhMTA1YjY1NjlmZDQ4MmQ4YmY2NWY4MDFmZTFmOGU3KTsKICAgICAgICAKICAgIAogICAgICAgIHZhciBwb3B1cF80MTRhZmU4MjQ3NGI0OTMwYWMzNjU0YzUwNTUwMGM3NiA9IEwucG9wdXAoeyJtYXhXaWR0aCI6ICIxMDAlIn0pOwoKICAgICAgICAKICAgICAgICAgICAgdmFyIGh0bWxfOTY2MTEzMzNmZjRhNDFlODg5MWYwOGI1NmQxNWRlZWEgPSAkKGA8ZGl2IGlkPSJodG1sXzk2NjExMzMzZmY0YTQxZTg4OTFmMDhiNTZkMTVkZWVhIiBzdHlsZT0id2lkdGg6IDEwMC4wJTsgaGVpZ2h0OiAxMDAuMCU7Ij5bJ05vZGVfSUQnXTwvZGl2PmApWzBdOwogICAgICAgICAgICBwb3B1cF80MTRhZmU4MjQ3NGI0OTMwYWMzNjU0YzUwNTUwMGM3Ni5zZXRDb250ZW50KGh0bWxfOTY2MTEzMzNmZjRhNDFlODg5MWYwOGI1NmQxNWRlZWEpOwogICAgICAgIAoKICAgICAgICBjaXJjbGVfbWFya2VyXzVjMzA1ZDZjYzZmNDQ2N2Q4MDIzM2RlZDRmNzEyMTQzLmJpbmRQb3B1cChwb3B1cF80MTRhZmU4MjQ3NGI0OTMwYWMzNjU0YzUwNTUwMGM3NikKICAgICAgICA7CgogICAgICAgIAogICAgCiAgICAKICAgICAgICAgICAgdmFyIGNpcmNsZV9tYXJrZXJfMDVhZTJmYTY5YjYzNDgxOGIxZDAzYzE2OTAwYzE3YWEgPSBMLmNpcmNsZU1hcmtlcigKICAgICAgICAgICAgICAgIFszNC4xNzYyMjEsIC0xMTQuMjIzOTQ2XSwKICAgICAgICAgICAgICAgIHsiYnViYmxpbmdNb3VzZUV2ZW50cyI6IHRydWUsICJjb2xvciI6ICIjMzM4OGZmIiwgImRhc2hBcnJheSI6IG51bGwsICJkYXNoT2Zmc2V0IjogbnVsbCwgImZpbGwiOiB0cnVlLCAiZmlsbENvbG9yIjogIiMzZGI3ZTQiLCAiZmlsbE9wYWNpdHkiOiAwLjIsICJmaWxsUnVsZSI6ICJldmVub2RkIiwgImxpbmVDYXAiOiAicm91bmQiLCAibGluZUpvaW4iOiAicm91bmQiLCAib3BhY2l0eSI6IDEuMCwgInJhZGl1cyI6IDUsICJzdHJva2UiOiB0cnVlLCAid2VpZ2h0IjogM30KICAgICAgICAgICAgKS5hZGRUbyhtYXBfYmExMDViNjU2OWZkNDgyZDhiZjY1ZjgwMWZlMWY4ZTcpOwogICAgICAgIAogICAgCiAgICAgICAgdmFyIHBvcHVwX2ViZTM1ZDEzNGRkYjRmZDk4MDI4YzA4ZTlkMjdjZjhiID0gTC5wb3B1cCh7Im1heFdpZHRoIjogIjEwMCUifSk7CgogICAgICAgIAogICAgICAgICAgICB2YXIgaHRtbF84YzQ1ZGViYjdlZjA0ZDYzOGVmYTJmNzFmNTZmZTcwNCA9ICQoYDxkaXYgaWQ9Imh0bWxfOGM0NWRlYmI3ZWYwNGQ2MzhlZmEyZjcxZjU2ZmU3MDQiIHN0eWxlPSJ3aWR0aDogMTAwLjAlOyBoZWlnaHQ6IDEwMC4wJTsiPlsnTm9kZV9JRCddPC9kaXY+YClbMF07CiAgICAgICAgICAgIHBvcHVwX2ViZTM1ZDEzNGRkYjRmZDk4MDI4YzA4ZTlkMjdjZjhiLnNldENvbnRlbnQoaHRtbF84YzQ1ZGViYjdlZjA0ZDYzOGVmYTJmNzFmNTZmZTcwNCk7CiAgICAgICAgCgogICAgICAgIGNpcmNsZV9tYXJrZXJfMDVhZTJmYTY5YjYzNDgxOGIxZDAzYzE2OTAwYzE3YWEuYmluZFBvcHVwKHBvcHVwX2ViZTM1ZDEzNGRkYjRmZDk4MDI4YzA4ZTlkMjdjZjhiKQogICAgICAgIDsKCiAgICAgICAgCiAgICAKICAgIAogICAgICAgICAgICB2YXIgY2lyY2xlX21hcmtlcl81MTEyNDYyZjJhODM0ZDdiYjhjNjRhYzM5NjJmYmJlNyA9IEwuY2lyY2xlTWFya2VyKAogICAgICAgICAgICAgICAgWzM0LjE0ODc5MSwgLTExNC4zMDcyOTldLAogICAgICAgICAgICAgICAgeyJidWJibGluZ01vdXNlRXZlbnRzIjogdHJ1ZSwgImNvbG9yIjogIiMzMzg4ZmYiLCAiZGFzaEFycmF5IjogbnVsbCwgImRhc2hPZmZzZXQiOiBudWxsLCAiZmlsbCI6IHRydWUsICJmaWxsQ29sb3IiOiAiIzNkYjdlNCIsICJmaWxsT3BhY2l0eSI6IDAuMiwgImZpbGxSdWxlIjogImV2ZW5vZGQiLCAibGluZUNhcCI6ICJyb3VuZCIsICJsaW5lSm9pbiI6ICJyb3VuZCIsICJvcGFjaXR5IjogMS4wLCAicmFkaXVzIjogNSwgInN0cm9rZSI6IHRydWUsICJ3ZWlnaHQiOiAzfQogICAgICAgICAgICApLmFkZFRvKG1hcF9iYTEwNWI2NTY5ZmQ0ODJkOGJmNjVmODAxZmUxZjhlNyk7CiAgICAgICAgCiAgICAKICAgICAgICB2YXIgcG9wdXBfNzI5OTgwNjI0OTllNDczZDk0ODg1NGIwNTdmODM2MjMgPSBMLnBvcHVwKHsibWF4V2lkdGgiOiAiMTAwJSJ9KTsKCiAgICAgICAgCiAgICAgICAgICAgIHZhciBodG1sXzZmMTJiYzBkZjQ2YjQ3OTRiMzJkOGU5N2JlZDZiYTJjID0gJChgPGRpdiBpZD0iaHRtbF82ZjEyYmMwZGY0NmI0Nzk0YjMyZDhlOTdiZWQ2YmEyYyIgc3R5bGU9IndpZHRoOiAxMDAuMCU7IGhlaWdodDogMTAwLjAlOyI+WydOb2RlX0lEJ108L2Rpdj5gKVswXTsKICAgICAgICAgICAgcG9wdXBfNzI5OTgwNjI0OTllNDczZDk0ODg1NGIwNTdmODM2MjMuc2V0Q29udGVudChodG1sXzZmMTJiYzBkZjQ2YjQ3OTRiMzJkOGU5N2JlZDZiYTJjKTsKICAgICAgICAKCiAgICAgICAgY2lyY2xlX21hcmtlcl81MTEyNDYyZjJhODM0ZDdiYjhjNjRhYzM5NjJmYmJlNy5iaW5kUG9wdXAocG9wdXBfNzI5OTgwNjI0OTllNDczZDk0ODg1NGIwNTdmODM2MjMpCiAgICAgICAgOwoKICAgICAgICAKICAgIAogICAgCiAgICAgICAgICAgIHZhciBjaXJjbGVfbWFya2VyX2NmZjg5ODM2NmUyYTRkMTE4NjRlZWU4OWYwZmE3MmMwID0gTC5jaXJjbGVNYXJrZXIoCiAgICAgICAgICAgICAgICBbMzQuMTM4ODg5LCAtMTE0LjMxODc2NV0sCiAgICAgICAgICAgICAgICB7ImJ1YmJsaW5nTW91c2VFdmVudHMiOiB0cnVlLCAiY29sb3IiOiAiIzMzODhmZiIsICJkYXNoQXJyYXkiOiBudWxsLCAiZGFzaE9mZnNldCI6IG51bGwsICJmaWxsIjogdHJ1ZSwgImZpbGxDb2xvciI6ICIjM2RiN2U0IiwgImZpbGxPcGFjaXR5IjogMC4yLCAiZmlsbFJ1bGUiOiAiZXZlbm9kZCIsICJsaW5lQ2FwIjogInJvdW5kIiwgImxpbmVKb2luIjogInJvdW5kIiwgIm9wYWNpdHkiOiAxLjAsICJyYWRpdXMiOiA1LCAic3Ryb2tlIjogdHJ1ZSwgIndlaWdodCI6IDN9CiAgICAgICAgICAgICkuYWRkVG8obWFwX2JhMTA1YjY1NjlmZDQ4MmQ4YmY2NWY4MDFmZTFmOGU3KTsKICAgICAgICAKICAgIAogICAgICAgIHZhciBwb3B1cF84YjZjMGQ1MzlkMzc0ODA0OWI4YzgzMDQyZjZiMjJkZiA9IEwucG9wdXAoeyJtYXhXaWR0aCI6ICIxMDAlIn0pOwoKICAgICAgICAKICAgICAgICAgICAgdmFyIGh0bWxfM2Q5ZTU3MDE2OWFjNDA1MGJmM2IzOGJjN2FjMzU0OTAgPSAkKGA8ZGl2IGlkPSJodG1sXzNkOWU1NzAxNjlhYzQwNTBiZjNiMzhiYzdhYzM1NDkwIiBzdHlsZT0id2lkdGg6IDEwMC4wJTsgaGVpZ2h0OiAxMDAuMCU7Ij5bJ05vZGVfSUQnXTwvZGl2PmApWzBdOwogICAgICAgICAgICBwb3B1cF84YjZjMGQ1MzlkMzc0ODA0OWI4YzgzMDQyZjZiMjJkZi5zZXRDb250ZW50KGh0bWxfM2Q5ZTU3MDE2OWFjNDA1MGJmM2IzOGJjN2FjMzU0OTApOwogICAgICAgIAoKICAgICAgICBjaXJjbGVfbWFya2VyX2NmZjg5ODM2NmUyYTRkMTE4NjRlZWU4OWYwZmE3MmMwLmJpbmRQb3B1cChwb3B1cF84YjZjMGQ1MzlkMzc0ODA0OWI4YzgzMDQyZjZiMjJkZikKICAgICAgICA7CgogICAgICAgIAogICAgCiAgICAKICAgICAgICAgICAgdmFyIGNpcmNsZV9tYXJrZXJfYzlhMzgxOWMzNDE3NDNlZWFkNmRmOTliOWMxNWUzODEgPSBMLmNpcmNsZU1hcmtlcigKICAgICAgICAgICAgICAgIFszNC4wNDI2MTQsIC0xMTQuMzQ3M10sCiAgICAgICAgICAgICAgICB7ImJ1YmJsaW5nTW91c2VFdmVudHMiOiB0cnVlLCAiY29sb3IiOiAiIzMzODhmZiIsICJkYXNoQXJyYXkiOiBudWxsLCAiZGFzaE9mZnNldCI6IG51bGwsICJmaWxsIjogdHJ1ZSwgImZpbGxDb2xvciI6ICIjM2RiN2U0IiwgImZpbGxPcGFjaXR5IjogMC4yLCAiZmlsbFJ1bGUiOiAiZXZlbm9kZCIsICJsaW5lQ2FwIjogInJvdW5kIiwgImxpbmVKb2luIjogInJvdW5kIiwgIm9wYWNpdHkiOiAxLjAsICJyYWRpdXMiOiA1LCAic3Ryb2tlIjogdHJ1ZSwgIndlaWdodCI6IDN9CiAgICAgICAgICAgICkuYWRkVG8obWFwX2JhMTA1YjY1NjlmZDQ4MmQ4YmY2NWY4MDFmZTFmOGU3KTsKICAgICAgICAKICAgIAogICAgICAgIHZhciBwb3B1cF8wODJiNTk0NmMwZWQ0YTIwODlkNzgzNzI1MThkY2E4OSA9IEwucG9wdXAoeyJtYXhXaWR0aCI6ICIxMDAlIn0pOwoKICAgICAgICAKICAgICAgICAgICAgdmFyIGh0bWxfZGEzMTg5MjAyMjAzNDZhZWFmZTRjODhlNmMyZDFjN2YgPSAkKGA8ZGl2IGlkPSJodG1sX2RhMzE4OTIwMjIwMzQ2YWVhZmU0Yzg4ZTZjMmQxYzdmIiBzdHlsZT0id2lkdGg6IDEwMC4wJTsgaGVpZ2h0OiAxMDAuMCU7Ij5bJ05vZGVfSUQnXTwvZGl2PmApWzBdOwogICAgICAgICAgICBwb3B1cF8wODJiNTk0NmMwZWQ0YTIwODlkNzgzNzI1MThkY2E4OS5zZXRDb250ZW50KGh0bWxfZGEzMTg5MjAyMjAzNDZhZWFmZTRjODhlNmMyZDFjN2YpOwogICAgICAgIAoKICAgICAgICBjaXJjbGVfbWFya2VyX2M5YTM4MTljMzQxNzQzZWVhZDZkZjk5YjljMTVlMzgxLmJpbmRQb3B1cChwb3B1cF8wODJiNTk0NmMwZWQ0YTIwODlkNzgzNzI1MThkY2E4OSkKICAgICAgICA7CgogICAgICAgIAogICAgCiAgICAKICAgICAgICAgICAgdmFyIGNpcmNsZV9tYXJrZXJfZDVhYWNhNmJjNGQzNDA4MWJmMWQ2MzQ1NTlkODIxYWUgPSBMLmNpcmNsZU1hcmtlcigKICAgICAgICAgICAgICAgIFszNC4wNTg5MzEsIC0xMTQuMzQ3MTYyXSwKICAgICAgICAgICAgICAgIHsiYnViYmxpbmdNb3VzZUV2ZW50cyI6IHRydWUsICJjb2xvciI6ICIjMzM4OGZmIiwgImRhc2hBcnJheSI6IG51bGwsICJkYXNoT2Zmc2V0IjogbnVsbCwgImZpbGwiOiB0cnVlLCAiZmlsbENvbG9yIjogIiMzZGI3ZTQiLCAiZmlsbE9wYWNpdHkiOiAwLjIsICJmaWxsUnVsZSI6ICJldmVub2RkIiwgImxpbmVDYXAiOiAicm91bmQiLCAibGluZUpvaW4iOiAicm91bmQiLCAib3BhY2l0eSI6IDEuMCwgInJhZGl1cyI6IDUsICJzdHJva2UiOiB0cnVlLCAid2VpZ2h0IjogM30KICAgICAgICAgICAgKS5hZGRUbyhtYXBfYmExMDViNjU2OWZkNDgyZDhiZjY1ZjgwMWZlMWY4ZTcpOwogICAgICAgIAogICAgCiAgICAgICAgdmFyIHBvcHVwX2U0Y2MzNWM5OGI4YjQ2NWRiZDFlMmUxMjc3Zjc5NWQ0ID0gTC5wb3B1cCh7Im1heFdpZHRoIjogIjEwMCUifSk7CgogICAgICAgIAogICAgICAgICAgICB2YXIgaHRtbF8yNjQyYjY3N2NiMzA0YjRhODVmMGI5NmFiNWRlNWY0NSA9ICQoYDxkaXYgaWQ9Imh0bWxfMjY0MmI2NzdjYjMwNGI0YTg1ZjBiOTZhYjVkZTVmNDUiIHN0eWxlPSJ3aWR0aDogMTAwLjAlOyBoZWlnaHQ6IDEwMC4wJTsiPlsnTm9kZV9JRCddPC9kaXY+YClbMF07CiAgICAgICAgICAgIHBvcHVwX2U0Y2MzNWM5OGI4YjQ2NWRiZDFlMmUxMjc3Zjc5NWQ0LnNldENvbnRlbnQoaHRtbF8yNjQyYjY3N2NiMzA0YjRhODVmMGI5NmFiNWRlNWY0NSk7CiAgICAgICAgCgogICAgICAgIGNpcmNsZV9tYXJrZXJfZDVhYWNhNmJjNGQzNDA4MWJmMWQ2MzQ1NTlkODIxYWUuYmluZFBvcHVwKHBvcHVwX2U0Y2MzNWM5OGI4YjQ2NWRiZDFlMmUxMjc3Zjc5NWQ0KQogICAgICAgIDsKCiAgICAgICAgCiAgICAKICAgIAogICAgICAgICAgICB2YXIgY2lyY2xlX21hcmtlcl9lODQ4NDJjZTgxNDM0ZTJiYjMxYjc3MmRlYmVjY2MwZSA9IEwuY2lyY2xlTWFya2VyKAogICAgICAgICAgICAgICAgWzMzLjk4ODE3LCAtMTE0LjEyNjk1XSwKICAgICAgICAgICAgICAgIHsiYnViYmxpbmdNb3VzZUV2ZW50cyI6IHRydWUsICJjb2xvciI6ICIjMzM4OGZmIiwgImRhc2hBcnJheSI6IG51bGwsICJkYXNoT2Zmc2V0IjogbnVsbCwgImZpbGwiOiB0cnVlLCAiZmlsbENvbG9yIjogIiMzZGI3ZTQiLCAiZmlsbE9wYWNpdHkiOiAwLjIsICJmaWxsUnVsZSI6ICJldmVub2RkIiwgImxpbmVDYXAiOiAicm91bmQiLCAibGluZUpvaW4iOiAicm91bmQiLCAib3BhY2l0eSI6IDEuMCwgInJhZGl1cyI6IDUsICJzdHJva2UiOiB0cnVlLCAid2VpZ2h0IjogM30KICAgICAgICAgICAgKS5hZGRUbyhtYXBfYmExMDViNjU2OWZkNDgyZDhiZjY1ZjgwMWZlMWY4ZTcpOwogICAgICAgIAogICAgCiAgICAgICAgdmFyIHBvcHVwX2Y5NGRjN2JjM2EyMDRiMzdhZWRhMGRlMTFjNDMxYmVkID0gTC5wb3B1cCh7Im1heFdpZHRoIjogIjEwMCUifSk7CgogICAgICAgIAogICAgICAgICAgICB2YXIgaHRtbF84NzRjMTZlYWNmNTk0NDNmOTM0ODRhZDUzOTNjYWQ0OCA9ICQoYDxkaXYgaWQ9Imh0bWxfODc0YzE2ZWFjZjU5NDQzZjkzNDg0YWQ1MzkzY2FkNDgiIHN0eWxlPSJ3aWR0aDogMTAwLjAlOyBoZWlnaHQ6IDEwMC4wJTsiPlsnTm9kZV9JRCddPC9kaXY+YClbMF07CiAgICAgICAgICAgIHBvcHVwX2Y5NGRjN2JjM2EyMDRiMzdhZWRhMGRlMTFjNDMxYmVkLnNldENvbnRlbnQoaHRtbF84NzRjMTZlYWNmNTk0NDNmOTM0ODRhZDUzOTNjYWQ0OCk7CiAgICAgICAgCgogICAgICAgIGNpcmNsZV9tYXJrZXJfZTg0ODQyY2U4MTQzNGUyYmIzMWI3NzJkZWJlY2NjMGUuYmluZFBvcHVwKHBvcHVwX2Y5NGRjN2JjM2EyMDRiMzdhZWRhMGRlMTFjNDMxYmVkKQogICAgICAgIDsKCiAgICAgICAgCiAgICAKICAgIAogICAgICAgICAgICB2YXIgY2lyY2xlX21hcmtlcl83MmM4ODZmMTlhZjI0Yjg4YjM1MjMxNjFhMWU3OGMwNiA9IEwuY2lyY2xlTWFya2VyKAogICAgICAgICAgICAgICAgWzM0LjAyODI2MSwgLTExNC4zNDcyNjhdLAogICAgICAgICAgICAgICAgeyJidWJibGluZ01vdXNlRXZlbnRzIjogdHJ1ZSwgImNvbG9yIjogIiMzMzg4ZmYiLCAiZGFzaEFycmF5IjogbnVsbCwgImRhc2hPZmZzZXQiOiBudWxsLCAiZmlsbCI6IHRydWUsICJmaWxsQ29sb3IiOiAiIzNkYjdlNCIsICJmaWxsT3BhY2l0eSI6IDAuMiwgImZpbGxSdWxlIjogImV2ZW5vZGQiLCAibGluZUNhcCI6ICJyb3VuZCIsICJsaW5lSm9pbiI6ICJyb3VuZCIsICJvcGFjaXR5IjogMS4wLCAicmFkaXVzIjogNSwgInN0cm9rZSI6IHRydWUsICJ3ZWlnaHQiOiAzfQogICAgICAgICAgICApLmFkZFRvKG1hcF9iYTEwNWI2NTY5ZmQ0ODJkOGJmNjVmODAxZmUxZjhlNyk7CiAgICAgICAgCiAgICAKICAgICAgICB2YXIgcG9wdXBfYzIyMzcyYjMwYjllNDExNDg5OWJkYmYwZGVjYWNhM2MgPSBMLnBvcHVwKHsibWF4V2lkdGgiOiAiMTAwJSJ9KTsKCiAgICAgICAgCiAgICAgICAgICAgIHZhciBodG1sXzQ5YTc0N2M1NGQzNDQ5ZTI5NDE5M2I0ZTNlMzMzODU2ID0gJChgPGRpdiBpZD0iaHRtbF80OWE3NDdjNTRkMzQ0OWUyOTQxOTNiNGUzZTMzMzg1NiIgc3R5bGU9IndpZHRoOiAxMDAuMCU7IGhlaWdodDogMTAwLjAlOyI+WydOb2RlX0lEJ108L2Rpdj5gKVswXTsKICAgICAgICAgICAgcG9wdXBfYzIyMzcyYjMwYjllNDExNDg5OWJkYmYwZGVjYWNhM2Muc2V0Q29udGVudChodG1sXzQ5YTc0N2M1NGQzNDQ5ZTI5NDE5M2I0ZTNlMzMzODU2KTsKICAgICAgICAKCiAgICAgICAgY2lyY2xlX21hcmtlcl83MmM4ODZmMTlhZjI0Yjg4YjM1MjMxNjFhMWU3OGMwNi5iaW5kUG9wdXAocG9wdXBfYzIyMzcyYjMwYjllNDExNDg5OWJkYmYwZGVjYWNhM2MpCiAgICAgICAgOwoKICAgICAgICAKICAgIAogICAgCiAgICAgICAgICAgIHZhciBjaXJjbGVfbWFya2VyXzFjMTA4NjRlOTc3ZjQ2YjRiNjFiZGUzYjkyNTRkNDMwID0gTC5jaXJjbGVNYXJrZXIoCiAgICAgICAgICAgICAgICBbMzQuMDQyNTE5LCAtMTE0LjM0MDYxM10sCiAgICAgICAgICAgICAgICB7ImJ1YmJsaW5nTW91c2VFdmVudHMiOiB0cnVlLCAiY29sb3IiOiAiIzMzODhmZiIsICJkYXNoQXJyYXkiOiBudWxsLCAiZGFzaE9mZnNldCI6IG51bGwsICJmaWxsIjogdHJ1ZSwgImZpbGxDb2xvciI6ICIjM2RiN2U0IiwgImZpbGxPcGFjaXR5IjogMC4yLCAiZmlsbFJ1bGUiOiAiZXZlbm9kZCIsICJsaW5lQ2FwIjogInJvdW5kIiwgImxpbmVKb2luIjogInJvdW5kIiwgIm9wYWNpdHkiOiAxLjAsICJyYWRpdXMiOiA1LCAic3Ryb2tlIjogdHJ1ZSwgIndlaWdodCI6IDN9CiAgICAgICAgICAgICkuYWRkVG8obWFwX2JhMTA1YjY1NjlmZDQ4MmQ4YmY2NWY4MDFmZTFmOGU3KTsKICAgICAgICAKICAgIAogICAgICAgIHZhciBwb3B1cF82N2ZjODI4Y2I1Zjg0NTY4YjE3MDk2N2UwOTQzYzY0MCA9IEwucG9wdXAoeyJtYXhXaWR0aCI6ICIxMDAlIn0pOwoKICAgICAgICAKICAgICAgICAgICAgdmFyIGh0bWxfZjY5MDhjOTQ5ZjE5NGQzOGE0ODI2NWE0YzgxYmMzZTEgPSAkKGA8ZGl2IGlkPSJodG1sX2Y2OTA4Yzk0OWYxOTRkMzhhNDgyNjVhNGM4MWJjM2UxIiBzdHlsZT0id2lkdGg6IDEwMC4wJTsgaGVpZ2h0OiAxMDAuMCU7Ij5bJ05vZGVfSUQnXTwvZGl2PmApWzBdOwogICAgICAgICAgICBwb3B1cF82N2ZjODI4Y2I1Zjg0NTY4YjE3MDk2N2UwOTQzYzY0MC5zZXRDb250ZW50KGh0bWxfZjY5MDhjOTQ5ZjE5NGQzOGE0ODI2NWE0YzgxYmMzZTEpOwogICAgICAgIAoKICAgICAgICBjaXJjbGVfbWFya2VyXzFjMTA4NjRlOTc3ZjQ2YjRiNjFiZGUzYjkyNTRkNDMwLmJpbmRQb3B1cChwb3B1cF82N2ZjODI4Y2I1Zjg0NTY4YjE3MDk2N2UwOTQzYzY0MCkKICAgICAgICA7CgogICAgICAgIAogICAgCiAgICAKICAgICAgICAgICAgdmFyIGNpcmNsZV9tYXJrZXJfNGRmMTJkNGI1NzcyNDczYTk0ZTBjNDdjZGZhNTAyZDkgPSBMLmNpcmNsZU1hcmtlcigKICAgICAgICAgICAgICAgIFszNC4wNDI2NjQsIC0xMTQuMzI0ODU1XSwKICAgICAgICAgICAgICAgIHsiYnViYmxpbmdNb3VzZUV2ZW50cyI6IHRydWUsICJjb2xvciI6ICIjMzM4OGZmIiwgImRhc2hBcnJheSI6IG51bGwsICJkYXNoT2Zmc2V0IjogbnVsbCwgImZpbGwiOiB0cnVlLCAiZmlsbENvbG9yIjogIiMzZGI3ZTQiLCAiZmlsbE9wYWNpdHkiOiAwLjIsICJmaWxsUnVsZSI6ICJldmVub2RkIiwgImxpbmVDYXAiOiAicm91bmQiLCAibGluZUpvaW4iOiAicm91bmQiLCAib3BhY2l0eSI6IDEuMCwgInJhZGl1cyI6IDUsICJzdHJva2UiOiB0cnVlLCAid2VpZ2h0IjogM30KICAgICAgICAgICAgKS5hZGRUbyhtYXBfYmExMDViNjU2OWZkNDgyZDhiZjY1ZjgwMWZlMWY4ZTcpOwogICAgICAgIAogICAgCiAgICAgICAgdmFyIHBvcHVwXzA4OWYxNzc0M2Q2MDQ4NTdhOTU3ZjU0MTRkMzg2MTgxID0gTC5wb3B1cCh7Im1heFdpZHRoIjogIjEwMCUifSk7CgogICAgICAgIAogICAgICAgICAgICB2YXIgaHRtbF9lNWQ5NTIwNGJjZTU0Mzc5YjYwZTY2YmNjMzZlM2VhMiA9ICQoYDxkaXYgaWQ9Imh0bWxfZTVkOTUyMDRiY2U1NDM3OWI2MGU2NmJjYzM2ZTNlYTIiIHN0eWxlPSJ3aWR0aDogMTAwLjAlOyBoZWlnaHQ6IDEwMC4wJTsiPlsnTm9kZV9JRCddPC9kaXY+YClbMF07CiAgICAgICAgICAgIHBvcHVwXzA4OWYxNzc0M2Q2MDQ4NTdhOTU3ZjU0MTRkMzg2MTgxLnNldENvbnRlbnQoaHRtbF9lNWQ5NTIwNGJjZTU0Mzc5YjYwZTY2YmNjMzZlM2VhMik7CiAgICAgICAgCgogICAgICAgIGNpcmNsZV9tYXJrZXJfNGRmMTJkNGI1NzcyNDczYTk0ZTBjNDdjZGZhNTAyZDkuYmluZFBvcHVwKHBvcHVwXzA4OWYxNzc0M2Q2MDQ4NTdhOTU3ZjU0MTRkMzg2MTgxKQogICAgICAgIDsKCiAgICAgICAgCiAgICAKICAgIAogICAgICAgICAgICB2YXIgY2lyY2xlX21hcmtlcl81MzQxMjViNWVkMDk0ZmVlYmI3YmI0ZjVhNjIyZWE1MCA9IEwuY2lyY2xlTWFya2VyKAogICAgICAgICAgICAgICAgWzM0LjAzOTc4OCwgLTExNC4zMjExNTldLAogICAgICAgICAgICAgICAgeyJidWJibGluZ01vdXNlRXZlbnRzIjogdHJ1ZSwgImNvbG9yIjogIiMzMzg4ZmYiLCAiZGFzaEFycmF5IjogbnVsbCwgImRhc2hPZmZzZXQiOiBudWxsLCAiZmlsbCI6IHRydWUsICJmaWxsQ29sb3IiOiAiIzNkYjdlNCIsICJmaWxsT3BhY2l0eSI6IDAuMiwgImZpbGxSdWxlIjogImV2ZW5vZGQiLCAibGluZUNhcCI6ICJyb3VuZCIsICJsaW5lSm9pbiI6ICJyb3VuZCIsICJvcGFjaXR5IjogMS4wLCAicmFkaXVzIjogNSwgInN0cm9rZSI6IHRydWUsICJ3ZWlnaHQiOiAzfQogICAgICAgICAgICApLmFkZFRvKG1hcF9iYTEwNWI2NTY5ZmQ0ODJkOGJmNjVmODAxZmUxZjhlNyk7CiAgICAgICAgCiAgICAKICAgICAgICB2YXIgcG9wdXBfYzI0Y2M1OGY4YjU5NGM5YzljYjdkM2MwOTlhZDgxZjYgPSBMLnBvcHVwKHsibWF4V2lkdGgiOiAiMTAwJSJ9KTsKCiAgICAgICAgCiAgICAgICAgICAgIHZhciBodG1sXzA1OTYzODY4NzI4YzQxYTdhNDE0YzljYTFjNTlmMzU5ID0gJChgPGRpdiBpZD0iaHRtbF8wNTk2Mzg2ODcyOGM0MWE3YTQxNGM5Y2ExYzU5ZjM1OSIgc3R5bGU9IndpZHRoOiAxMDAuMCU7IGhlaWdodDogMTAwLjAlOyI+WydOb2RlX0lEJ108L2Rpdj5gKVswXTsKICAgICAgICAgICAgcG9wdXBfYzI0Y2M1OGY4YjU5NGM5YzljYjdkM2MwOTlhZDgxZjYuc2V0Q29udGVudChodG1sXzA1OTYzODY4NzI4YzQxYTdhNDE0YzljYTFjNTlmMzU5KTsKICAgICAgICAKCiAgICAgICAgY2lyY2xlX21hcmtlcl81MzQxMjViNWVkMDk0ZmVlYmI3YmI0ZjVhNjIyZWE1MC5iaW5kUG9wdXAocG9wdXBfYzI0Y2M1OGY4YjU5NGM5YzljYjdkM2MwOTlhZDgxZjYpCiAgICAgICAgOwoKICAgICAgICAKICAgIAogICAgCiAgICAgICAgICAgIHZhciBjaXJjbGVfbWFya2VyXzI4NWZlMzk3ODJiMTQ0ZjM5OGQ4MmNhMmFjNWNlNzcxID0gTC5jaXJjbGVNYXJrZXIoCiAgICAgICAgICAgICAgICBbMzMuNjE5NDA0LCAtMTE0LjI3NjQxNF0sCiAgICAgICAgICAgICAgICB7ImJ1YmJsaW5nTW91c2VFdmVudHMiOiB0cnVlLCAiY29sb3IiOiAiIzMzODhmZiIsICJkYXNoQXJyYXkiOiBudWxsLCAiZGFzaE9mZnNldCI6IG51bGwsICJmaWxsIjogdHJ1ZSwgImZpbGxDb2xvciI6ICIjM2RiN2U0IiwgImZpbGxPcGFjaXR5IjogMC4yLCAiZmlsbFJ1bGUiOiAiZXZlbm9kZCIsICJsaW5lQ2FwIjogInJvdW5kIiwgImxpbmVKb2luIjogInJvdW5kIiwgIm9wYWNpdHkiOiAxLjAsICJyYWRpdXMiOiA1LCAic3Ryb2tlIjogdHJ1ZSwgIndlaWdodCI6IDN9CiAgICAgICAgICAgICkuYWRkVG8obWFwX2JhMTA1YjY1NjlmZDQ4MmQ4YmY2NWY4MDFmZTFmOGU3KTsKICAgICAgICAKICAgIAogICAgICAgIHZhciBwb3B1cF82MmM4NjU4YmNkODc0YTU3OGRlMTM2NmJlNDBkZThlZCA9IEwucG9wdXAoeyJtYXhXaWR0aCI6ICIxMDAlIn0pOwoKICAgICAgICAKICAgICAgICAgICAgdmFyIGh0bWxfMzcwODQ5NGE0N2UxNDQyMTk1ZmMzZjcwMTk4ZjA0YWIgPSAkKGA8ZGl2IGlkPSJodG1sXzM3MDg0OTRhNDdlMTQ0MjE5NWZjM2Y3MDE5OGYwNGFiIiBzdHlsZT0id2lkdGg6IDEwMC4wJTsgaGVpZ2h0OiAxMDAuMCU7Ij5bJ05vZGVfSUQnXTwvZGl2PmApWzBdOwogICAgICAgICAgICBwb3B1cF82MmM4NjU4YmNkODc0YTU3OGRlMTM2NmJlNDBkZThlZC5zZXRDb250ZW50KGh0bWxfMzcwODQ5NGE0N2UxNDQyMTk1ZmMzZjcwMTk4ZjA0YWIpOwogICAgICAgIAoKICAgICAgICBjaXJjbGVfbWFya2VyXzI4NWZlMzk3ODJiMTQ0ZjM5OGQ4MmNhMmFjNWNlNzcxLmJpbmRQb3B1cChwb3B1cF82MmM4NjU4YmNkODc0YTU3OGRlMTM2NmJlNDBkZThlZCkKICAgICAgICA7CgogICAgICAgIAogICAgCiAgICAKICAgICAgICAgICAgdmFyIGNpcmNsZV9tYXJrZXJfZTExNjNjYmQ5ZWRmNDBiMmIyNWMxYzZlYzRiZThiMWYgPSBMLmNpcmNsZU1hcmtlcigKICAgICAgICAgICAgICAgIFszMy42MTc1NTQsIC0xMTQuMjczMjcyXSwKICAgICAgICAgICAgICAgIHsiYnViYmxpbmdNb3VzZUV2ZW50cyI6IHRydWUsICJjb2xvciI6ICIjMzM4OGZmIiwgImRhc2hBcnJheSI6IG51bGwsICJkYXNoT2Zmc2V0IjogbnVsbCwgImZpbGwiOiB0cnVlLCAiZmlsbENvbG9yIjogIiMzZGI3ZTQiLCAiZmlsbE9wYWNpdHkiOiAwLjIsICJmaWxsUnVsZSI6ICJldmVub2RkIiwgImxpbmVDYXAiOiAicm91bmQiLCAibGluZUpvaW4iOiAicm91bmQiLCAib3BhY2l0eSI6IDEuMCwgInJhZGl1cyI6IDUsICJzdHJva2UiOiB0cnVlLCAid2VpZ2h0IjogM30KICAgICAgICAgICAgKS5hZGRUbyhtYXBfYmExMDViNjU2OWZkNDgyZDhiZjY1ZjgwMWZlMWY4ZTcpOwogICAgICAgIAogICAgCiAgICAgICAgdmFyIHBvcHVwXzJiNDRjN2FjMjRiNDQwMGM4MmI4YTA4OGM4MDI4YjZhID0gTC5wb3B1cCh7Im1heFdpZHRoIjogIjEwMCUifSk7CgogICAgICAgIAogICAgICAgICAgICB2YXIgaHRtbF9lMjQyNjE4OGJlOWM0MTM2OWRmNDJlM2NmZTJiN2Y5YSA9ICQoYDxkaXYgaWQ9Imh0bWxfZTI0MjYxODhiZTljNDEzNjlkZjQyZTNjZmUyYjdmOWEiIHN0eWxlPSJ3aWR0aDogMTAwLjAlOyBoZWlnaHQ6IDEwMC4wJTsiPlsnTm9kZV9JRCddPC9kaXY+YClbMF07CiAgICAgICAgICAgIHBvcHVwXzJiNDRjN2FjMjRiNDQwMGM4MmI4YTA4OGM4MDI4YjZhLnNldENvbnRlbnQoaHRtbF9lMjQyNjE4OGJlOWM0MTM2OWRmNDJlM2NmZTJiN2Y5YSk7CiAgICAgICAgCgogICAgICAgIGNpcmNsZV9tYXJrZXJfZTExNjNjYmQ5ZWRmNDBiMmIyNWMxYzZlYzRiZThiMWYuYmluZFBvcHVwKHBvcHVwXzJiNDRjN2FjMjRiNDQwMGM4MmI4YTA4OGM4MDI4YjZhKQogICAgICAgIDsKCiAgICAgICAgCiAgICAKICAgIAogICAgICAgICAgICB2YXIgY2lyY2xlX21hcmtlcl8wYjVhNDFjMzQyYmY0ZDY0YTY1OTViMzQ3MjJjMWE5ZSA9IEwuY2lyY2xlTWFya2VyKAogICAgICAgICAgICAgICAgWzMzLjg3Nzk5OSwgLTExNC40OTQ2MzhdLAogICAgICAgICAgICAgICAgeyJidWJibGluZ01vdXNlRXZlbnRzIjogdHJ1ZSwgImNvbG9yIjogIiMzMzg4ZmYiLCAiZGFzaEFycmF5IjogbnVsbCwgImRhc2hPZmZzZXQiOiBudWxsLCAiZmlsbCI6IHRydWUsICJmaWxsQ29sb3IiOiAiIzNkYjdlNCIsICJmaWxsT3BhY2l0eSI6IDAuMiwgImZpbGxSdWxlIjogImV2ZW5vZGQiLCAibGluZUNhcCI6ICJyb3VuZCIsICJsaW5lSm9pbiI6ICJyb3VuZCIsICJvcGFjaXR5IjogMS4wLCAicmFkaXVzIjogNSwgInN0cm9rZSI6IHRydWUsICJ3ZWlnaHQiOiAzfQogICAgICAgICAgICApLmFkZFRvKG1hcF9iYTEwNWI2NTY5ZmQ0ODJkOGJmNjVmODAxZmUxZjhlNyk7CiAgICAgICAgCiAgICAKICAgICAgICB2YXIgcG9wdXBfMzc2ZGI2NWU5ZDEzNDMyMGE1M2UyMTEwN2RlZDYzNjMgPSBMLnBvcHVwKHsibWF4V2lkdGgiOiAiMTAwJSJ9KTsKCiAgICAgICAgCiAgICAgICAgICAgIHZhciBodG1sXzY5MzQ4NTYwYzY0OTRkZTU5NWExZTljYmMwOGZlYWEyID0gJChgPGRpdiBpZD0iaHRtbF82OTM0ODU2MGM2NDk0ZGU1OTVhMWU5Y2JjMDhmZWFhMiIgc3R5bGU9IndpZHRoOiAxMDAuMCU7IGhlaWdodDogMTAwLjAlOyI+WydOb2RlX0lEJ108L2Rpdj5gKVswXTsKICAgICAgICAgICAgcG9wdXBfMzc2ZGI2NWU5ZDEzNDMyMGE1M2UyMTEwN2RlZDYzNjMuc2V0Q29udGVudChodG1sXzY5MzQ4NTYwYzY0OTRkZTU5NWExZTljYmMwOGZlYWEyKTsKICAgICAgICAKCiAgICAgICAgY2lyY2xlX21hcmtlcl8wYjVhNDFjMzQyYmY0ZDY0YTY1OTViMzQ3MjJjMWE5ZS5iaW5kUG9wdXAocG9wdXBfMzc2ZGI2NWU5ZDEzNDMyMGE1M2UyMTEwN2RlZDYzNjMpCiAgICAgICAgOwoKICAgICAgICAKICAgIAogICAgCiAgICAgICAgICAgIHZhciBjaXJjbGVfbWFya2VyXzE5NTExMjgzNjI0MTQ5NDRhZjYzODgyYjdjMjIwZGM1ID0gTC5jaXJjbGVNYXJrZXIoCiAgICAgICAgICAgICAgICBbMzMuODUzODc3LCAtMTE0LjUyODMwMl0sCiAgICAgICAgICAgICAgICB7ImJ1YmJsaW5nTW91c2VFdmVudHMiOiB0cnVlLCAiY29sb3IiOiAiIzMzODhmZiIsICJkYXNoQXJyYXkiOiBudWxsLCAiZGFzaE9mZnNldCI6IG51bGwsICJmaWxsIjogdHJ1ZSwgImZpbGxDb2xvciI6ICIjM2RiN2U0IiwgImZpbGxPcGFjaXR5IjogMC4yLCAiZmlsbFJ1bGUiOiAiZXZlbm9kZCIsICJsaW5lQ2FwIjogInJvdW5kIiwgImxpbmVKb2luIjogInJvdW5kIiwgIm9wYWNpdHkiOiAxLjAsICJyYWRpdXMiOiA1LCAic3Ryb2tlIjogdHJ1ZSwgIndlaWdodCI6IDN9CiAgICAgICAgICAgICkuYWRkVG8obWFwX2JhMTA1YjY1NjlmZDQ4MmQ4YmY2NWY4MDFmZTFmOGU3KTsKICAgICAgICAKICAgIAogICAgICAgIHZhciBwb3B1cF9jNTllNWJlMmNkOGQ0ZjA5YjcwMTdjZTkwM2I5ZTM5NiA9IEwucG9wdXAoeyJtYXhXaWR0aCI6ICIxMDAlIn0pOwoKICAgICAgICAKICAgICAgICAgICAgdmFyIGh0bWxfMWZiZTI5Mjg4YzM4NDBlMThiY2FjMGFjMGY2MGExZTQgPSAkKGA8ZGl2IGlkPSJodG1sXzFmYmUyOTI4OGMzODQwZTE4YmNhYzBhYzBmNjBhMWU0IiBzdHlsZT0id2lkdGg6IDEwMC4wJTsgaGVpZ2h0OiAxMDAuMCU7Ij5bJ05vZGVfSUQnXTwvZGl2PmApWzBdOwogICAgICAgICAgICBwb3B1cF9jNTllNWJlMmNkOGQ0ZjA5YjcwMTdjZTkwM2I5ZTM5Ni5zZXRDb250ZW50KGh0bWxfMWZiZTI5Mjg4YzM4NDBlMThiY2FjMGFjMGY2MGExZTQpOwogICAgICAgIAoKICAgICAgICBjaXJjbGVfbWFya2VyXzE5NTExMjgzNjI0MTQ5NDRhZjYzODgyYjdjMjIwZGM1LmJpbmRQb3B1cChwb3B1cF9jNTllNWJlMmNkOGQ0ZjA5YjcwMTdjZTkwM2I5ZTM5NikKICAgICAgICA7CgogICAgICAgIAogICAgCiAgICAKICAgICAgICAgICAgdmFyIGNpcmNsZV9tYXJrZXJfZDdmODQ1MzNiZTc2NGU4NzgwNzViZjEwZjYwOTg5ZDYgPSBMLmNpcmNsZU1hcmtlcigKICAgICAgICAgICAgICAgIFszMy45MjY0NjksIC0xMTQuNDg1NzE3XSwKICAgICAgICAgICAgICAgIHsiYnViYmxpbmdNb3VzZUV2ZW50cyI6IHRydWUsICJjb2xvciI6ICIjMzM4OGZmIiwgImRhc2hBcnJheSI6IG51bGwsICJkYXNoT2Zmc2V0IjogbnVsbCwgImZpbGwiOiB0cnVlLCAiZmlsbENvbG9yIjogIiMzZGI3ZTQiLCAiZmlsbE9wYWNpdHkiOiAwLjIsICJmaWxsUnVsZSI6ICJldmVub2RkIiwgImxpbmVDYXAiOiAicm91bmQiLCAibGluZUpvaW4iOiAicm91bmQiLCAib3BhY2l0eSI6IDEuMCwgInJhZGl1cyI6IDUsICJzdHJva2UiOiB0cnVlLCAid2VpZ2h0IjogM30KICAgICAgICAgICAgKS5hZGRUbyhtYXBfYmExMDViNjU2OWZkNDgyZDhiZjY1ZjgwMWZlMWY4ZTcpOwogICAgICAgIAogICAgCiAgICAgICAgdmFyIHBvcHVwX2QwNjY3Y2NkMzc0NjQzNTc4MGFmYTQ4YTJiM2ZjNDE1ID0gTC5wb3B1cCh7Im1heFdpZHRoIjogIjEwMCUifSk7CgogICAgICAgIAogICAgICAgICAgICB2YXIgaHRtbF8wYmZlZmY5NTFkNGE0NjcyODY3Y2VkYzM1OTJlNjJhYiA9ICQoYDxkaXYgaWQ9Imh0bWxfMGJmZWZmOTUxZDRhNDY3Mjg2N2NlZGMzNTkyZTYyYWIiIHN0eWxlPSJ3aWR0aDogMTAwLjAlOyBoZWlnaHQ6IDEwMC4wJTsiPlsnTm9kZV9JRCddPC9kaXY+YClbMF07CiAgICAgICAgICAgIHBvcHVwX2QwNjY3Y2NkMzc0NjQzNTc4MGFmYTQ4YTJiM2ZjNDE1LnNldENvbnRlbnQoaHRtbF8wYmZlZmY5NTFkNGE0NjcyODY3Y2VkYzM1OTJlNjJhYik7CiAgICAgICAgCgogICAgICAgIGNpcmNsZV9tYXJrZXJfZDdmODQ1MzNiZTc2NGU4NzgwNzViZjEwZjYwOTg5ZDYuYmluZFBvcHVwKHBvcHVwX2QwNjY3Y2NkMzc0NjQzNTc4MGFmYTQ4YTJiM2ZjNDE1KQogICAgICAgIDsKCiAgICAgICAgCiAgICAKPC9zY3JpcHQ+\" style=\"position:absolute;width:100%;height:100%;left:0;top:0;border:none !important;\" allowfullscreen webkitallowfullscreen mozallowfullscreen></iframe></div></div>"
      ],
      "text/plain": [
       "<folium.folium.Map at 0xa67cee748>"
      ]
     },
     "execution_count": 21,
     "metadata": {},
     "output_type": "execute_result"
    }
   ],
   "source": [
    "m.save('index.html')\n",
    "m"
   ]
  },
  {
   "cell_type": "markdown",
   "metadata": {},
   "source": [
    "# Functionalities 3 - 4"
   ]
  },
  {
   "cell_type": "markdown",
   "metadata": {},
   "source": [
    "Import the libraries we will need"
   ]
  },
  {
   "cell_type": "code",
   "execution_count": 1,
   "metadata": {},
   "outputs": [],
   "source": [
    "import collections\n",
    "import math\n",
    "import gmplot\n",
    "import statistics\n",
    "import itertools\n",
    "import func_3_4 as f"
   ]
  },
  {
   "cell_type": "markdown",
   "metadata": {},
   "source": [
    "### Functionality 3"
   ]
  },
  {
   "cell_type": "markdown",
   "metadata": {},
   "source": [
    "This is the function to call to use funtionality 3."
   ]
  },
  {
   "cell_type": "code",
   "execution_count": 9,
   "metadata": {},
   "outputs": [],
   "source": [
    "def functionality_3():\n",
    "    # Call the setup function to initialize our elements. \n",
    "    # Sequence = nodes to visit, graph = the graph of all the nodes and edges, mode = distance, time, network distance\n",
    "    sequence, graph, mode = f.setup()    \n",
    "    # Calculate the shortest path for each subpath and concatenate them \n",
    "    # If the mode = nd we need to pass to the function walk \"nd = True\"\n",
    "    path = []\n",
    "    if mode == \"nd\":\n",
    "        for i in range(len(sequence)-1):\n",
    "            path = path + f.walk(graph, sequence[i], sequence[i+1], nd = True)[:-1]\n",
    "        print(path)\n",
    "    else:\n",
    "        for i in range(len(sequence)-1):\n",
    "            path = path + f.walk(graph, sequence[i], sequence[i+1])[:-1]\n",
    "        print(path+[sequence[-1]])\n",
    "        \n",
    "    # Visualization\n",
    "    # Store the coordinate for each point we visited in a dictionary ID:[longitude, latitude]\n",
    "    coordinate = {}\n",
    "    with open(r\"C:\\Users\\39335\\Desktop\\University\\Aris\\USA-road-d.CAL.co\") as file:\n",
    "        for line in file:\n",
    "            if line.startswith(\"v\"):\n",
    "                l = [int(x) for x in line[2:].split()]\n",
    "                if l[0] not in coordinate:\n",
    "                    coordinate[l[0]] = [l[1], l[2]]\n",
    "                    \n",
    "    # Store in two different lists the coordinates of the points we visited\n",
    "    latitude_list = []\n",
    "    longitude_list = []\n",
    "    for i in range(len(path)):\n",
    "        latitude_list.append((coordinate[path[i]][1])/10**6)    #The division by 10^6 is to adjust the coordinates in the file to the real world\n",
    "        longitude_list.append((coordinate[path[i]][0])/10**6)\n",
    "    \n",
    "    # Set the center of the map using the mean of the coordinates of the points in our graph\n",
    "    mid_lon = statistics.mean(longitude_list)\n",
    "    mid_lat = statistics.mean(latitude_list)\n",
    "    gmap = gmplot.GoogleMapPlotter(mid_lat, mid_lon, 12.5) \n",
    "    \n",
    "    # Plot using gmap\n",
    "    gmap.scatter( latitude_list, longitude_list, '# FF0000', size = 40, marker = False ) \n",
    "    gmap.plot(latitude_list, longitude_list, 'red', edge_width = 2.5) \n",
    "    # Set the directory we want to output the html file\n",
    "    gmap.draw(r\"C:\\Users\\39335\\Desktop\\University\\Aris\\map3.html\")\n",
    "    "
   ]
  },
  {
   "cell_type": "markdown",
   "metadata": {},
   "source": [
    "### Functionality 4"
   ]
  },
  {
   "cell_type": "markdown",
   "metadata": {},
   "source": [
    "To find the shortest path passing through the given nodes we will need to calculate the distance for all the permutation of the possible paths. Then we choose the one with the lesser weight. <br>\n",
    "The rest of the code is a lot similar to functionality 3. "
   ]
  },
  {
   "cell_type": "code",
   "execution_count": 3,
   "metadata": {},
   "outputs": [],
   "source": [
    "def functionality_4():\n",
    "    sequence, graph, mode = f.setup()  \n",
    "    \n",
    "    # Permutation of all the nodes that are not the starting nor the final one. In this way we check every possible route.\n",
    "    perm = list(itertools.permutations(sequence[1:-1]))\n",
    "    min_weight = math.inf\n",
    "    min_path = []\n",
    "    \n",
    "    # For every permutation we compute the weight and we check if it is the lowest.\n",
    "    # In that case we update the min path and the min weight\n",
    "    if mode == \"nd\":\n",
    "        for p in perm:\n",
    "            current_path = []\n",
    "            current_weight = 0\n",
    "            for i in range(len(p)-1):\n",
    "                current_path = current_path + f.walk(graph, p[i], p[i+1], nd = True)[:-1]\n",
    "                current_weight = current_weight + f.walk(graph, p[i], p[i+1], nd = True, w = True)\n",
    "            if (current_weight < min_weight):\n",
    "                min_weight = current_weight \n",
    "                min_path = current_path\n",
    "        min_path = min_path + [sequence[-2]]\n",
    "        # Concatenate the path that goes from starting point (H) to p1, and the one that goes from p_n-1 to p_n. (H and p_n are fixed)\n",
    "        path = f.walk(graph, sequence[0], min_path[0], nd = True)[:-1] + min_path + f.walk(graph, min_path[-2], sequence[-1], nd = True)\n",
    "        print(path)\n",
    "        \n",
    "    else:\n",
    "        for p in perm:\n",
    "            current_path = []\n",
    "            current_weight = 0\n",
    "            for i in range(len(p)-1):\n",
    "                current_path = current_path + f.walk(graph, p[i], p[i+1])[:-1]\n",
    "                current_weight = current_weight + f.walk(graph, p[i], p[i+1], w = True)\n",
    "            if (current_weight < min_weight):\n",
    "                min_weight = current_weight \n",
    "                min_path = current_path\n",
    "        min_path = min_path + [sequence[-2]]\n",
    "        path = f.walk(graph, sequence[0], min_path[0])[:-1] + min_path + f.walk(graph, min_path[-2], sequence[-1])\n",
    "        print(path)\n",
    "    \n",
    "    \n",
    "    \n",
    "    # Visualization\n",
    "    coordinate = {}\n",
    "    with open(r\"C:\\Users\\39335\\Desktop\\University\\Aris\\USA-road-d.CAL.co\") as file:\n",
    "        for line in file:\n",
    "            if line.startswith(\"v\"):\n",
    "                l = [int(x) for x in line[2:].split()]\n",
    "                if l[0] not in coordinate:\n",
    "                    coordinate[l[0]] = [l[1], l[2]]\n",
    "                    \n",
    "    latitude_list = []\n",
    "    longitude_list = []\n",
    "    for i in range(len(path)):\n",
    "        latitude_list.append((coordinate[path[i]][1])/10**6)\n",
    "        longitude_list.append((coordinate[path[i]][0])/10**6)\n",
    "    \n",
    "    mid_lon = statistics.mean(longitude_list)\n",
    "    mid_lat = statistics.mean(latitude_list)\n",
    "    gmap = gmplot.GoogleMapPlotter(mid_lat, mid_lon, 12.5) \n",
    "    \n",
    "    gmap.scatter( latitude_list, longitude_list, '# FF0000', size = 40, marker = False ) \n",
    "    gmap.plot(latitude_list, longitude_list, 'magenta', edge_width = 2.5) \n",
    "    gmap.draw(r\"C:\\Users\\39335\\Desktop\\University\\Aris\\map4.html\")"
   ]
  },
  {
   "cell_type": "code",
   "execution_count": 10,
   "metadata": {},
   "outputs": [
    {
     "name": "stdout",
     "output_type": "stream",
     "text": [
      "Write a node H, the sequence of nodes to visit in order p_1,...,p_n, and the mode you want t(time) / d(distance) / nd(network distance). Ex. '25 50,22,13,4 t'\n",
      "1 20,40,50,60 nd\n",
      "[1, 1803, 1802, 1050022, 1808, 1050024, 1810, 1050026, 1813, 1050030, 2199, 1050339, 1050261, 2102, 2092, 2093, 1050262, 2078, 1050243, 1050266, 2118, 2125, 1050280, 2122, 1050277, 2142, 1050291, 2522, 2524, 1050447, 2153, 2152, 2154, 2158, 1050306, 1050308, 2159, 34, 1048603, 1048598, 28, 1050699, 1050700, 1048601, 31, 1050698, 1048627, 64, 2655, 2656, 2657, 1048626, 179, 180, 35, 1048604, 1048606, 2662, 1050717, 2661, 40, 1048609, 1050708, 43, 1048612, 2384, 1048594, 23, 24, 1048595, 1048596, 21, 20, 21, 1048596, 1048595, 24, 23, 1048594, 2384, 1048612, 43, 1050708, 1048609, 40, 1048609, 2663, 41, 1048610, 42, 2670, 45, 44, 1048613, 1048650, 71, 1048634, 1048653, 103, 1048658, 104, 111, 114, 130, 133, 1048680, 132, 1048695, 152, 160, 1048703, 161, 1048710, 172, 1048848, 337, 338, 341, 367, 344, 1048851, 1048852, 346, 1048856, 1048860, 353, 359, 362, 1048869, 1048867, 360, 363, 429, 428, 430, 458, 1048941, 1048942, 1048993, 520, 515, 1048946, 462, 465, 468, 473, 514, 516, 1048989, 1048961, 1048957, 476, 1048958, 1048962, 1048979, 475, 474, 1048955, 471, 1048952, 1049054, 596, 597, 1049058, 561, 1049026, 556, 1049023, 1049022, 555, 594, 547, 545, 1049015, 525, 1048999, 2311, 741, 1049165, 533, 534, 535, 814, 725, 1049154, 721, 1049166, 715, 1049149, 718, 1049198, 774, 1049197, 780, 1048616, 49, 50, 49, 1048616, 780, 1049197, 774, 1049198, 718, 1049149, 715, 1049166, 721, 1049154, 725, 814, 535, 534, 533, 1049165, 741, 2311, 1048999, 525, 1049015, 545, 547, 594, 555, 1049022, 1049023, 556, 1049026, 561, 1049058, 597, 596, 1049054, 1048952, 471, 1048955, 474, 475, 1048979, 1048962, 1048958, 476, 1048957, 1048961, 1048989, 516, 514, 473, 468, 465, 462, 1048946, 515, 520, 1048993, 1048942, 1048941, 458, 430, 428, 429, 363, 360, 1048867, 1048869, 362, 359, 353, 1048860, 1048856, 346, 1048852, 1048851, 344, 367, 341, 338, 337, 1048848, 172, 1048710, 161, 1048703, 160, 152, 1048695, 132, 1048680, 133, 130, 114, 111, 104, 1048658, 103, 1048653, 1048634, 1048633, 1048635, 1048632, 69, 46, 47, 1048614, 2472, 1048617, 51, 1050719, 52, 1048598, 33, 1048624, 38, 37, 60]\n"
     ]
    }
   ],
   "source": [
    "functionality_3()"
   ]
  },
  {
   "cell_type": "code",
   "execution_count": 6,
   "metadata": {},
   "outputs": [
    {
     "name": "stdout",
     "output_type": "stream",
     "text": [
      "Write a node H, the sequence of nodes to visit in order p_1,...,p_n, and the mode you want t(time) / d(distance) / nd(network distance). Ex. '25 50,22,13,4 t'\n",
      "1 20,40,50,60 nd\n",
      "[1, 1803, 1802, 1050022, 1799, 1050018, 1050017, 1800, 1050019, 1823, 451, 1048937, 1707, 1705, 1050005, 1778, 1050000, 1774, 1049998, 1050002, 1781, 1783, 1796, 1050015, 1795, 1050014, 1050383, 2249, 2248, 1049494, 1050385, 211, 1048724, 185, 184, 1048719, 183, 1048718, 382, 1048878, 376, 1048879, 377, 379, 1048880, 378, 1048881, 372, 371, 1048892, 393, 1048882, 380, 1048891, 1048875, 373, 392, 1049055, 1049056, 1049057, 601, 1049063, 612, 1049065, 614, 1049069, 1049074, 621, 1049085, 119, 1049087, 638, 645, 1050424, 2313, 1050423, 1049217, 1049094, 647, 640, 1049089, 1049090, 1049099, 652, 1049098, 2701, 800, 1049117, 798, 690, 691, 1049130, 1049131, 707, 715, 1049149, 718, 1049198, 774, 1049197, 780, 1048616, 49, 50, 49, 1048616, 780, 1049197, 774, 1049198, 718, 1049149, 715, 1049166, 721, 1049154, 725, 814, 535, 534, 533, 1049165, 741, 2311, 1048999, 525, 1049015, 545, 547, 594, 555, 1049022, 1049023, 556, 1049026, 561, 1049058, 597, 596, 1049054, 1048952, 471, 1048955, 474, 475, 1048979, 1048962, 1048958, 476, 1048957, 1048961, 1048989, 516, 514, 473, 468, 465, 462, 1048946, 515, 520, 1048993, 1048942, 1048941, 458, 430, 428, 429, 363, 360, 1048867, 1048869, 362, 359, 353, 1048860, 1048856, 346, 1048852, 1048851, 344, 345, 365, 348, 329, 1048694, 1048693, 150, 154, 1048697, 153, 1048683, 139, 155, 1048591, 18, 19, 20, 21, 1048596, 1048595, 24, 23, 1048594, 2384, 1048612, 43, 1050708, 1048609, 50, 1048609, 40, 2661, 1050717, 2662, 1048606, 1048604, 35, 180, 179, 1048626, 2657, 2656, 2655, 64, 1048627, 1050698, 31, 1048601, 1050700, 1050699, 28, 1048598, 33, 1048624, 38, 37, 60]\n"
     ]
    }
   ],
   "source": [
    "functionality_4()"
   ]
  },
  {
   "cell_type": "code",
   "execution_count": null,
   "metadata": {},
   "outputs": [],
   "source": []
  }
 ],
 "metadata": {
  "kernelspec": {
   "display_name": "Python 3",
   "language": "python",
   "name": "python3"
  },
  "language_info": {
   "codemirror_mode": {
    "name": "ipython",
    "version": 3
   },
   "file_extension": ".py",
   "mimetype": "text/x-python",
   "name": "python",
   "nbconvert_exporter": "python",
   "pygments_lexer": "ipython3",
   "version": "3.7.3"
  }
 },
 "nbformat": 4,
 "nbformat_minor": 2
}
