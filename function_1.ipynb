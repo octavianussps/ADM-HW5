{
 "cells": [
  {
   "cell_type": "markdown",
   "metadata": {},
   "source": [
    "# Functionality 1 - Find the Neighbours!\n",
    "\n",
    "Take input:\n",
    "\n",
    "a node v\n",
    "\n",
    "One of the following distances function: \n",
    "\n",
    "t(x,y), d(x,y) or network distance .\n",
    "\n",
    "a distance threshold d.\n",
    "\n",
    "Implement an algorithm (using proper data structures) that returns :\n",
    "\n",
    "the set of nodes at distance <= d from v, corresponding to v’s neighborhood."
   ]
  },
  {
   "cell_type": "code",
   "execution_count": 1,
   "metadata": {},
   "outputs": [],
   "source": [
    "import pandas as pd\n",
    "import networkx as nx\n",
    "import matplotlib.pyplot as plt\n",
    "import numpy as np"
   ]
  },
  {
   "cell_type": "markdown",
   "metadata": {},
   "source": [
    "# Read DS"
   ]
  },
  {
   "cell_type": "markdown",
   "metadata": {},
   "source": [
    "# Distance :"
   ]
  },
  {
   "cell_type": "code",
   "execution_count": 2,
   "metadata": {
    "scrolled": true
   },
   "outputs": [
    {
     "data": {
      "text/html": [
       "<div>\n",
       "<style scoped>\n",
       "    .dataframe tbody tr th:only-of-type {\n",
       "        vertical-align: middle;\n",
       "    }\n",
       "\n",
       "    .dataframe tbody tr th {\n",
       "        vertical-align: top;\n",
       "    }\n",
       "\n",
       "    .dataframe thead th {\n",
       "        text-align: right;\n",
       "    }\n",
       "</style>\n",
       "<table border=\"1\" class=\"dataframe\">\n",
       "  <thead>\n",
       "    <tr style=\"text-align: right;\">\n",
       "      <th></th>\n",
       "      <th>Distance</th>\n",
       "    </tr>\n",
       "  </thead>\n",
       "  <tbody>\n",
       "    <tr>\n",
       "      <th>6</th>\n",
       "      <td>a 1 1048577 456</td>\n",
       "    </tr>\n",
       "    <tr>\n",
       "      <th>7</th>\n",
       "      <td>a 1048577 1 456</td>\n",
       "    </tr>\n",
       "    <tr>\n",
       "      <th>8</th>\n",
       "      <td>a 2 1048578 2389</td>\n",
       "    </tr>\n",
       "    <tr>\n",
       "      <th>9</th>\n",
       "      <td>a 1048578 2 2389</td>\n",
       "    </tr>\n",
       "    <tr>\n",
       "      <th>10</th>\n",
       "      <td>a 3 1048579 358</td>\n",
       "    </tr>\n",
       "    <tr>\n",
       "      <th>11</th>\n",
       "      <td>a 1048579 3 358</td>\n",
       "    </tr>\n",
       "    <tr>\n",
       "      <th>12</th>\n",
       "      <td>a 4 1048579 14901</td>\n",
       "    </tr>\n",
       "    <tr>\n",
       "      <th>13</th>\n",
       "      <td>a 1048579 4 14901</td>\n",
       "    </tr>\n",
       "    <tr>\n",
       "      <th>14</th>\n",
       "      <td>a 5 6 18133</td>\n",
       "    </tr>\n",
       "    <tr>\n",
       "      <th>15</th>\n",
       "      <td>a 6 5 18133</td>\n",
       "    </tr>\n",
       "  </tbody>\n",
       "</table>\n",
       "</div>"
      ],
      "text/plain": [
       "             Distance\n",
       "6     a 1 1048577 456\n",
       "7     a 1048577 1 456\n",
       "8    a 2 1048578 2389\n",
       "9    a 1048578 2 2389\n",
       "10    a 3 1048579 358\n",
       "11    a 1048579 3 358\n",
       "12  a 4 1048579 14901\n",
       "13  a 1048579 4 14901\n",
       "14        a 5 6 18133\n",
       "15        a 6 5 18133"
      ]
     },
     "execution_count": 2,
     "metadata": {},
     "output_type": "execute_result"
    }
   ],
   "source": [
    "df_D = pd.read_csv('./DATA/Distance_graph',header=0, sep=',',\n",
    "                index_col=None, encoding = \"ISO-8859-1\")\n",
    "df_D.columns=[\"Distance\"]\n",
    "df_D.drop([0,1,2,3,4,5],inplace=True)\n",
    "df_D.reset_index(drop=True)\n",
    "df_D.head(10)\n"
   ]
  },
  {
   "cell_type": "code",
   "execution_count": 3,
   "metadata": {
    "scrolled": true
   },
   "outputs": [
    {
     "data": {
      "text/html": [
       "<div>\n",
       "<style scoped>\n",
       "    .dataframe tbody tr th:only-of-type {\n",
       "        vertical-align: middle;\n",
       "    }\n",
       "\n",
       "    .dataframe tbody tr th {\n",
       "        vertical-align: top;\n",
       "    }\n",
       "\n",
       "    .dataframe thead th {\n",
       "        text-align: right;\n",
       "    }\n",
       "</style>\n",
       "<table border=\"1\" class=\"dataframe\">\n",
       "  <thead>\n",
       "    <tr style=\"text-align: right;\">\n",
       "      <th></th>\n",
       "      <th>a</th>\n",
       "      <th>Node1</th>\n",
       "      <th>Node2</th>\n",
       "      <th>Distance</th>\n",
       "    </tr>\n",
       "  </thead>\n",
       "  <tbody>\n",
       "    <tr>\n",
       "      <th>0</th>\n",
       "      <td>a</td>\n",
       "      <td>1</td>\n",
       "      <td>1048577</td>\n",
       "      <td>456</td>\n",
       "    </tr>\n",
       "    <tr>\n",
       "      <th>1</th>\n",
       "      <td>a</td>\n",
       "      <td>1048577</td>\n",
       "      <td>1</td>\n",
       "      <td>456</td>\n",
       "    </tr>\n",
       "    <tr>\n",
       "      <th>2</th>\n",
       "      <td>a</td>\n",
       "      <td>2</td>\n",
       "      <td>1048578</td>\n",
       "      <td>2389</td>\n",
       "    </tr>\n",
       "    <tr>\n",
       "      <th>3</th>\n",
       "      <td>a</td>\n",
       "      <td>1048578</td>\n",
       "      <td>2</td>\n",
       "      <td>2389</td>\n",
       "    </tr>\n",
       "  </tbody>\n",
       "</table>\n",
       "</div>"
      ],
      "text/plain": [
       "   a    Node1    Node2  Distance\n",
       "0  a        1  1048577       456\n",
       "1  a  1048577        1       456\n",
       "2  a        2  1048578      2389\n",
       "3  a  1048578        2      2389"
      ]
     },
     "execution_count": 3,
     "metadata": {},
     "output_type": "execute_result"
    }
   ],
   "source": [
    "df_D=df_D['Distance'].str.split(\" \" , expand=True)\n",
    "df_D.columns=['a','Node1','Node2','Distance']\n",
    "df_D['Node1']=pd.to_numeric(df_D['Node1'])\n",
    "df_D['Node2']=pd.to_numeric(df_D['Node2'])\n",
    "df_D['Distance']=pd.to_numeric(df_D['Distance'])\n",
    "df_D=df_D.reset_index(drop=True)\n",
    "df_D.head(4)"
   ]
  },
  {
   "cell_type": "code",
   "execution_count": 4,
   "metadata": {},
   "outputs": [
    {
     "data": {
      "text/plain": [
       "(4657742, 4)"
      ]
     },
     "execution_count": 4,
     "metadata": {},
     "output_type": "execute_result"
    }
   ],
   "source": [
    "df_D.shape"
   ]
  },
  {
   "cell_type": "code",
   "execution_count": 5,
   "metadata": {},
   "outputs": [
    {
     "data": {
      "text/html": [
       "<div>\n",
       "<style scoped>\n",
       "    .dataframe tbody tr th:only-of-type {\n",
       "        vertical-align: middle;\n",
       "    }\n",
       "\n",
       "    .dataframe tbody tr th {\n",
       "        vertical-align: top;\n",
       "    }\n",
       "\n",
       "    .dataframe thead th {\n",
       "        text-align: right;\n",
       "    }\n",
       "</style>\n",
       "<table border=\"1\" class=\"dataframe\">\n",
       "  <thead>\n",
       "    <tr style=\"text-align: right;\">\n",
       "      <th></th>\n",
       "      <th>Distance</th>\n",
       "    </tr>\n",
       "  </thead>\n",
       "  <tbody>\n",
       "    <tr>\n",
       "      <th>6</th>\n",
       "      <td>a 1 1048577 1139</td>\n",
       "    </tr>\n",
       "    <tr>\n",
       "      <th>7</th>\n",
       "      <td>a 1048577 1 1139</td>\n",
       "    </tr>\n",
       "    <tr>\n",
       "      <th>8</th>\n",
       "      <td>a 2 1048578 5972</td>\n",
       "    </tr>\n",
       "    <tr>\n",
       "      <th>9</th>\n",
       "      <td>a 1048578 2 5972</td>\n",
       "    </tr>\n",
       "    <tr>\n",
       "      <th>10</th>\n",
       "      <td>a 3 1048579 895</td>\n",
       "    </tr>\n",
       "  </tbody>\n",
       "</table>\n",
       "</div>"
      ],
      "text/plain": [
       "            Distance\n",
       "6   a 1 1048577 1139\n",
       "7   a 1048577 1 1139\n",
       "8   a 2 1048578 5972\n",
       "9   a 1048578 2 5972\n",
       "10   a 3 1048579 895"
      ]
     },
     "execution_count": 5,
     "metadata": {},
     "output_type": "execute_result"
    }
   ],
   "source": [
    "df_T = pd.read_csv('./DATA/Travel_time_graph',header=0, sep=',',\n",
    "                index_col=None, encoding = \"ISO-8859-1\")\n",
    "df_T.columns=[\"Distance\"]\n",
    "df_T.drop([0,1,2,3,4,5],inplace=True)\n",
    "df_T.head(5)"
   ]
  },
  {
   "cell_type": "code",
   "execution_count": 6,
   "metadata": {},
   "outputs": [
    {
     "data": {
      "text/html": [
       "<div>\n",
       "<style scoped>\n",
       "    .dataframe tbody tr th:only-of-type {\n",
       "        vertical-align: middle;\n",
       "    }\n",
       "\n",
       "    .dataframe tbody tr th {\n",
       "        vertical-align: top;\n",
       "    }\n",
       "\n",
       "    .dataframe thead th {\n",
       "        text-align: right;\n",
       "    }\n",
       "</style>\n",
       "<table border=\"1\" class=\"dataframe\">\n",
       "  <thead>\n",
       "    <tr style=\"text-align: right;\">\n",
       "      <th></th>\n",
       "      <th>a</th>\n",
       "      <th>Node1</th>\n",
       "      <th>Node2</th>\n",
       "      <th>Distance</th>\n",
       "    </tr>\n",
       "  </thead>\n",
       "  <tbody>\n",
       "    <tr>\n",
       "      <th>0</th>\n",
       "      <td>a</td>\n",
       "      <td>1</td>\n",
       "      <td>1048577</td>\n",
       "      <td>1139</td>\n",
       "    </tr>\n",
       "    <tr>\n",
       "      <th>1</th>\n",
       "      <td>a</td>\n",
       "      <td>1048577</td>\n",
       "      <td>1</td>\n",
       "      <td>1139</td>\n",
       "    </tr>\n",
       "    <tr>\n",
       "      <th>2</th>\n",
       "      <td>a</td>\n",
       "      <td>2</td>\n",
       "      <td>1048578</td>\n",
       "      <td>5972</td>\n",
       "    </tr>\n",
       "    <tr>\n",
       "      <th>3</th>\n",
       "      <td>a</td>\n",
       "      <td>1048578</td>\n",
       "      <td>2</td>\n",
       "      <td>5972</td>\n",
       "    </tr>\n",
       "    <tr>\n",
       "      <th>4</th>\n",
       "      <td>a</td>\n",
       "      <td>3</td>\n",
       "      <td>1048579</td>\n",
       "      <td>895</td>\n",
       "    </tr>\n",
       "  </tbody>\n",
       "</table>\n",
       "</div>"
      ],
      "text/plain": [
       "   a    Node1    Node2  Distance\n",
       "0  a        1  1048577      1139\n",
       "1  a  1048577        1      1139\n",
       "2  a        2  1048578      5972\n",
       "3  a  1048578        2      5972\n",
       "4  a        3  1048579       895"
      ]
     },
     "execution_count": 6,
     "metadata": {},
     "output_type": "execute_result"
    }
   ],
   "source": [
    "df_T=df_T[\"Distance\"].str.split(\" \" , expand=True)\n",
    "df_T.columns=['a','Node1','Node2','Distance']\n",
    "df_T['Node1']=pd.to_numeric(df_T['Node1'])\n",
    "df_T['Node2']=pd.to_numeric(df_T['Node2'])\n",
    "df_T['Distance']=pd.to_numeric(df_T['Distance'])\n",
    "df_T=df_T.reset_index(drop=True)\n",
    "df_T.head(5)"
   ]
  },
  {
   "cell_type": "code",
   "execution_count": 7,
   "metadata": {},
   "outputs": [
    {
     "data": {
      "text/plain": [
       "(4657742, 4)"
      ]
     },
     "execution_count": 7,
     "metadata": {},
     "output_type": "execute_result"
    }
   ],
   "source": [
    "df_T.shape"
   ]
  },
  {
   "cell_type": "markdown",
   "metadata": {},
   "source": [
    "# Search Neighbours:\n"
   ]
  },
  {
   "cell_type": "code",
   "execution_count": 49,
   "metadata": {
    "scrolled": true
   },
   "outputs": [
    {
     "name": "stdout",
     "output_type": "stream",
     "text": [
      "Enter node numbner 300\n",
      "Enter one of this Distance type: Time or Physical Physical\n",
      "Enter your threshold 5000\n"
     ]
    },
    {
     "data": {
      "text/html": [
       "<div>\n",
       "<style scoped>\n",
       "    .dataframe tbody tr th:only-of-type {\n",
       "        vertical-align: middle;\n",
       "    }\n",
       "\n",
       "    .dataframe tbody tr th {\n",
       "        vertical-align: top;\n",
       "    }\n",
       "\n",
       "    .dataframe thead th {\n",
       "        text-align: right;\n",
       "    }\n",
       "</style>\n",
       "<table border=\"1\" class=\"dataframe\">\n",
       "  <thead>\n",
       "    <tr style=\"text-align: right;\">\n",
       "      <th></th>\n",
       "      <th>a</th>\n",
       "      <th>Node1</th>\n",
       "      <th>Node2</th>\n",
       "      <th>Distance</th>\n",
       "    </tr>\n",
       "  </thead>\n",
       "  <tbody>\n",
       "    <tr>\n",
       "      <th>1003</th>\n",
       "      <td>a</td>\n",
       "      <td>300</td>\n",
       "      <td>1048816</td>\n",
       "      <td>1018</td>\n",
       "    </tr>\n",
       "    <tr>\n",
       "      <th>1008</th>\n",
       "      <td>a</td>\n",
       "      <td>300</td>\n",
       "      <td>1048818</td>\n",
       "      <td>597</td>\n",
       "    </tr>\n",
       "    <tr>\n",
       "      <th>1002</th>\n",
       "      <td>a</td>\n",
       "      <td>1048816</td>\n",
       "      <td>300</td>\n",
       "      <td>1018</td>\n",
       "    </tr>\n",
       "    <tr>\n",
       "      <th>1071</th>\n",
       "      <td>a</td>\n",
       "      <td>1048816</td>\n",
       "      <td>1048832</td>\n",
       "      <td>365</td>\n",
       "    </tr>\n",
       "    <tr>\n",
       "      <th>1003</th>\n",
       "      <td>a</td>\n",
       "      <td>300</td>\n",
       "      <td>1048816</td>\n",
       "      <td>1018</td>\n",
       "    </tr>\n",
       "    <tr>\n",
       "      <th>1008</th>\n",
       "      <td>a</td>\n",
       "      <td>300</td>\n",
       "      <td>1048818</td>\n",
       "      <td>597</td>\n",
       "    </tr>\n",
       "    <tr>\n",
       "      <th>1002</th>\n",
       "      <td>a</td>\n",
       "      <td>1048816</td>\n",
       "      <td>300</td>\n",
       "      <td>1018</td>\n",
       "    </tr>\n",
       "  </tbody>\n",
       "</table>\n",
       "</div>"
      ],
      "text/plain": [
       "      a    Node1    Node2  Distance\n",
       "1003  a      300  1048816      1018\n",
       "1008  a      300  1048818       597\n",
       "1002  a  1048816      300      1018\n",
       "1071  a  1048816  1048832       365\n",
       "1003  a      300  1048816      1018\n",
       "1008  a      300  1048818       597\n",
       "1002  a  1048816      300      1018"
      ]
     },
     "execution_count": 49,
     "metadata": {},
     "output_type": "execute_result"
    }
   ],
   "source": [
    "node= int(input(\"Enter node numbner \"))\n",
    "distance_type=input(\"Enter one of this Distance type: Time or Physical \")\n",
    "threshold=int(input(\"Enter your threshold \"))  \n",
    "#The idea is to iterate all direct neighbour from node v\n",
    "#and check the values Corresponding to the input\n",
    "#and we recursively subtract the new distance from initial threshold \n",
    "#to check the neighbours of the initial node's neighbour's Satisfying the threshold\n",
    "def search_Neighbours(node, distance_type, threshold): \n",
    "    if distance_type == \"Physical\":\n",
    "        data = df_D\n",
    "    elif distance_type == \"Time\":\n",
    "        data=df_T   \n",
    "    out_df = data[(data['Node1'] == node) & (data['Distance'] <= threshold)]\n",
    "\n",
    "    Neighbours=list(out_df.Node2.values)\n",
    "        #print(Neighbours)\n",
    "    for j in Neighbours:\n",
    "        neigh_dis = data[(data['Node1'] == node) & (data['Node2'] == j)]\n",
    "        neigh_dis=int(neigh_dis['Distance'])\n",
    "        out_df=pd.concat([out_df,search_Neighbours(j, distance_type, threshold-neigh_dis)])\n",
    "    return out_df\n",
    "\n",
    "out_df=search_Neighbours(node,distance_type,threshold)\n",
    "out_df.head(7)"
   ]
  },
  {
   "cell_type": "code",
   "execution_count": 50,
   "metadata": {},
   "outputs": [
    {
     "data": {
      "text/plain": [
       "[1048832,\n",
       " 228,\n",
       " 1048836,\n",
       " 300,\n",
       " 303,\n",
       " 1048816,\n",
       " 2448,\n",
       " 1048818,\n",
       " 1048819,\n",
       " 1048817,\n",
       " 1048820]"
      ]
     },
     "execution_count": 50,
     "metadata": {},
     "output_type": "execute_result"
    }
   ],
   "source": [
    "all_Neighbours = list(set(out_df['Node2'].values))\n",
    "all_Neighbours\n"
   ]
  },
  {
   "cell_type": "code",
   "execution_count": null,
   "metadata": {},
   "outputs": [],
   "source": []
  },
  {
   "cell_type": "markdown",
   "metadata": {},
   "source": [
    "# The map "
   ]
  },
  {
   "cell_type": "code",
   "execution_count": 52,
   "metadata": {},
   "outputs": [],
   "source": [
    "import folium\n",
    "from folium import plugins\n",
    "import pandas as pd\n",
    "import matplotlib.pyplot as plt\n",
    "import seaborn as sns\n",
    "\n",
    "%matplotlib inline"
   ]
  },
  {
   "cell_type": "code",
   "execution_count": 53,
   "metadata": {},
   "outputs": [
    {
     "data": {
      "text/html": [
       "<div>\n",
       "<style scoped>\n",
       "    .dataframe tbody tr th:only-of-type {\n",
       "        vertical-align: middle;\n",
       "    }\n",
       "\n",
       "    .dataframe tbody tr th {\n",
       "        vertical-align: top;\n",
       "    }\n",
       "\n",
       "    .dataframe thead th {\n",
       "        text-align: right;\n",
       "    }\n",
       "</style>\n",
       "<table border=\"1\" class=\"dataframe\">\n",
       "  <thead>\n",
       "    <tr style=\"text-align: right;\">\n",
       "      <th></th>\n",
       "      <th>Coordinates</th>\n",
       "    </tr>\n",
       "  </thead>\n",
       "  <tbody>\n",
       "    <tr>\n",
       "      <th>6</th>\n",
       "      <td>v 1 -114315309 34133550</td>\n",
       "    </tr>\n",
       "    <tr>\n",
       "      <th>7</th>\n",
       "      <td>v 2 -114223946 34176221</td>\n",
       "    </tr>\n",
       "    <tr>\n",
       "      <th>8</th>\n",
       "      <td>v 3 -114307299 34148791</td>\n",
       "    </tr>\n",
       "  </tbody>\n",
       "</table>\n",
       "</div>"
      ],
      "text/plain": [
       "               Coordinates\n",
       "6  v 1 -114315309 34133550\n",
       "7  v 2 -114223946 34176221\n",
       "8  v 3 -114307299 34148791"
      ]
     },
     "execution_count": 53,
     "metadata": {},
     "output_type": "execute_result"
    }
   ],
   "source": [
    "df_c = pd.read_csv('./DATA/Coordinates',header=0, sep=',',\n",
    "                index_col=None, encoding = \"ISO-8859-1\")\n",
    "df_c.columns=[\"Coordinates\"]\n",
    "df_c.drop([0,1,2,3,4,5],inplace=True)\n",
    "df_c.head(3)"
   ]
  },
  {
   "cell_type": "code",
   "execution_count": 54,
   "metadata": {},
   "outputs": [
    {
     "data": {
      "text/html": [
       "<div>\n",
       "<style scoped>\n",
       "    .dataframe tbody tr th:only-of-type {\n",
       "        vertical-align: middle;\n",
       "    }\n",
       "\n",
       "    .dataframe tbody tr th {\n",
       "        vertical-align: top;\n",
       "    }\n",
       "\n",
       "    .dataframe thead th {\n",
       "        text-align: right;\n",
       "    }\n",
       "</style>\n",
       "<table border=\"1\" class=\"dataframe\">\n",
       "  <thead>\n",
       "    <tr style=\"text-align: right;\">\n",
       "      <th></th>\n",
       "      <th>v</th>\n",
       "      <th>Node_ID</th>\n",
       "      <th>long</th>\n",
       "      <th>lat</th>\n",
       "    </tr>\n",
       "  </thead>\n",
       "  <tbody>\n",
       "    <tr>\n",
       "      <th>0</th>\n",
       "      <td>v</td>\n",
       "      <td>1</td>\n",
       "      <td>-114315309</td>\n",
       "      <td>34133550</td>\n",
       "    </tr>\n",
       "    <tr>\n",
       "      <th>1</th>\n",
       "      <td>v</td>\n",
       "      <td>2</td>\n",
       "      <td>-114223946</td>\n",
       "      <td>34176221</td>\n",
       "    </tr>\n",
       "    <tr>\n",
       "      <th>2</th>\n",
       "      <td>v</td>\n",
       "      <td>3</td>\n",
       "      <td>-114307299</td>\n",
       "      <td>34148791</td>\n",
       "    </tr>\n",
       "    <tr>\n",
       "      <th>3</th>\n",
       "      <td>v</td>\n",
       "      <td>4</td>\n",
       "      <td>-114318765</td>\n",
       "      <td>34138889</td>\n",
       "    </tr>\n",
       "    <tr>\n",
       "      <th>4</th>\n",
       "      <td>v</td>\n",
       "      <td>5</td>\n",
       "      <td>-114347300</td>\n",
       "      <td>34042614</td>\n",
       "    </tr>\n",
       "  </tbody>\n",
       "</table>\n",
       "</div>"
      ],
      "text/plain": [
       "   v  Node_ID       long       lat\n",
       "0  v        1 -114315309  34133550\n",
       "1  v        2 -114223946  34176221\n",
       "2  v        3 -114307299  34148791\n",
       "3  v        4 -114318765  34138889\n",
       "4  v        5 -114347300  34042614"
      ]
     },
     "execution_count": 54,
     "metadata": {},
     "output_type": "execute_result"
    }
   ],
   "source": [
    "df_c=df_c.Coordinates.str.split(\" \" , expand=True)\n",
    "df_c.columns=['v','Node_ID','long','lat']\n",
    "df_c['Node_ID']=pd.to_numeric(df_c['Node_ID'])\n",
    "df_c['long']=pd.to_numeric(df_c['long'])\n",
    "df_c['lat']=pd.to_numeric(df_c['lat'])\n",
    "df_c=df_c.reset_index(drop=True)\n",
    "df_c.head(5)"
   ]
  },
  {
   "cell_type": "code",
   "execution_count": 55,
   "metadata": {},
   "outputs": [],
   "source": [
    "df_c['lat']=df_c['lat']/1000000\n",
    "df_c['long']=df_c['long']/1000000"
   ]
  },
  {
   "cell_type": "code",
   "execution_count": 56,
   "metadata": {},
   "outputs": [
    {
     "data": {
      "text/html": [
       "<div>\n",
       "<style scoped>\n",
       "    .dataframe tbody tr th:only-of-type {\n",
       "        vertical-align: middle;\n",
       "    }\n",
       "\n",
       "    .dataframe tbody tr th {\n",
       "        vertical-align: top;\n",
       "    }\n",
       "\n",
       "    .dataframe thead th {\n",
       "        text-align: right;\n",
       "    }\n",
       "</style>\n",
       "<table border=\"1\" class=\"dataframe\">\n",
       "  <thead>\n",
       "    <tr style=\"text-align: right;\">\n",
       "      <th></th>\n",
       "      <th>v</th>\n",
       "      <th>Node_ID</th>\n",
       "      <th>long</th>\n",
       "      <th>lat</th>\n",
       "    </tr>\n",
       "  </thead>\n",
       "  <tbody>\n",
       "    <tr>\n",
       "      <th>0</th>\n",
       "      <td>v</td>\n",
       "      <td>1</td>\n",
       "      <td>-114.315309</td>\n",
       "      <td>34.133550</td>\n",
       "    </tr>\n",
       "    <tr>\n",
       "      <th>1</th>\n",
       "      <td>v</td>\n",
       "      <td>2</td>\n",
       "      <td>-114.223946</td>\n",
       "      <td>34.176221</td>\n",
       "    </tr>\n",
       "    <tr>\n",
       "      <th>2</th>\n",
       "      <td>v</td>\n",
       "      <td>3</td>\n",
       "      <td>-114.307299</td>\n",
       "      <td>34.148791</td>\n",
       "    </tr>\n",
       "    <tr>\n",
       "      <th>3</th>\n",
       "      <td>v</td>\n",
       "      <td>4</td>\n",
       "      <td>-114.318765</td>\n",
       "      <td>34.138889</td>\n",
       "    </tr>\n",
       "  </tbody>\n",
       "</table>\n",
       "</div>"
      ],
      "text/plain": [
       "   v  Node_ID        long        lat\n",
       "0  v        1 -114.315309  34.133550\n",
       "1  v        2 -114.223946  34.176221\n",
       "2  v        3 -114.307299  34.148791\n",
       "3  v        4 -114.318765  34.138889"
      ]
     },
     "execution_count": 56,
     "metadata": {},
     "output_type": "execute_result"
    }
   ],
   "source": [
    "df_c.head(4)"
   ]
  },
  {
   "cell_type": "code",
   "execution_count": 57,
   "metadata": {},
   "outputs": [],
   "source": [
    "out_df_cor=pd.merge(df_c,out_df, right_on=\"Node2\", left_on='Node_ID' )"
   ]
  },
  {
   "cell_type": "code",
   "execution_count": 58,
   "metadata": {},
   "outputs": [
    {
     "data": {
      "text/html": [
       "<div>\n",
       "<style scoped>\n",
       "    .dataframe tbody tr th:only-of-type {\n",
       "        vertical-align: middle;\n",
       "    }\n",
       "\n",
       "    .dataframe tbody tr th {\n",
       "        vertical-align: top;\n",
       "    }\n",
       "\n",
       "    .dataframe thead th {\n",
       "        text-align: right;\n",
       "    }\n",
       "</style>\n",
       "<table border=\"1\" class=\"dataframe\">\n",
       "  <thead>\n",
       "    <tr style=\"text-align: right;\">\n",
       "      <th></th>\n",
       "      <th>v</th>\n",
       "      <th>Node_ID</th>\n",
       "      <th>long</th>\n",
       "      <th>lat</th>\n",
       "      <th>a</th>\n",
       "      <th>Node1</th>\n",
       "      <th>Node2</th>\n",
       "      <th>Distance</th>\n",
       "    </tr>\n",
       "  </thead>\n",
       "  <tbody>\n",
       "    <tr>\n",
       "      <th>0</th>\n",
       "      <td>v</td>\n",
       "      <td>228</td>\n",
       "      <td>-114.033229</td>\n",
       "      <td>33.953738</td>\n",
       "      <td>a</td>\n",
       "      <td>1048832</td>\n",
       "      <td>228</td>\n",
       "      <td>1957</td>\n",
       "    </tr>\n",
       "    <tr>\n",
       "      <th>1</th>\n",
       "      <td>v</td>\n",
       "      <td>228</td>\n",
       "      <td>-114.033229</td>\n",
       "      <td>33.953738</td>\n",
       "      <td>a</td>\n",
       "      <td>1048832</td>\n",
       "      <td>228</td>\n",
       "      <td>1957</td>\n",
       "    </tr>\n",
       "    <tr>\n",
       "      <th>2</th>\n",
       "      <td>v</td>\n",
       "      <td>228</td>\n",
       "      <td>-114.033229</td>\n",
       "      <td>33.953738</td>\n",
       "      <td>a</td>\n",
       "      <td>1048832</td>\n",
       "      <td>228</td>\n",
       "      <td>1957</td>\n",
       "    </tr>\n",
       "    <tr>\n",
       "      <th>3</th>\n",
       "      <td>v</td>\n",
       "      <td>228</td>\n",
       "      <td>-114.033229</td>\n",
       "      <td>33.953738</td>\n",
       "      <td>a</td>\n",
       "      <td>1048832</td>\n",
       "      <td>228</td>\n",
       "      <td>1957</td>\n",
       "    </tr>\n",
       "    <tr>\n",
       "      <th>4</th>\n",
       "      <td>v</td>\n",
       "      <td>300</td>\n",
       "      <td>-114.030468</td>\n",
       "      <td>33.955685</td>\n",
       "      <td>a</td>\n",
       "      <td>1048816</td>\n",
       "      <td>300</td>\n",
       "      <td>1018</td>\n",
       "    </tr>\n",
       "  </tbody>\n",
       "</table>\n",
       "</div>"
      ],
      "text/plain": [
       "   v  Node_ID        long        lat  a    Node1  Node2  Distance\n",
       "0  v      228 -114.033229  33.953738  a  1048832    228      1957\n",
       "1  v      228 -114.033229  33.953738  a  1048832    228      1957\n",
       "2  v      228 -114.033229  33.953738  a  1048832    228      1957\n",
       "3  v      228 -114.033229  33.953738  a  1048832    228      1957\n",
       "4  v      300 -114.030468  33.955685  a  1048816    300      1018"
      ]
     },
     "execution_count": 58,
     "metadata": {},
     "output_type": "execute_result"
    }
   ],
   "source": [
    "out_df_cor.head(5)"
   ]
  },
  {
   "cell_type": "code",
   "execution_count": 59,
   "metadata": {
    "scrolled": true
   },
   "outputs": [],
   "source": [
    "out_df_cor=out_df_cor.drop_duplicates()"
   ]
  },
  {
   "cell_type": "code",
   "execution_count": 60,
   "metadata": {},
   "outputs": [
    {
     "data": {
      "text/html": [
       "<div>\n",
       "<style scoped>\n",
       "    .dataframe tbody tr th:only-of-type {\n",
       "        vertical-align: middle;\n",
       "    }\n",
       "\n",
       "    .dataframe tbody tr th {\n",
       "        vertical-align: top;\n",
       "    }\n",
       "\n",
       "    .dataframe thead th {\n",
       "        text-align: right;\n",
       "    }\n",
       "</style>\n",
       "<table border=\"1\" class=\"dataframe\">\n",
       "  <thead>\n",
       "    <tr style=\"text-align: right;\">\n",
       "      <th></th>\n",
       "      <th>v</th>\n",
       "      <th>Node_ID</th>\n",
       "      <th>long</th>\n",
       "      <th>lat</th>\n",
       "      <th>a</th>\n",
       "      <th>Node1</th>\n",
       "      <th>Node2</th>\n",
       "      <th>Distance</th>\n",
       "    </tr>\n",
       "  </thead>\n",
       "  <tbody>\n",
       "    <tr>\n",
       "      <th>0</th>\n",
       "      <td>v</td>\n",
       "      <td>228</td>\n",
       "      <td>-114.033229</td>\n",
       "      <td>33.953738</td>\n",
       "      <td>a</td>\n",
       "      <td>1048832</td>\n",
       "      <td>228</td>\n",
       "      <td>1957</td>\n",
       "    </tr>\n",
       "    <tr>\n",
       "      <th>4</th>\n",
       "      <td>v</td>\n",
       "      <td>300</td>\n",
       "      <td>-114.030468</td>\n",
       "      <td>33.955685</td>\n",
       "      <td>a</td>\n",
       "      <td>1048816</td>\n",
       "      <td>300</td>\n",
       "      <td>1018</td>\n",
       "    </tr>\n",
       "    <tr>\n",
       "      <th>7</th>\n",
       "      <td>v</td>\n",
       "      <td>300</td>\n",
       "      <td>-114.030468</td>\n",
       "      <td>33.955685</td>\n",
       "      <td>a</td>\n",
       "      <td>1048818</td>\n",
       "      <td>300</td>\n",
       "      <td>597</td>\n",
       "    </tr>\n",
       "    <tr>\n",
       "      <th>31</th>\n",
       "      <td>v</td>\n",
       "      <td>303</td>\n",
       "      <td>-114.029393</td>\n",
       "      <td>33.956453</td>\n",
       "      <td>a</td>\n",
       "      <td>1048818</td>\n",
       "      <td>303</td>\n",
       "      <td>711</td>\n",
       "    </tr>\n",
       "    <tr>\n",
       "      <th>45</th>\n",
       "      <td>v</td>\n",
       "      <td>303</td>\n",
       "      <td>-114.029393</td>\n",
       "      <td>33.956453</td>\n",
       "      <td>a</td>\n",
       "      <td>1048819</td>\n",
       "      <td>303</td>\n",
       "      <td>1577</td>\n",
       "    </tr>\n",
       "    <tr>\n",
       "      <th>47</th>\n",
       "      <td>v</td>\n",
       "      <td>2448</td>\n",
       "      <td>-114.033365</td>\n",
       "      <td>33.956606</td>\n",
       "      <td>a</td>\n",
       "      <td>1048832</td>\n",
       "      <td>2448</td>\n",
       "      <td>2514</td>\n",
       "    </tr>\n",
       "    <tr>\n",
       "      <th>49</th>\n",
       "      <td>v</td>\n",
       "      <td>1048816</td>\n",
       "      <td>-114.031306</td>\n",
       "      <td>33.955088</td>\n",
       "      <td>a</td>\n",
       "      <td>300</td>\n",
       "      <td>1048816</td>\n",
       "      <td>1018</td>\n",
       "    </tr>\n",
       "    <tr>\n",
       "      <th>51</th>\n",
       "      <td>v</td>\n",
       "      <td>1048816</td>\n",
       "      <td>-114.031306</td>\n",
       "      <td>33.955088</td>\n",
       "      <td>a</td>\n",
       "      <td>1048832</td>\n",
       "      <td>1048816</td>\n",
       "      <td>365</td>\n",
       "    </tr>\n",
       "    <tr>\n",
       "      <th>79</th>\n",
       "      <td>v</td>\n",
       "      <td>1048817</td>\n",
       "      <td>-114.028244</td>\n",
       "      <td>33.957519</td>\n",
       "      <td>a</td>\n",
       "      <td>1048819</td>\n",
       "      <td>1048817</td>\n",
       "      <td>205</td>\n",
       "    </tr>\n",
       "    <tr>\n",
       "      <th>88</th>\n",
       "      <td>v</td>\n",
       "      <td>1048818</td>\n",
       "      <td>-114.029977</td>\n",
       "      <td>33.956035</td>\n",
       "      <td>a</td>\n",
       "      <td>300</td>\n",
       "      <td>1048818</td>\n",
       "      <td>597</td>\n",
       "    </tr>\n",
       "    <tr>\n",
       "      <th>92</th>\n",
       "      <td>v</td>\n",
       "      <td>1048818</td>\n",
       "      <td>-114.029977</td>\n",
       "      <td>33.956035</td>\n",
       "      <td>a</td>\n",
       "      <td>303</td>\n",
       "      <td>1048818</td>\n",
       "      <td>711</td>\n",
       "    </tr>\n",
       "    <tr>\n",
       "      <th>114</th>\n",
       "      <td>v</td>\n",
       "      <td>1048819</td>\n",
       "      <td>-114.028098</td>\n",
       "      <td>33.957380</td>\n",
       "      <td>a</td>\n",
       "      <td>303</td>\n",
       "      <td>1048819</td>\n",
       "      <td>1577</td>\n",
       "    </tr>\n",
       "    <tr>\n",
       "      <th>116</th>\n",
       "      <td>v</td>\n",
       "      <td>1048819</td>\n",
       "      <td>-114.028098</td>\n",
       "      <td>33.957380</td>\n",
       "      <td>a</td>\n",
       "      <td>1048817</td>\n",
       "      <td>1048819</td>\n",
       "      <td>205</td>\n",
       "    </tr>\n",
       "    <tr>\n",
       "      <th>126</th>\n",
       "      <td>v</td>\n",
       "      <td>1048820</td>\n",
       "      <td>-114.026790</td>\n",
       "      <td>33.954415</td>\n",
       "      <td>a</td>\n",
       "      <td>303</td>\n",
       "      <td>1048820</td>\n",
       "      <td>3299</td>\n",
       "    </tr>\n",
       "    <tr>\n",
       "      <th>127</th>\n",
       "      <td>v</td>\n",
       "      <td>1048832</td>\n",
       "      <td>-114.031608</td>\n",
       "      <td>33.954876</td>\n",
       "      <td>a</td>\n",
       "      <td>1048816</td>\n",
       "      <td>1048832</td>\n",
       "      <td>365</td>\n",
       "    </tr>\n",
       "    <tr>\n",
       "      <th>149</th>\n",
       "      <td>v</td>\n",
       "      <td>1048836</td>\n",
       "      <td>-114.030885</td>\n",
       "      <td>33.957597</td>\n",
       "      <td>a</td>\n",
       "      <td>303</td>\n",
       "      <td>1048836</td>\n",
       "      <td>1873</td>\n",
       "    </tr>\n",
       "  </tbody>\n",
       "</table>\n",
       "</div>"
      ],
      "text/plain": [
       "     v  Node_ID        long        lat  a    Node1    Node2  Distance\n",
       "0    v      228 -114.033229  33.953738  a  1048832      228      1957\n",
       "4    v      300 -114.030468  33.955685  a  1048816      300      1018\n",
       "7    v      300 -114.030468  33.955685  a  1048818      300       597\n",
       "31   v      303 -114.029393  33.956453  a  1048818      303       711\n",
       "45   v      303 -114.029393  33.956453  a  1048819      303      1577\n",
       "47   v     2448 -114.033365  33.956606  a  1048832     2448      2514\n",
       "49   v  1048816 -114.031306  33.955088  a      300  1048816      1018\n",
       "51   v  1048816 -114.031306  33.955088  a  1048832  1048816       365\n",
       "79   v  1048817 -114.028244  33.957519  a  1048819  1048817       205\n",
       "88   v  1048818 -114.029977  33.956035  a      300  1048818       597\n",
       "92   v  1048818 -114.029977  33.956035  a      303  1048818       711\n",
       "114  v  1048819 -114.028098  33.957380  a      303  1048819      1577\n",
       "116  v  1048819 -114.028098  33.957380  a  1048817  1048819       205\n",
       "126  v  1048820 -114.026790  33.954415  a      303  1048820      3299\n",
       "127  v  1048832 -114.031608  33.954876  a  1048816  1048832       365\n",
       "149  v  1048836 -114.030885  33.957597  a      303  1048836      1873"
      ]
     },
     "execution_count": 60,
     "metadata": {},
     "output_type": "execute_result"
    }
   ],
   "source": [
    "out_df_cor"
   ]
  },
  {
   "cell_type": "code",
   "execution_count": 61,
   "metadata": {
    "scrolled": true
   },
   "outputs": [],
   "source": [
    "lat=list(df_c['lat'].values)\n",
    "long=list(df_c['long'].values)"
   ]
  },
  {
   "cell_type": "code",
   "execution_count": 75,
   "metadata": {},
   "outputs": [],
   "source": [
    "m = folium.Map(location=[np.mean(lat),np.mean(long)],zoom_start=6)"
   ]
  },
  {
   "cell_type": "code",
   "execution_count": 76,
   "metadata": {},
   "outputs": [
    {
     "data": {
      "text/html": [
       "<div style=\"width:100%;\"><div style=\"position:relative;width:100%;height:0;padding-bottom:60%;\"><iframe src=\"data:text/html;charset=utf-8;base64,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\" style=\"position:absolute;width:100%;height:100%;left:0;top:0;border:none !important;\" allowfullscreen webkitallowfullscreen mozallowfullscreen></iframe></div></div>"
      ],
      "text/plain": [
       "<folium.folium.Map at 0xa73060b70>"
      ]
     },
     "execution_count": 76,
     "metadata": {},
     "output_type": "execute_result"
    }
   ],
   "source": [
    "m"
   ]
  },
  {
   "cell_type": "code",
   "execution_count": 77,
   "metadata": {},
   "outputs": [],
   "source": [
    "# plotting the starting node and node within the threshold\n",
    "for i in range(len(out_df_cor)):\n",
    "    folium.CircleMarker(location=[lat[i],long[i]],\n",
    "                        radius=5,\n",
    "                        popup=['Node_ID'],\n",
    "                        fill_color=\"#3db7e4\",\n",
    "                       ).add_to(m)"
   ]
  },
  {
   "cell_type": "code",
   "execution_count": 74,
   "metadata": {},
   "outputs": [
    {
     "data": {
      "text/html": [
       "<div style=\"width:100%;\"><div style=\"position:relative;width:100%;height:0;padding-bottom:60%;\"><iframe src=\"data:text/html;charset=utf-8;base64,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\" style=\"position:absolute;width:100%;height:100%;left:0;top:0;border:none !important;\" allowfullscreen webkitallowfullscreen mozallowfullscreen></iframe></div></div>"
      ],
      "text/plain": [
       "<folium.folium.Map at 0xacf5cee48>"
      ]
     },
     "execution_count": 74,
     "metadata": {},
     "output_type": "execute_result"
    }
   ],
   "source": [
    "m"
   ]
  },
  {
   "cell_type": "code",
   "execution_count": null,
   "metadata": {},
   "outputs": [],
   "source": []
  }
 ],
 "metadata": {
  "kernelspec": {
   "display_name": "Python 3",
   "language": "python",
   "name": "python3"
  },
  "language_info": {
   "codemirror_mode": {
    "name": "ipython",
    "version": 3
   },
   "file_extension": ".py",
   "mimetype": "text/x-python",
   "name": "python",
   "nbconvert_exporter": "python",
   "pygments_lexer": "ipython3",
   "version": "3.7.3"
  }
 },
 "nbformat": 4,
 "nbformat_minor": 2
}
