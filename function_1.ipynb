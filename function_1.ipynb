{
 "cells": [
  {
   "cell_type": "markdown",
   "metadata": {},
   "source": [
    "# Functionality 1 - Find the Neighbours!\n",
    "\n",
    "Take input:\n",
    "\n",
    "a node v\n",
    "\n",
    "One of the following distances function: \n",
    "\n",
    "t(x,y), d(x,y) or network distance .\n",
    "\n",
    "a distance threshold d.\n",
    "\n",
    "Implement an algorithm (using proper data structures) that returns :\n",
    "\n",
    "the set of nodes at distance <= d from v, corresponding to v’s neighborhood."
   ]
  },
  {
   "cell_type": "code",
   "execution_count": 1,
   "metadata": {},
   "outputs": [],
   "source": [
    "import pandas as pd\n",
    "import networkx as nx\n",
    "import matplotlib.pyplot as plt\n",
    "import numpy as np"
   ]
  },
  {
   "cell_type": "markdown",
   "metadata": {},
   "source": [
    "# Read DS"
   ]
  },
  {
   "cell_type": "markdown",
   "metadata": {},
   "source": [
    "# Distance :"
   ]
  },
  {
   "cell_type": "code",
   "execution_count": 2,
   "metadata": {
    "scrolled": true
   },
   "outputs": [
    {
     "data": {
      "text/html": [
       "<div>\n",
       "<style scoped>\n",
       "    .dataframe tbody tr th:only-of-type {\n",
       "        vertical-align: middle;\n",
       "    }\n",
       "\n",
       "    .dataframe tbody tr th {\n",
       "        vertical-align: top;\n",
       "    }\n",
       "\n",
       "    .dataframe thead th {\n",
       "        text-align: right;\n",
       "    }\n",
       "</style>\n",
       "<table border=\"1\" class=\"dataframe\">\n",
       "  <thead>\n",
       "    <tr style=\"text-align: right;\">\n",
       "      <th></th>\n",
       "      <th>Distance</th>\n",
       "    </tr>\n",
       "  </thead>\n",
       "  <tbody>\n",
       "    <tr>\n",
       "      <th>6</th>\n",
       "      <td>a 1 1048577 456</td>\n",
       "    </tr>\n",
       "    <tr>\n",
       "      <th>7</th>\n",
       "      <td>a 1048577 1 456</td>\n",
       "    </tr>\n",
       "    <tr>\n",
       "      <th>8</th>\n",
       "      <td>a 2 1048578 2389</td>\n",
       "    </tr>\n",
       "    <tr>\n",
       "      <th>9</th>\n",
       "      <td>a 1048578 2 2389</td>\n",
       "    </tr>\n",
       "    <tr>\n",
       "      <th>10</th>\n",
       "      <td>a 3 1048579 358</td>\n",
       "    </tr>\n",
       "    <tr>\n",
       "      <th>11</th>\n",
       "      <td>a 1048579 3 358</td>\n",
       "    </tr>\n",
       "    <tr>\n",
       "      <th>12</th>\n",
       "      <td>a 4 1048579 14901</td>\n",
       "    </tr>\n",
       "    <tr>\n",
       "      <th>13</th>\n",
       "      <td>a 1048579 4 14901</td>\n",
       "    </tr>\n",
       "    <tr>\n",
       "      <th>14</th>\n",
       "      <td>a 5 6 18133</td>\n",
       "    </tr>\n",
       "    <tr>\n",
       "      <th>15</th>\n",
       "      <td>a 6 5 18133</td>\n",
       "    </tr>\n",
       "  </tbody>\n",
       "</table>\n",
       "</div>"
      ],
      "text/plain": [
       "             Distance\n",
       "6     a 1 1048577 456\n",
       "7     a 1048577 1 456\n",
       "8    a 2 1048578 2389\n",
       "9    a 1048578 2 2389\n",
       "10    a 3 1048579 358\n",
       "11    a 1048579 3 358\n",
       "12  a 4 1048579 14901\n",
       "13  a 1048579 4 14901\n",
       "14        a 5 6 18133\n",
       "15        a 6 5 18133"
      ]
     },
     "execution_count": 2,
     "metadata": {},
     "output_type": "execute_result"
    }
   ],
   "source": [
    "df_D = pd.read_csv('./DATA/Distance_graph',header=0, sep=',',\n",
    "                index_col=None, encoding = \"ISO-8859-1\")\n",
    "df_D.columns=[\"Distance\"]\n",
    "df_D.drop([0,1,2,3,4,5],inplace=True)\n",
    "df_D.reset_index(drop=True)\n",
    "df_D.head(10)\n"
   ]
  },
  {
   "cell_type": "code",
   "execution_count": 3,
   "metadata": {
    "scrolled": true
   },
   "outputs": [
    {
     "data": {
      "text/html": [
       "<div>\n",
       "<style scoped>\n",
       "    .dataframe tbody tr th:only-of-type {\n",
       "        vertical-align: middle;\n",
       "    }\n",
       "\n",
       "    .dataframe tbody tr th {\n",
       "        vertical-align: top;\n",
       "    }\n",
       "\n",
       "    .dataframe thead th {\n",
       "        text-align: right;\n",
       "    }\n",
       "</style>\n",
       "<table border=\"1\" class=\"dataframe\">\n",
       "  <thead>\n",
       "    <tr style=\"text-align: right;\">\n",
       "      <th></th>\n",
       "      <th>a</th>\n",
       "      <th>Node1</th>\n",
       "      <th>Node2</th>\n",
       "      <th>Distance</th>\n",
       "    </tr>\n",
       "  </thead>\n",
       "  <tbody>\n",
       "    <tr>\n",
       "      <th>0</th>\n",
       "      <td>a</td>\n",
       "      <td>1</td>\n",
       "      <td>1048577</td>\n",
       "      <td>456</td>\n",
       "    </tr>\n",
       "    <tr>\n",
       "      <th>1</th>\n",
       "      <td>a</td>\n",
       "      <td>1048577</td>\n",
       "      <td>1</td>\n",
       "      <td>456</td>\n",
       "    </tr>\n",
       "    <tr>\n",
       "      <th>2</th>\n",
       "      <td>a</td>\n",
       "      <td>2</td>\n",
       "      <td>1048578</td>\n",
       "      <td>2389</td>\n",
       "    </tr>\n",
       "    <tr>\n",
       "      <th>3</th>\n",
       "      <td>a</td>\n",
       "      <td>1048578</td>\n",
       "      <td>2</td>\n",
       "      <td>2389</td>\n",
       "    </tr>\n",
       "  </tbody>\n",
       "</table>\n",
       "</div>"
      ],
      "text/plain": [
       "   a    Node1    Node2  Distance\n",
       "0  a        1  1048577       456\n",
       "1  a  1048577        1       456\n",
       "2  a        2  1048578      2389\n",
       "3  a  1048578        2      2389"
      ]
     },
     "execution_count": 3,
     "metadata": {},
     "output_type": "execute_result"
    }
   ],
   "source": [
    "df_D=df_D['Distance'].str.split(\" \" , expand=True)\n",
    "df_D.columns=['a','Node1','Node2','Distance']\n",
    "df_D['Node1']=pd.to_numeric(df_D['Node1'])\n",
    "df_D['Node2']=pd.to_numeric(df_D['Node2'])\n",
    "df_D['Distance']=pd.to_numeric(df_D['Distance'])\n",
    "df_D=df_D.reset_index(drop=True)\n",
    "df_D.head(4)"
   ]
  },
  {
   "cell_type": "code",
   "execution_count": 4,
   "metadata": {},
   "outputs": [
    {
     "data": {
      "text/plain": [
       "(4657742, 4)"
      ]
     },
     "execution_count": 4,
     "metadata": {},
     "output_type": "execute_result"
    }
   ],
   "source": [
    "df_D.shape"
   ]
  },
  {
   "cell_type": "code",
   "execution_count": 5,
   "metadata": {},
   "outputs": [
    {
     "data": {
      "text/html": [
       "<div>\n",
       "<style scoped>\n",
       "    .dataframe tbody tr th:only-of-type {\n",
       "        vertical-align: middle;\n",
       "    }\n",
       "\n",
       "    .dataframe tbody tr th {\n",
       "        vertical-align: top;\n",
       "    }\n",
       "\n",
       "    .dataframe thead th {\n",
       "        text-align: right;\n",
       "    }\n",
       "</style>\n",
       "<table border=\"1\" class=\"dataframe\">\n",
       "  <thead>\n",
       "    <tr style=\"text-align: right;\">\n",
       "      <th></th>\n",
       "      <th>Distance</th>\n",
       "    </tr>\n",
       "  </thead>\n",
       "  <tbody>\n",
       "    <tr>\n",
       "      <th>6</th>\n",
       "      <td>a 1 1048577 1139</td>\n",
       "    </tr>\n",
       "    <tr>\n",
       "      <th>7</th>\n",
       "      <td>a 1048577 1 1139</td>\n",
       "    </tr>\n",
       "    <tr>\n",
       "      <th>8</th>\n",
       "      <td>a 2 1048578 5972</td>\n",
       "    </tr>\n",
       "    <tr>\n",
       "      <th>9</th>\n",
       "      <td>a 1048578 2 5972</td>\n",
       "    </tr>\n",
       "    <tr>\n",
       "      <th>10</th>\n",
       "      <td>a 3 1048579 895</td>\n",
       "    </tr>\n",
       "  </tbody>\n",
       "</table>\n",
       "</div>"
      ],
      "text/plain": [
       "            Distance\n",
       "6   a 1 1048577 1139\n",
       "7   a 1048577 1 1139\n",
       "8   a 2 1048578 5972\n",
       "9   a 1048578 2 5972\n",
       "10   a 3 1048579 895"
      ]
     },
     "execution_count": 5,
     "metadata": {},
     "output_type": "execute_result"
    }
   ],
   "source": [
    "df_T = pd.read_csv('./DATA/Travel_time_graph',header=0, sep=',',\n",
    "                index_col=None, encoding = \"ISO-8859-1\")\n",
    "df_T.columns=[\"Distance\"]\n",
    "df_T.drop([0,1,2,3,4,5],inplace=True)\n",
    "df_T.head(5)"
   ]
  },
  {
   "cell_type": "code",
   "execution_count": 6,
   "metadata": {},
   "outputs": [
    {
     "data": {
      "text/html": [
       "<div>\n",
       "<style scoped>\n",
       "    .dataframe tbody tr th:only-of-type {\n",
       "        vertical-align: middle;\n",
       "    }\n",
       "\n",
       "    .dataframe tbody tr th {\n",
       "        vertical-align: top;\n",
       "    }\n",
       "\n",
       "    .dataframe thead th {\n",
       "        text-align: right;\n",
       "    }\n",
       "</style>\n",
       "<table border=\"1\" class=\"dataframe\">\n",
       "  <thead>\n",
       "    <tr style=\"text-align: right;\">\n",
       "      <th></th>\n",
       "      <th>a</th>\n",
       "      <th>Node1</th>\n",
       "      <th>Node2</th>\n",
       "      <th>Distance</th>\n",
       "    </tr>\n",
       "  </thead>\n",
       "  <tbody>\n",
       "    <tr>\n",
       "      <th>0</th>\n",
       "      <td>a</td>\n",
       "      <td>1</td>\n",
       "      <td>1048577</td>\n",
       "      <td>1139</td>\n",
       "    </tr>\n",
       "    <tr>\n",
       "      <th>1</th>\n",
       "      <td>a</td>\n",
       "      <td>1048577</td>\n",
       "      <td>1</td>\n",
       "      <td>1139</td>\n",
       "    </tr>\n",
       "    <tr>\n",
       "      <th>2</th>\n",
       "      <td>a</td>\n",
       "      <td>2</td>\n",
       "      <td>1048578</td>\n",
       "      <td>5972</td>\n",
       "    </tr>\n",
       "    <tr>\n",
       "      <th>3</th>\n",
       "      <td>a</td>\n",
       "      <td>1048578</td>\n",
       "      <td>2</td>\n",
       "      <td>5972</td>\n",
       "    </tr>\n",
       "    <tr>\n",
       "      <th>4</th>\n",
       "      <td>a</td>\n",
       "      <td>3</td>\n",
       "      <td>1048579</td>\n",
       "      <td>895</td>\n",
       "    </tr>\n",
       "  </tbody>\n",
       "</table>\n",
       "</div>"
      ],
      "text/plain": [
       "   a    Node1    Node2  Distance\n",
       "0  a        1  1048577      1139\n",
       "1  a  1048577        1      1139\n",
       "2  a        2  1048578      5972\n",
       "3  a  1048578        2      5972\n",
       "4  a        3  1048579       895"
      ]
     },
     "execution_count": 6,
     "metadata": {},
     "output_type": "execute_result"
    }
   ],
   "source": [
    "df_T=df_T[\"Distance\"].str.split(\" \" , expand=True)\n",
    "df_T.columns=['a','Node1','Node2','Distance']\n",
    "df_T['Node1']=pd.to_numeric(df_T['Node1'])\n",
    "df_T['Node2']=pd.to_numeric(df_T['Node2'])\n",
    "df_T['Distance']=pd.to_numeric(df_T['Distance'])\n",
    "df_T=df_T.reset_index(drop=True)\n",
    "df_T.head(5)"
   ]
  },
  {
   "cell_type": "code",
   "execution_count": 7,
   "metadata": {},
   "outputs": [
    {
     "data": {
      "text/plain": [
       "(4657742, 4)"
      ]
     },
     "execution_count": 7,
     "metadata": {},
     "output_type": "execute_result"
    }
   ],
   "source": [
    "df_T.shape"
   ]
  },
  {
   "cell_type": "markdown",
   "metadata": {},
   "source": [
    "# Search Neighbours:\n"
   ]
  },
  {
   "cell_type": "code",
   "execution_count": 49,
   "metadata": {
    "scrolled": true
   },
   "outputs": [
    {
     "name": "stdout",
     "output_type": "stream",
     "text": [
      "Enter node numbner 300\n",
      "Enter one of this Distance type: Time or Physical Physical\n",
      "Enter your threshold 5000\n"
     ]
    },
    {
     "data": {
      "text/html": [
       "<div>\n",
       "<style scoped>\n",
       "    .dataframe tbody tr th:only-of-type {\n",
       "        vertical-align: middle;\n",
       "    }\n",
       "\n",
       "    .dataframe tbody tr th {\n",
       "        vertical-align: top;\n",
       "    }\n",
       "\n",
       "    .dataframe thead th {\n",
       "        text-align: right;\n",
       "    }\n",
       "</style>\n",
       "<table border=\"1\" class=\"dataframe\">\n",
       "  <thead>\n",
       "    <tr style=\"text-align: right;\">\n",
       "      <th></th>\n",
       "      <th>a</th>\n",
       "      <th>Node1</th>\n",
       "      <th>Node2</th>\n",
       "      <th>Distance</th>\n",
       "    </tr>\n",
       "  </thead>\n",
       "  <tbody>\n",
       "    <tr>\n",
       "      <th>1003</th>\n",
       "      <td>a</td>\n",
       "      <td>300</td>\n",
       "      <td>1048816</td>\n",
       "      <td>1018</td>\n",
       "    </tr>\n",
       "    <tr>\n",
       "      <th>1008</th>\n",
       "      <td>a</td>\n",
       "      <td>300</td>\n",
       "      <td>1048818</td>\n",
       "      <td>597</td>\n",
       "    </tr>\n",
       "    <tr>\n",
       "      <th>1002</th>\n",
       "      <td>a</td>\n",
       "      <td>1048816</td>\n",
       "      <td>300</td>\n",
       "      <td>1018</td>\n",
       "    </tr>\n",
       "    <tr>\n",
       "      <th>1071</th>\n",
       "      <td>a</td>\n",
       "      <td>1048816</td>\n",
       "      <td>1048832</td>\n",
       "      <td>365</td>\n",
       "    </tr>\n",
       "    <tr>\n",
       "      <th>1003</th>\n",
       "      <td>a</td>\n",
       "      <td>300</td>\n",
       "      <td>1048816</td>\n",
       "      <td>1018</td>\n",
       "    </tr>\n",
       "    <tr>\n",
       "      <th>1008</th>\n",
       "      <td>a</td>\n",
       "      <td>300</td>\n",
       "      <td>1048818</td>\n",
       "      <td>597</td>\n",
       "    </tr>\n",
       "    <tr>\n",
       "      <th>1002</th>\n",
       "      <td>a</td>\n",
       "      <td>1048816</td>\n",
       "      <td>300</td>\n",
       "      <td>1018</td>\n",
       "    </tr>\n",
       "  </tbody>\n",
       "</table>\n",
       "</div>"
      ],
      "text/plain": [
       "      a    Node1    Node2  Distance\n",
       "1003  a      300  1048816      1018\n",
       "1008  a      300  1048818       597\n",
       "1002  a  1048816      300      1018\n",
       "1071  a  1048816  1048832       365\n",
       "1003  a      300  1048816      1018\n",
       "1008  a      300  1048818       597\n",
       "1002  a  1048816      300      1018"
      ]
     },
     "execution_count": 49,
     "metadata": {},
     "output_type": "execute_result"
    }
   ],
   "source": [
    "node= int(input(\"Enter node numbner \"))\n",
    "distance_type=input(\"Enter one of this Distance type: Time or Physical \")\n",
    "threshold=int(input(\"Enter your threshold \"))  \n",
    "#The idea is to iterate all direct neighbour from node v\n",
    "#and check the values Corresponding to the input\n",
    "#and we recursively subtract the new distance from initial threshold \n",
    "#to check the neighbours of the initial node's neighbour's Satisfying the threshold\n",
    "def search_Neighbours(node, distance_type, threshold): \n",
    "    if distance_type == \"Physical\":\n",
    "        data = df_D\n",
    "    elif distance_type == \"Time\":\n",
    "        data=df_T   \n",
    "    out_df = data[(data['Node1'] == node) & (data['Distance'] <= threshold)]\n",
    "\n",
    "    Neighbours=list(out_df.Node2.values)\n",
    "        #print(Neighbours)\n",
    "    for j in Neighbours:\n",
    "        neigh_dis = data[(data['Node1'] == node) & (data['Node2'] == j)]\n",
    "        neigh_dis=int(neigh_dis['Distance'])\n",
    "        out_df=pd.concat([out_df,search_Neighbours(j, distance_type, threshold-neigh_dis)])\n",
    "    return out_df\n",
    "\n",
    "out_df=search_Neighbours(node,distance_type,threshold)\n",
    "out_df.head(7)"
   ]
  },
  {
   "cell_type": "code",
   "execution_count": 50,
   "metadata": {},
   "outputs": [
    {
     "data": {
      "text/plain": [
       "[1048832,\n",
       " 228,\n",
       " 1048836,\n",
       " 300,\n",
       " 303,\n",
       " 1048816,\n",
       " 2448,\n",
       " 1048818,\n",
       " 1048819,\n",
       " 1048817,\n",
       " 1048820]"
      ]
     },
     "execution_count": 50,
     "metadata": {},
     "output_type": "execute_result"
    }
   ],
   "source": [
    "all_Neighbours = list(set(out_df['Node2'].values))\n",
    "all_Neighbours\n"
   ]
  },
  {
   "cell_type": "code",
   "execution_count": null,
   "metadata": {},
   "outputs": [],
   "source": []
  },
  {
   "cell_type": "markdown",
   "metadata": {},
   "source": [
    "# The map "
   ]
  },
  {
   "cell_type": "code",
   "execution_count": 52,
   "metadata": {},
   "outputs": [],
   "source": [
    "import folium\n",
    "from folium import plugins\n",
    "import pandas as pd\n",
    "import matplotlib.pyplot as plt\n",
    "import seaborn as sns\n",
    "\n",
    "%matplotlib inline"
   ]
  },
  {
   "cell_type": "code",
   "execution_count": 53,
   "metadata": {},
   "outputs": [
    {
     "data": {
      "text/html": [
       "<div>\n",
       "<style scoped>\n",
       "    .dataframe tbody tr th:only-of-type {\n",
       "        vertical-align: middle;\n",
       "    }\n",
       "\n",
       "    .dataframe tbody tr th {\n",
       "        vertical-align: top;\n",
       "    }\n",
       "\n",
       "    .dataframe thead th {\n",
       "        text-align: right;\n",
       "    }\n",
       "</style>\n",
       "<table border=\"1\" class=\"dataframe\">\n",
       "  <thead>\n",
       "    <tr style=\"text-align: right;\">\n",
       "      <th></th>\n",
       "      <th>Coordinates</th>\n",
       "    </tr>\n",
       "  </thead>\n",
       "  <tbody>\n",
       "    <tr>\n",
       "      <th>6</th>\n",
       "      <td>v 1 -114315309 34133550</td>\n",
       "    </tr>\n",
       "    <tr>\n",
       "      <th>7</th>\n",
       "      <td>v 2 -114223946 34176221</td>\n",
       "    </tr>\n",
       "    <tr>\n",
       "      <th>8</th>\n",
       "      <td>v 3 -114307299 34148791</td>\n",
       "    </tr>\n",
       "  </tbody>\n",
       "</table>\n",
       "</div>"
      ],
      "text/plain": [
       "               Coordinates\n",
       "6  v 1 -114315309 34133550\n",
       "7  v 2 -114223946 34176221\n",
       "8  v 3 -114307299 34148791"
      ]
     },
     "execution_count": 53,
     "metadata": {},
     "output_type": "execute_result"
    }
   ],
   "source": [
    "df_c = pd.read_csv('./DATA/Coordinates',header=0, sep=',',\n",
    "                index_col=None, encoding = \"ISO-8859-1\")\n",
    "df_c.columns=[\"Coordinates\"]\n",
    "df_c.drop([0,1,2,3,4,5],inplace=True)\n",
    "df_c.head(3)"
   ]
  },
  {
   "cell_type": "code",
   "execution_count": 54,
   "metadata": {},
   "outputs": [
    {
     "data": {
      "text/html": [
       "<div>\n",
       "<style scoped>\n",
       "    .dataframe tbody tr th:only-of-type {\n",
       "        vertical-align: middle;\n",
       "    }\n",
       "\n",
       "    .dataframe tbody tr th {\n",
       "        vertical-align: top;\n",
       "    }\n",
       "\n",
       "    .dataframe thead th {\n",
       "        text-align: right;\n",
       "    }\n",
       "</style>\n",
       "<table border=\"1\" class=\"dataframe\">\n",
       "  <thead>\n",
       "    <tr style=\"text-align: right;\">\n",
       "      <th></th>\n",
       "      <th>v</th>\n",
       "      <th>Node_ID</th>\n",
       "      <th>long</th>\n",
       "      <th>lat</th>\n",
       "    </tr>\n",
       "  </thead>\n",
       "  <tbody>\n",
       "    <tr>\n",
       "      <th>0</th>\n",
       "      <td>v</td>\n",
       "      <td>1</td>\n",
       "      <td>-114315309</td>\n",
       "      <td>34133550</td>\n",
       "    </tr>\n",
       "    <tr>\n",
       "      <th>1</th>\n",
       "      <td>v</td>\n",
       "      <td>2</td>\n",
       "      <td>-114223946</td>\n",
       "      <td>34176221</td>\n",
       "    </tr>\n",
       "    <tr>\n",
       "      <th>2</th>\n",
       "      <td>v</td>\n",
       "      <td>3</td>\n",
       "      <td>-114307299</td>\n",
       "      <td>34148791</td>\n",
       "    </tr>\n",
       "    <tr>\n",
       "      <th>3</th>\n",
       "      <td>v</td>\n",
       "      <td>4</td>\n",
       "      <td>-114318765</td>\n",
       "      <td>34138889</td>\n",
       "    </tr>\n",
       "    <tr>\n",
       "      <th>4</th>\n",
       "      <td>v</td>\n",
       "      <td>5</td>\n",
       "      <td>-114347300</td>\n",
       "      <td>34042614</td>\n",
       "    </tr>\n",
       "  </tbody>\n",
       "</table>\n",
       "</div>"
      ],
      "text/plain": [
       "   v  Node_ID       long       lat\n",
       "0  v        1 -114315309  34133550\n",
       "1  v        2 -114223946  34176221\n",
       "2  v        3 -114307299  34148791\n",
       "3  v        4 -114318765  34138889\n",
       "4  v        5 -114347300  34042614"
      ]
     },
     "execution_count": 54,
     "metadata": {},
     "output_type": "execute_result"
    }
   ],
   "source": [
    "df_c=df_c.Coordinates.str.split(\" \" , expand=True)\n",
    "df_c.columns=['v','Node_ID','long','lat']\n",
    "df_c['Node_ID']=pd.to_numeric(df_c['Node_ID'])\n",
    "df_c['long']=pd.to_numeric(df_c['long'])\n",
    "df_c['lat']=pd.to_numeric(df_c['lat'])\n",
    "df_c=df_c.reset_index(drop=True)\n",
    "df_c.head(5)"
   ]
  },
  {
   "cell_type": "code",
   "execution_count": 55,
   "metadata": {},
   "outputs": [],
   "source": [
    "df_c['lat']=df_c['lat']/1000000\n",
    "df_c['long']=df_c['long']/1000000"
   ]
  },
  {
   "cell_type": "code",
   "execution_count": 56,
   "metadata": {},
   "outputs": [
    {
     "data": {
      "text/html": [
       "<div>\n",
       "<style scoped>\n",
       "    .dataframe tbody tr th:only-of-type {\n",
       "        vertical-align: middle;\n",
       "    }\n",
       "\n",
       "    .dataframe tbody tr th {\n",
       "        vertical-align: top;\n",
       "    }\n",
       "\n",
       "    .dataframe thead th {\n",
       "        text-align: right;\n",
       "    }\n",
       "</style>\n",
       "<table border=\"1\" class=\"dataframe\">\n",
       "  <thead>\n",
       "    <tr style=\"text-align: right;\">\n",
       "      <th></th>\n",
       "      <th>v</th>\n",
       "      <th>Node_ID</th>\n",
       "      <th>long</th>\n",
       "      <th>lat</th>\n",
       "    </tr>\n",
       "  </thead>\n",
       "  <tbody>\n",
       "    <tr>\n",
       "      <th>0</th>\n",
       "      <td>v</td>\n",
       "      <td>1</td>\n",
       "      <td>-114.315309</td>\n",
       "      <td>34.133550</td>\n",
       "    </tr>\n",
       "    <tr>\n",
       "      <th>1</th>\n",
       "      <td>v</td>\n",
       "      <td>2</td>\n",
       "      <td>-114.223946</td>\n",
       "      <td>34.176221</td>\n",
       "    </tr>\n",
       "    <tr>\n",
       "      <th>2</th>\n",
       "      <td>v</td>\n",
       "      <td>3</td>\n",
       "      <td>-114.307299</td>\n",
       "      <td>34.148791</td>\n",
       "    </tr>\n",
       "    <tr>\n",
       "      <th>3</th>\n",
       "      <td>v</td>\n",
       "      <td>4</td>\n",
       "      <td>-114.318765</td>\n",
       "      <td>34.138889</td>\n",
       "    </tr>\n",
       "  </tbody>\n",
       "</table>\n",
       "</div>"
      ],
      "text/plain": [
       "   v  Node_ID        long        lat\n",
       "0  v        1 -114.315309  34.133550\n",
       "1  v        2 -114.223946  34.176221\n",
       "2  v        3 -114.307299  34.148791\n",
       "3  v        4 -114.318765  34.138889"
      ]
     },
     "execution_count": 56,
     "metadata": {},
     "output_type": "execute_result"
    }
   ],
   "source": [
    "df_c.head(4)"
   ]
  },
  {
   "cell_type": "code",
   "execution_count": 57,
   "metadata": {},
   "outputs": [],
   "source": [
    "out_df_cor=pd.merge(df_c,out_df, right_on=\"Node2\", left_on='Node_ID' )"
   ]
  },
  {
   "cell_type": "code",
   "execution_count": 58,
   "metadata": {},
   "outputs": [
    {
     "data": {
      "text/html": [
       "<div>\n",
       "<style scoped>\n",
       "    .dataframe tbody tr th:only-of-type {\n",
       "        vertical-align: middle;\n",
       "    }\n",
       "\n",
       "    .dataframe tbody tr th {\n",
       "        vertical-align: top;\n",
       "    }\n",
       "\n",
       "    .dataframe thead th {\n",
       "        text-align: right;\n",
       "    }\n",
       "</style>\n",
       "<table border=\"1\" class=\"dataframe\">\n",
       "  <thead>\n",
       "    <tr style=\"text-align: right;\">\n",
       "      <th></th>\n",
       "      <th>v</th>\n",
       "      <th>Node_ID</th>\n",
       "      <th>long</th>\n",
       "      <th>lat</th>\n",
       "      <th>a</th>\n",
       "      <th>Node1</th>\n",
       "      <th>Node2</th>\n",
       "      <th>Distance</th>\n",
       "    </tr>\n",
       "  </thead>\n",
       "  <tbody>\n",
       "    <tr>\n",
       "      <th>0</th>\n",
       "      <td>v</td>\n",
       "      <td>228</td>\n",
       "      <td>-114.033229</td>\n",
       "      <td>33.953738</td>\n",
       "      <td>a</td>\n",
       "      <td>1048832</td>\n",
       "      <td>228</td>\n",
       "      <td>1957</td>\n",
       "    </tr>\n",
       "    <tr>\n",
       "      <th>1</th>\n",
       "      <td>v</td>\n",
       "      <td>228</td>\n",
       "      <td>-114.033229</td>\n",
       "      <td>33.953738</td>\n",
       "      <td>a</td>\n",
       "      <td>1048832</td>\n",
       "      <td>228</td>\n",
       "      <td>1957</td>\n",
       "    </tr>\n",
       "    <tr>\n",
       "      <th>2</th>\n",
       "      <td>v</td>\n",
       "      <td>228</td>\n",
       "      <td>-114.033229</td>\n",
       "      <td>33.953738</td>\n",
       "      <td>a</td>\n",
       "      <td>1048832</td>\n",
       "      <td>228</td>\n",
       "      <td>1957</td>\n",
       "    </tr>\n",
       "    <tr>\n",
       "      <th>3</th>\n",
       "      <td>v</td>\n",
       "      <td>228</td>\n",
       "      <td>-114.033229</td>\n",
       "      <td>33.953738</td>\n",
       "      <td>a</td>\n",
       "      <td>1048832</td>\n",
       "      <td>228</td>\n",
       "      <td>1957</td>\n",
       "    </tr>\n",
       "    <tr>\n",
       "      <th>4</th>\n",
       "      <td>v</td>\n",
       "      <td>300</td>\n",
       "      <td>-114.030468</td>\n",
       "      <td>33.955685</td>\n",
       "      <td>a</td>\n",
       "      <td>1048816</td>\n",
       "      <td>300</td>\n",
       "      <td>1018</td>\n",
       "    </tr>\n",
       "  </tbody>\n",
       "</table>\n",
       "</div>"
      ],
      "text/plain": [
       "   v  Node_ID        long        lat  a    Node1  Node2  Distance\n",
       "0  v      228 -114.033229  33.953738  a  1048832    228      1957\n",
       "1  v      228 -114.033229  33.953738  a  1048832    228      1957\n",
       "2  v      228 -114.033229  33.953738  a  1048832    228      1957\n",
       "3  v      228 -114.033229  33.953738  a  1048832    228      1957\n",
       "4  v      300 -114.030468  33.955685  a  1048816    300      1018"
      ]
     },
     "execution_count": 58,
     "metadata": {},
     "output_type": "execute_result"
    }
   ],
   "source": [
    "out_df_cor.head(5)"
   ]
  },
  {
   "cell_type": "code",
   "execution_count": 59,
   "metadata": {
    "scrolled": true
   },
   "outputs": [],
   "source": [
    "out_df_cor=out_df_cor.drop_duplicates()"
   ]
  },
  {
   "cell_type": "code",
   "execution_count": 60,
   "metadata": {},
   "outputs": [
    {
     "data": {
      "text/html": [
       "<div>\n",
       "<style scoped>\n",
       "    .dataframe tbody tr th:only-of-type {\n",
       "        vertical-align: middle;\n",
       "    }\n",
       "\n",
       "    .dataframe tbody tr th {\n",
       "        vertical-align: top;\n",
       "    }\n",
       "\n",
       "    .dataframe thead th {\n",
       "        text-align: right;\n",
       "    }\n",
       "</style>\n",
       "<table border=\"1\" class=\"dataframe\">\n",
       "  <thead>\n",
       "    <tr style=\"text-align: right;\">\n",
       "      <th></th>\n",
       "      <th>v</th>\n",
       "      <th>Node_ID</th>\n",
       "      <th>long</th>\n",
       "      <th>lat</th>\n",
       "      <th>a</th>\n",
       "      <th>Node1</th>\n",
       "      <th>Node2</th>\n",
       "      <th>Distance</th>\n",
       "    </tr>\n",
       "  </thead>\n",
       "  <tbody>\n",
       "    <tr>\n",
       "      <th>0</th>\n",
       "      <td>v</td>\n",
       "      <td>228</td>\n",
       "      <td>-114.033229</td>\n",
       "      <td>33.953738</td>\n",
       "      <td>a</td>\n",
       "      <td>1048832</td>\n",
       "      <td>228</td>\n",
       "      <td>1957</td>\n",
       "    </tr>\n",
       "    <tr>\n",
       "      <th>4</th>\n",
       "      <td>v</td>\n",
       "      <td>300</td>\n",
       "      <td>-114.030468</td>\n",
       "      <td>33.955685</td>\n",
       "      <td>a</td>\n",
       "      <td>1048816</td>\n",
       "      <td>300</td>\n",
       "      <td>1018</td>\n",
       "    </tr>\n",
       "    <tr>\n",
       "      <th>7</th>\n",
       "      <td>v</td>\n",
       "      <td>300</td>\n",
       "      <td>-114.030468</td>\n",
       "      <td>33.955685</td>\n",
       "      <td>a</td>\n",
       "      <td>1048818</td>\n",
       "      <td>300</td>\n",
       "      <td>597</td>\n",
       "    </tr>\n",
       "    <tr>\n",
       "      <th>31</th>\n",
       "      <td>v</td>\n",
       "      <td>303</td>\n",
       "      <td>-114.029393</td>\n",
       "      <td>33.956453</td>\n",
       "      <td>a</td>\n",
       "      <td>1048818</td>\n",
       "      <td>303</td>\n",
       "      <td>711</td>\n",
       "    </tr>\n",
       "    <tr>\n",
       "      <th>45</th>\n",
       "      <td>v</td>\n",
       "      <td>303</td>\n",
       "      <td>-114.029393</td>\n",
       "      <td>33.956453</td>\n",
       "      <td>a</td>\n",
       "      <td>1048819</td>\n",
       "      <td>303</td>\n",
       "      <td>1577</td>\n",
       "    </tr>\n",
       "    <tr>\n",
       "      <th>47</th>\n",
       "      <td>v</td>\n",
       "      <td>2448</td>\n",
       "      <td>-114.033365</td>\n",
       "      <td>33.956606</td>\n",
       "      <td>a</td>\n",
       "      <td>1048832</td>\n",
       "      <td>2448</td>\n",
       "      <td>2514</td>\n",
       "    </tr>\n",
       "    <tr>\n",
       "      <th>49</th>\n",
       "      <td>v</td>\n",
       "      <td>1048816</td>\n",
       "      <td>-114.031306</td>\n",
       "      <td>33.955088</td>\n",
       "      <td>a</td>\n",
       "      <td>300</td>\n",
       "      <td>1048816</td>\n",
       "      <td>1018</td>\n",
       "    </tr>\n",
       "    <tr>\n",
       "      <th>51</th>\n",
       "      <td>v</td>\n",
       "      <td>1048816</td>\n",
       "      <td>-114.031306</td>\n",
       "      <td>33.955088</td>\n",
       "      <td>a</td>\n",
       "      <td>1048832</td>\n",
       "      <td>1048816</td>\n",
       "      <td>365</td>\n",
       "    </tr>\n",
       "    <tr>\n",
       "      <th>79</th>\n",
       "      <td>v</td>\n",
       "      <td>1048817</td>\n",
       "      <td>-114.028244</td>\n",
       "      <td>33.957519</td>\n",
       "      <td>a</td>\n",
       "      <td>1048819</td>\n",
       "      <td>1048817</td>\n",
       "      <td>205</td>\n",
       "    </tr>\n",
       "    <tr>\n",
       "      <th>88</th>\n",
       "      <td>v</td>\n",
       "      <td>1048818</td>\n",
       "      <td>-114.029977</td>\n",
       "      <td>33.956035</td>\n",
       "      <td>a</td>\n",
       "      <td>300</td>\n",
       "      <td>1048818</td>\n",
       "      <td>597</td>\n",
       "    </tr>\n",
       "    <tr>\n",
       "      <th>92</th>\n",
       "      <td>v</td>\n",
       "      <td>1048818</td>\n",
       "      <td>-114.029977</td>\n",
       "      <td>33.956035</td>\n",
       "      <td>a</td>\n",
       "      <td>303</td>\n",
       "      <td>1048818</td>\n",
       "      <td>711</td>\n",
       "    </tr>\n",
       "    <tr>\n",
       "      <th>114</th>\n",
       "      <td>v</td>\n",
       "      <td>1048819</td>\n",
       "      <td>-114.028098</td>\n",
       "      <td>33.957380</td>\n",
       "      <td>a</td>\n",
       "      <td>303</td>\n",
       "      <td>1048819</td>\n",
       "      <td>1577</td>\n",
       "    </tr>\n",
       "    <tr>\n",
       "      <th>116</th>\n",
       "      <td>v</td>\n",
       "      <td>1048819</td>\n",
       "      <td>-114.028098</td>\n",
       "      <td>33.957380</td>\n",
       "      <td>a</td>\n",
       "      <td>1048817</td>\n",
       "      <td>1048819</td>\n",
       "      <td>205</td>\n",
       "    </tr>\n",
       "    <tr>\n",
       "      <th>126</th>\n",
       "      <td>v</td>\n",
       "      <td>1048820</td>\n",
       "      <td>-114.026790</td>\n",
       "      <td>33.954415</td>\n",
       "      <td>a</td>\n",
       "      <td>303</td>\n",
       "      <td>1048820</td>\n",
       "      <td>3299</td>\n",
       "    </tr>\n",
       "    <tr>\n",
       "      <th>127</th>\n",
       "      <td>v</td>\n",
       "      <td>1048832</td>\n",
       "      <td>-114.031608</td>\n",
       "      <td>33.954876</td>\n",
       "      <td>a</td>\n",
       "      <td>1048816</td>\n",
       "      <td>1048832</td>\n",
       "      <td>365</td>\n",
       "    </tr>\n",
       "    <tr>\n",
       "      <th>149</th>\n",
       "      <td>v</td>\n",
       "      <td>1048836</td>\n",
       "      <td>-114.030885</td>\n",
       "      <td>33.957597</td>\n",
       "      <td>a</td>\n",
       "      <td>303</td>\n",
       "      <td>1048836</td>\n",
       "      <td>1873</td>\n",
       "    </tr>\n",
       "  </tbody>\n",
       "</table>\n",
       "</div>"
      ],
      "text/plain": [
       "     v  Node_ID        long        lat  a    Node1    Node2  Distance\n",
       "0    v      228 -114.033229  33.953738  a  1048832      228      1957\n",
       "4    v      300 -114.030468  33.955685  a  1048816      300      1018\n",
       "7    v      300 -114.030468  33.955685  a  1048818      300       597\n",
       "31   v      303 -114.029393  33.956453  a  1048818      303       711\n",
       "45   v      303 -114.029393  33.956453  a  1048819      303      1577\n",
       "47   v     2448 -114.033365  33.956606  a  1048832     2448      2514\n",
       "49   v  1048816 -114.031306  33.955088  a      300  1048816      1018\n",
       "51   v  1048816 -114.031306  33.955088  a  1048832  1048816       365\n",
       "79   v  1048817 -114.028244  33.957519  a  1048819  1048817       205\n",
       "88   v  1048818 -114.029977  33.956035  a      300  1048818       597\n",
       "92   v  1048818 -114.029977  33.956035  a      303  1048818       711\n",
       "114  v  1048819 -114.028098  33.957380  a      303  1048819      1577\n",
       "116  v  1048819 -114.028098  33.957380  a  1048817  1048819       205\n",
       "126  v  1048820 -114.026790  33.954415  a      303  1048820      3299\n",
       "127  v  1048832 -114.031608  33.954876  a  1048816  1048832       365\n",
       "149  v  1048836 -114.030885  33.957597  a      303  1048836      1873"
      ]
     },
     "execution_count": 60,
     "metadata": {},
     "output_type": "execute_result"
    }
   ],
   "source": [
    "out_df_cor"
   ]
  },
  {
   "cell_type": "code",
   "execution_count": 61,
   "metadata": {
    "scrolled": true
   },
   "outputs": [],
   "source": [
    "lat=list(df_c['lat'].values)\n",
    "long=list(df_c['long'].values)"
   ]
  },
  {
   "cell_type": "code",
   "execution_count": 75,
   "metadata": {},
   "outputs": [],
   "source": [
    "m = folium.Map(location=[np.mean(lat),np.mean(long)],zoom_start=6)"
   ]
  },
  {
   "cell_type": "code",
   "execution_count": 76,
   "metadata": {},
   "outputs": [
    {
     "data": {
      "text/html": [
       "<div style=\"width:100%;\"><div style=\"position:relative;width:100%;height:0;padding-bottom:60%;\"><iframe src=\"data:text/html;charset=utf-8;base64,PCFET0NUWVBFIGh0bWw+CjxoZWFkPiAgICAKICAgIDxtZXRhIGh0dHAtZXF1aXY9ImNvbnRlbnQtdHlwZSIgY29udGVudD0idGV4dC9odG1sOyBjaGFyc2V0PVVURi04IiAvPgogICAgCiAgICAgICAgPHNjcmlwdD4KICAgICAgICAgICAgTF9OT19UT1VDSCA9IGZhbHNlOwogICAgICAgICAgICBMX0RJU0FCTEVfM0QgPSBmYWxzZTsKICAgICAgICA8L3NjcmlwdD4KICAgIAogICAgPHNjcmlwdCBzcmM9Imh0dHBzOi8vY2RuLmpzZGVsaXZyLm5ldC9ucG0vbGVhZmxldEAxLjUuMS9kaXN0L2xlYWZsZXQuanMiPjwvc2NyaXB0PgogICAgPHNjcmlwdCBzcmM9Imh0dHBzOi8vY29kZS5qcXVlcnkuY29tL2pxdWVyeS0xLjEyLjQubWluLmpzIj48L3NjcmlwdD4KICAgIDxzY3JpcHQgc3JjPSJodHRwczovL21heGNkbi5ib290c3RyYXBjZG4uY29tL2Jvb3RzdHJhcC8zLjIuMC9qcy9ib290c3RyYXAubWluLmpzIj48L3NjcmlwdD4KICAgIDxzY3JpcHQgc3JjPSJodHRwczovL2NkbmpzLmNsb3VkZmxhcmUuY29tL2FqYXgvbGlicy9MZWFmbGV0LmF3ZXNvbWUtbWFya2Vycy8yLjAuMi9sZWFmbGV0LmF3ZXNvbWUtbWFya2Vycy5qcyI+PC9zY3JpcHQ+CiAgICA8bGluayByZWw9InN0eWxlc2hlZXQiIGhyZWY9Imh0dHBzOi8vY2RuLmpzZGVsaXZyLm5ldC9ucG0vbGVhZmxldEAxLjUuMS9kaXN0L2xlYWZsZXQuY3NzIi8+CiAgICA8bGluayByZWw9InN0eWxlc2hlZXQiIGhyZWY9Imh0dHBzOi8vbWF4Y2RuLmJvb3RzdHJhcGNkbi5jb20vYm9vdHN0cmFwLzMuMi4wL2Nzcy9ib290c3RyYXAubWluLmNzcyIvPgogICAgPGxpbmsgcmVsPSJzdHlsZXNoZWV0IiBocmVmPSJodHRwczovL21heGNkbi5ib290c3RyYXBjZG4uY29tL2Jvb3RzdHJhcC8zLjIuMC9jc3MvYm9vdHN0cmFwLXRoZW1lLm1pbi5jc3MiLz4KICAgIDxsaW5rIHJlbD0ic3R5bGVzaGVldCIgaHJlZj0iaHR0cHM6Ly9tYXhjZG4uYm9vdHN0cmFwY2RuLmNvbS9mb250LWF3ZXNvbWUvNC42LjMvY3NzL2ZvbnQtYXdlc29tZS5taW4uY3NzIi8+CiAgICA8bGluayByZWw9InN0eWxlc2hlZXQiIGhyZWY9Imh0dHBzOi8vY2RuanMuY2xvdWRmbGFyZS5jb20vYWpheC9saWJzL0xlYWZsZXQuYXdlc29tZS1tYXJrZXJzLzIuMC4yL2xlYWZsZXQuYXdlc29tZS1tYXJrZXJzLmNzcyIvPgogICAgPGxpbmsgcmVsPSJzdHlsZXNoZWV0IiBocmVmPSJodHRwczovL3Jhd2Nkbi5naXRoYWNrLmNvbS9weXRob24tdmlzdWFsaXphdGlvbi9mb2xpdW0vbWFzdGVyL2ZvbGl1bS90ZW1wbGF0ZXMvbGVhZmxldC5hd2Vzb21lLnJvdGF0ZS5jc3MiLz4KICAgIDxzdHlsZT5odG1sLCBib2R5IHt3aWR0aDogMTAwJTtoZWlnaHQ6IDEwMCU7bWFyZ2luOiAwO3BhZGRpbmc6IDA7fTwvc3R5bGU+CiAgICA8c3R5bGU+I21hcCB7cG9zaXRpb246YWJzb2x1dGU7dG9wOjA7Ym90dG9tOjA7cmlnaHQ6MDtsZWZ0OjA7fTwvc3R5bGU+CiAgICAKICAgICAgICAgICAgPG1ldGEgbmFtZT0idmlld3BvcnQiIGNvbnRlbnQ9IndpZHRoPWRldmljZS13aWR0aCwKICAgICAgICAgICAgICAgIGluaXRpYWwtc2NhbGU9MS4wLCBtYXhpbXVtLXNjYWxlPTEuMCwgdXNlci1zY2FsYWJsZT1ubyIgLz4KICAgICAgICAgICAgPHN0eWxlPgogICAgICAgICAgICAgICAgI21hcF9jZDNjNGU5NTBiMTA0M2NkYjc1NGQ3MjIxYTExMmY5MCB7CiAgICAgICAgICAgICAgICAgICAgcG9zaXRpb246IHJlbGF0aXZlOwogICAgICAgICAgICAgICAgICAgIHdpZHRoOiAxMDAuMCU7CiAgICAgICAgICAgICAgICAgICAgaGVpZ2h0OiAxMDAuMCU7CiAgICAgICAgICAgICAgICAgICAgbGVmdDogMC4wJTsKICAgICAgICAgICAgICAgICAgICB0b3A6IDAuMCU7CiAgICAgICAgICAgICAgICB9CiAgICAgICAgICAgIDwvc3R5bGU+CiAgICAgICAgCjwvaGVhZD4KPGJvZHk+ICAgIAogICAgCiAgICAgICAgICAgIDxkaXYgY2xhc3M9ImZvbGl1bS1tYXAiIGlkPSJtYXBfY2QzYzRlOTUwYjEwNDNjZGI3NTRkNzIyMWExMTJmOTAiID48L2Rpdj4KICAgICAgICAKPC9ib2R5Pgo8c2NyaXB0PiAgICAKICAgIAogICAgICAgICAgICB2YXIgbWFwX2NkM2M0ZTk1MGIxMDQzY2RiNzU0ZDcyMjFhMTEyZjkwID0gTC5tYXAoCiAgICAgICAgICAgICAgICAibWFwX2NkM2M0ZTk1MGIxMDQzY2RiNzU0ZDcyMjFhMTEyZjkwIiwKICAgICAgICAgICAgICAgIHsKICAgICAgICAgICAgICAgICAgICBjZW50ZXI6IFszNi41ODYxNzI0NzY4Mjg3OCwgLTExOS4xNzU4OTc0NjE0MzY5Nl0sCiAgICAgICAgICAgICAgICAgICAgY3JzOiBMLkNSUy5FUFNHMzg1NywKICAgICAgICAgICAgICAgICAgICB6b29tOiA2LAogICAgICAgICAgICAgICAgICAgIHpvb21Db250cm9sOiB0cnVlLAogICAgICAgICAgICAgICAgICAgIHByZWZlckNhbnZhczogZmFsc2UsCiAgICAgICAgICAgICAgICB9CiAgICAgICAgICAgICk7CgogICAgICAgICAgICAKCiAgICAgICAgCiAgICAKICAgICAgICAgICAgdmFyIHRpbGVfbGF5ZXJfNzUzNzAxMDRjYjhjNDc1YzgwOGFiYTJmODIyYzcwYjIgPSBMLnRpbGVMYXllcigKICAgICAgICAgICAgICAgICJodHRwczovL3tzfS50aWxlLm9wZW5zdHJlZXRtYXAub3JnL3t6fS97eH0ve3l9LnBuZyIsCiAgICAgICAgICAgICAgICB7ImF0dHJpYnV0aW9uIjogIkRhdGEgYnkgXHUwMDI2Y29weTsgXHUwMDNjYSBocmVmPVwiaHR0cDovL29wZW5zdHJlZXRtYXAub3JnXCJcdTAwM2VPcGVuU3RyZWV0TWFwXHUwMDNjL2FcdTAwM2UsIHVuZGVyIFx1MDAzY2EgaHJlZj1cImh0dHA6Ly93d3cub3BlbnN0cmVldG1hcC5vcmcvY29weXJpZ2h0XCJcdTAwM2VPRGJMXHUwMDNjL2FcdTAwM2UuIiwgImRldGVjdFJldGluYSI6IGZhbHNlLCAibWF4TmF0aXZlWm9vbSI6IDE4LCAibWF4Wm9vbSI6IDE4LCAibWluWm9vbSI6IDAsICJub1dyYXAiOiBmYWxzZSwgIm9wYWNpdHkiOiAxLCAic3ViZG9tYWlucyI6ICJhYmMiLCAidG1zIjogZmFsc2V9CiAgICAgICAgICAgICkuYWRkVG8obWFwX2NkM2M0ZTk1MGIxMDQzY2RiNzU0ZDcyMjFhMTEyZjkwKTsKICAgICAgICAKPC9zY3JpcHQ+\" style=\"position:absolute;width:100%;height:100%;left:0;top:0;border:none !important;\" allowfullscreen webkitallowfullscreen mozallowfullscreen></iframe></div></div>"
      ],
      "text/plain": [
       "<folium.folium.Map at 0xa73060b70>"
      ]
     },
     "execution_count": 76,
     "metadata": {},
     "output_type": "execute_result"
    }
   ],
   "source": [
    "m"
   ]
  },
  {
   "cell_type": "code",
   "execution_count": 77,
   "metadata": {},
   "outputs": [],
   "source": [
    "# plotting the starting node and node within the threshold\n",
    "for i in range(len(out_df_cor)):\n",
    "    folium.CircleMarker(location=[lat[i],long[i]],\n",
    "                        radius=5,\n",
    "                        popup=['Node_ID'],\n",
    "                        fill_color=\"#3db7e4\",\n",
    "                       ).add_to(m)"
   ]
  },
  {
   "cell_type": "code",
   "execution_count": 78,
   "metadata": {},
   "outputs": [
    {
     "data": {
      "text/html": [
       "<div style=\"width:100%;\"><div style=\"position:relative;width:100%;height:0;padding-bottom:60%;\"><iframe src=\"data:text/html;charset=utf-8;base64,PCFET0NUWVBFIGh0bWw+CjxoZWFkPiAgICAKICAgIDxtZXRhIGh0dHAtZXF1aXY9ImNvbnRlbnQtdHlwZSIgY29udGVudD0idGV4dC9odG1sOyBjaGFyc2V0PVVURi04IiAvPgogICAgCiAgICAgICAgPHNjcmlwdD4KICAgICAgICAgICAgTF9OT19UT1VDSCA9IGZhbHNlOwogICAgICAgICAgICBMX0RJU0FCTEVfM0QgPSBmYWxzZTsKICAgICAgICA8L3NjcmlwdD4KICAgIAogICAgPHNjcmlwdCBzcmM9Imh0dHBzOi8vY2RuLmpzZGVsaXZyLm5ldC9ucG0vbGVhZmxldEAxLjUuMS9kaXN0L2xlYWZsZXQuanMiPjwvc2NyaXB0PgogICAgPHNjcmlwdCBzcmM9Imh0dHBzOi8vY29kZS5qcXVlcnkuY29tL2pxdWVyeS0xLjEyLjQubWluLmpzIj48L3NjcmlwdD4KICAgIDxzY3JpcHQgc3JjPSJodHRwczovL21heGNkbi5ib290c3RyYXBjZG4uY29tL2Jvb3RzdHJhcC8zLjIuMC9qcy9ib290c3RyYXAubWluLmpzIj48L3NjcmlwdD4KICAgIDxzY3JpcHQgc3JjPSJodHRwczovL2NkbmpzLmNsb3VkZmxhcmUuY29tL2FqYXgvbGlicy9MZWFmbGV0LmF3ZXNvbWUtbWFya2Vycy8yLjAuMi9sZWFmbGV0LmF3ZXNvbWUtbWFya2Vycy5qcyI+PC9zY3JpcHQ+CiAgICA8bGluayByZWw9InN0eWxlc2hlZXQiIGhyZWY9Imh0dHBzOi8vY2RuLmpzZGVsaXZyLm5ldC9ucG0vbGVhZmxldEAxLjUuMS9kaXN0L2xlYWZsZXQuY3NzIi8+CiAgICA8bGluayByZWw9InN0eWxlc2hlZXQiIGhyZWY9Imh0dHBzOi8vbWF4Y2RuLmJvb3RzdHJhcGNkbi5jb20vYm9vdHN0cmFwLzMuMi4wL2Nzcy9ib290c3RyYXAubWluLmNzcyIvPgogICAgPGxpbmsgcmVsPSJzdHlsZXNoZWV0IiBocmVmPSJodHRwczovL21heGNkbi5ib290c3RyYXBjZG4uY29tL2Jvb3RzdHJhcC8zLjIuMC9jc3MvYm9vdHN0cmFwLXRoZW1lLm1pbi5jc3MiLz4KICAgIDxsaW5rIHJlbD0ic3R5bGVzaGVldCIgaHJlZj0iaHR0cHM6Ly9tYXhjZG4uYm9vdHN0cmFwY2RuLmNvbS9mb250LWF3ZXNvbWUvNC42LjMvY3NzL2ZvbnQtYXdlc29tZS5taW4uY3NzIi8+CiAgICA8bGluayByZWw9InN0eWxlc2hlZXQiIGhyZWY9Imh0dHBzOi8vY2RuanMuY2xvdWRmbGFyZS5jb20vYWpheC9saWJzL0xlYWZsZXQuYXdlc29tZS1tYXJrZXJzLzIuMC4yL2xlYWZsZXQuYXdlc29tZS1tYXJrZXJzLmNzcyIvPgogICAgPGxpbmsgcmVsPSJzdHlsZXNoZWV0IiBocmVmPSJodHRwczovL3Jhd2Nkbi5naXRoYWNrLmNvbS9weXRob24tdmlzdWFsaXphdGlvbi9mb2xpdW0vbWFzdGVyL2ZvbGl1bS90ZW1wbGF0ZXMvbGVhZmxldC5hd2Vzb21lLnJvdGF0ZS5jc3MiLz4KICAgIDxzdHlsZT5odG1sLCBib2R5IHt3aWR0aDogMTAwJTtoZWlnaHQ6IDEwMCU7bWFyZ2luOiAwO3BhZGRpbmc6IDA7fTwvc3R5bGU+CiAgICA8c3R5bGU+I21hcCB7cG9zaXRpb246YWJzb2x1dGU7dG9wOjA7Ym90dG9tOjA7cmlnaHQ6MDtsZWZ0OjA7fTwvc3R5bGU+CiAgICAKICAgICAgICAgICAgPG1ldGEgbmFtZT0idmlld3BvcnQiIGNvbnRlbnQ9IndpZHRoPWRldmljZS13aWR0aCwKICAgICAgICAgICAgICAgIGluaXRpYWwtc2NhbGU9MS4wLCBtYXhpbXVtLXNjYWxlPTEuMCwgdXNlci1zY2FsYWJsZT1ubyIgLz4KICAgICAgICAgICAgPHN0eWxlPgogICAgICAgICAgICAgICAgI21hcF9jZDNjNGU5NTBiMTA0M2NkYjc1NGQ3MjIxYTExMmY5MCB7CiAgICAgICAgICAgICAgICAgICAgcG9zaXRpb246IHJlbGF0aXZlOwogICAgICAgICAgICAgICAgICAgIHdpZHRoOiAxMDAuMCU7CiAgICAgICAgICAgICAgICAgICAgaGVpZ2h0OiAxMDAuMCU7CiAgICAgICAgICAgICAgICAgICAgbGVmdDogMC4wJTsKICAgICAgICAgICAgICAgICAgICB0b3A6IDAuMCU7CiAgICAgICAgICAgICAgICB9CiAgICAgICAgICAgIDwvc3R5bGU+CiAgICAgICAgCjwvaGVhZD4KPGJvZHk+ICAgIAogICAgCiAgICAgICAgICAgIDxkaXYgY2xhc3M9ImZvbGl1bS1tYXAiIGlkPSJtYXBfY2QzYzRlOTUwYjEwNDNjZGI3NTRkNzIyMWExMTJmOTAiID48L2Rpdj4KICAgICAgICAKPC9ib2R5Pgo8c2NyaXB0PiAgICAKICAgIAogICAgICAgICAgICB2YXIgbWFwX2NkM2M0ZTk1MGIxMDQzY2RiNzU0ZDcyMjFhMTEyZjkwID0gTC5tYXAoCiAgICAgICAgICAgICAgICAibWFwX2NkM2M0ZTk1MGIxMDQzY2RiNzU0ZDcyMjFhMTEyZjkwIiwKICAgICAgICAgICAgICAgIHsKICAgICAgICAgICAgICAgICAgICBjZW50ZXI6IFszNi41ODYxNzI0NzY4Mjg3OCwgLTExOS4xNzU4OTc0NjE0MzY5Nl0sCiAgICAgICAgICAgICAgICAgICAgY3JzOiBMLkNSUy5FUFNHMzg1NywKICAgICAgICAgICAgICAgICAgICB6b29tOiA2LAogICAgICAgICAgICAgICAgICAgIHpvb21Db250cm9sOiB0cnVlLAogICAgICAgICAgICAgICAgICAgIHByZWZlckNhbnZhczogZmFsc2UsCiAgICAgICAgICAgICAgICB9CiAgICAgICAgICAgICk7CgogICAgICAgICAgICAKCiAgICAgICAgCiAgICAKICAgICAgICAgICAgdmFyIHRpbGVfbGF5ZXJfNzUzNzAxMDRjYjhjNDc1YzgwOGFiYTJmODIyYzcwYjIgPSBMLnRpbGVMYXllcigKICAgICAgICAgICAgICAgICJodHRwczovL3tzfS50aWxlLm9wZW5zdHJlZXRtYXAub3JnL3t6fS97eH0ve3l9LnBuZyIsCiAgICAgICAgICAgICAgICB7ImF0dHJpYnV0aW9uIjogIkRhdGEgYnkgXHUwMDI2Y29weTsgXHUwMDNjYSBocmVmPVwiaHR0cDovL29wZW5zdHJlZXRtYXAub3JnXCJcdTAwM2VPcGVuU3RyZWV0TWFwXHUwMDNjL2FcdTAwM2UsIHVuZGVyIFx1MDAzY2EgaHJlZj1cImh0dHA6Ly93d3cub3BlbnN0cmVldG1hcC5vcmcvY29weXJpZ2h0XCJcdTAwM2VPRGJMXHUwMDNjL2FcdTAwM2UuIiwgImRldGVjdFJldGluYSI6IGZhbHNlLCAibWF4TmF0aXZlWm9vbSI6IDE4LCAibWF4Wm9vbSI6IDE4LCAibWluWm9vbSI6IDAsICJub1dyYXAiOiBmYWxzZSwgIm9wYWNpdHkiOiAxLCAic3ViZG9tYWlucyI6ICJhYmMiLCAidG1zIjogZmFsc2V9CiAgICAgICAgICAgICkuYWRkVG8obWFwX2NkM2M0ZTk1MGIxMDQzY2RiNzU0ZDcyMjFhMTEyZjkwKTsKICAgICAgICAKICAgIAogICAgICAgICAgICB2YXIgY2lyY2xlX21hcmtlcl9kNGVmYWI2MWNmZDM0ZWZlODg4NTFmN2Y3OWZkMDU2NiA9IEwuY2lyY2xlTWFya2VyKAogICAgICAgICAgICAgICAgWzM0LjEzMzU1LCAtMTE0LjMxNTMwOV0sCiAgICAgICAgICAgICAgICB7ImJ1YmJsaW5nTW91c2VFdmVudHMiOiB0cnVlLCAiY29sb3IiOiAiIzMzODhmZiIsICJkYXNoQXJyYXkiOiBudWxsLCAiZGFzaE9mZnNldCI6IG51bGwsICJmaWxsIjogdHJ1ZSwgImZpbGxDb2xvciI6ICIjM2RiN2U0IiwgImZpbGxPcGFjaXR5IjogMC4yLCAiZmlsbFJ1bGUiOiAiZXZlbm9kZCIsICJsaW5lQ2FwIjogInJvdW5kIiwgImxpbmVKb2luIjogInJvdW5kIiwgIm9wYWNpdHkiOiAxLjAsICJyYWRpdXMiOiA1LCAic3Ryb2tlIjogdHJ1ZSwgIndlaWdodCI6IDN9CiAgICAgICAgICAgICkuYWRkVG8obWFwX2NkM2M0ZTk1MGIxMDQzY2RiNzU0ZDcyMjFhMTEyZjkwKTsKICAgICAgICAKICAgIAogICAgICAgIHZhciBwb3B1cF8xMDJkYjg5YWE3OTc0YmYzYWNlNTViYjE3ZDVhOWY3ZiA9IEwucG9wdXAoeyJtYXhXaWR0aCI6ICIxMDAlIn0pOwoKICAgICAgICAKICAgICAgICAgICAgdmFyIGh0bWxfZmZlYTcxMTk2MzUwNDU5N2EyNzFjM2M1NmRlODA1NjYgPSAkKGA8ZGl2IGlkPSJodG1sX2ZmZWE3MTE5NjM1MDQ1OTdhMjcxYzNjNTZkZTgwNTY2IiBzdHlsZT0id2lkdGg6IDEwMC4wJTsgaGVpZ2h0OiAxMDAuMCU7Ij5bJ05vZGVfSUQnXTwvZGl2PmApWzBdOwogICAgICAgICAgICBwb3B1cF8xMDJkYjg5YWE3OTc0YmYzYWNlNTViYjE3ZDVhOWY3Zi5zZXRDb250ZW50KGh0bWxfZmZlYTcxMTk2MzUwNDU5N2EyNzFjM2M1NmRlODA1NjYpOwogICAgICAgIAoKICAgICAgICBjaXJjbGVfbWFya2VyX2Q0ZWZhYjYxY2ZkMzRlZmU4ODg1MWY3Zjc5ZmQwNTY2LmJpbmRQb3B1cChwb3B1cF8xMDJkYjg5YWE3OTc0YmYzYWNlNTViYjE3ZDVhOWY3ZikKICAgICAgICA7CgogICAgICAgIAogICAgCiAgICAKICAgICAgICAgICAgdmFyIGNpcmNsZV9tYXJrZXJfMTdjZjI4MTVlMTI2NDE2MmFhYTE3ZDQ2YTM2ZTY1M2EgPSBMLmNpcmNsZU1hcmtlcigKICAgICAgICAgICAgICAgIFszNC4xNzYyMjEsIC0xMTQuMjIzOTQ2XSwKICAgICAgICAgICAgICAgIHsiYnViYmxpbmdNb3VzZUV2ZW50cyI6IHRydWUsICJjb2xvciI6ICIjMzM4OGZmIiwgImRhc2hBcnJheSI6IG51bGwsICJkYXNoT2Zmc2V0IjogbnVsbCwgImZpbGwiOiB0cnVlLCAiZmlsbENvbG9yIjogIiMzZGI3ZTQiLCAiZmlsbE9wYWNpdHkiOiAwLjIsICJmaWxsUnVsZSI6ICJldmVub2RkIiwgImxpbmVDYXAiOiAicm91bmQiLCAibGluZUpvaW4iOiAicm91bmQiLCAib3BhY2l0eSI6IDEuMCwgInJhZGl1cyI6IDUsICJzdHJva2UiOiB0cnVlLCAid2VpZ2h0IjogM30KICAgICAgICAgICAgKS5hZGRUbyhtYXBfY2QzYzRlOTUwYjEwNDNjZGI3NTRkNzIyMWExMTJmOTApOwogICAgICAgIAogICAgCiAgICAgICAgdmFyIHBvcHVwXzllOWJhNWQ2ZTdlZjQ5NDdiYjY3MjBjYWMzZThkMzUxID0gTC5wb3B1cCh7Im1heFdpZHRoIjogIjEwMCUifSk7CgogICAgICAgIAogICAgICAgICAgICB2YXIgaHRtbF81NGRhOWIyYWU4OWM0NDllYmZkOTMxZTFjMDYxMDg1ZSA9ICQoYDxkaXYgaWQ9Imh0bWxfNTRkYTliMmFlODljNDQ5ZWJmZDkzMWUxYzA2MTA4NWUiIHN0eWxlPSJ3aWR0aDogMTAwLjAlOyBoZWlnaHQ6IDEwMC4wJTsiPlsnTm9kZV9JRCddPC9kaXY+YClbMF07CiAgICAgICAgICAgIHBvcHVwXzllOWJhNWQ2ZTdlZjQ5NDdiYjY3MjBjYWMzZThkMzUxLnNldENvbnRlbnQoaHRtbF81NGRhOWIyYWU4OWM0NDllYmZkOTMxZTFjMDYxMDg1ZSk7CiAgICAgICAgCgogICAgICAgIGNpcmNsZV9tYXJrZXJfMTdjZjI4MTVlMTI2NDE2MmFhYTE3ZDQ2YTM2ZTY1M2EuYmluZFBvcHVwKHBvcHVwXzllOWJhNWQ2ZTdlZjQ5NDdiYjY3MjBjYWMzZThkMzUxKQogICAgICAgIDsKCiAgICAgICAgCiAgICAKICAgIAogICAgICAgICAgICB2YXIgY2lyY2xlX21hcmtlcl83NDAxNTIyOWFhYTE0ODE3OGU2MGU1MDJiYTUzYmViZCA9IEwuY2lyY2xlTWFya2VyKAogICAgICAgICAgICAgICAgWzM0LjE0ODc5MSwgLTExNC4zMDcyOTldLAogICAgICAgICAgICAgICAgeyJidWJibGluZ01vdXNlRXZlbnRzIjogdHJ1ZSwgImNvbG9yIjogIiMzMzg4ZmYiLCAiZGFzaEFycmF5IjogbnVsbCwgImRhc2hPZmZzZXQiOiBudWxsLCAiZmlsbCI6IHRydWUsICJmaWxsQ29sb3IiOiAiIzNkYjdlNCIsICJmaWxsT3BhY2l0eSI6IDAuMiwgImZpbGxSdWxlIjogImV2ZW5vZGQiLCAibGluZUNhcCI6ICJyb3VuZCIsICJsaW5lSm9pbiI6ICJyb3VuZCIsICJvcGFjaXR5IjogMS4wLCAicmFkaXVzIjogNSwgInN0cm9rZSI6IHRydWUsICJ3ZWlnaHQiOiAzfQogICAgICAgICAgICApLmFkZFRvKG1hcF9jZDNjNGU5NTBiMTA0M2NkYjc1NGQ3MjIxYTExMmY5MCk7CiAgICAgICAgCiAgICAKICAgICAgICB2YXIgcG9wdXBfYTI0MDk1M2I2ZWNhNDU2MmE1MWIzZjlkZDdmZjYwOWEgPSBMLnBvcHVwKHsibWF4V2lkdGgiOiAiMTAwJSJ9KTsKCiAgICAgICAgCiAgICAgICAgICAgIHZhciBodG1sX2EwZjg4N2JiNjZhNzRlODliMTljZDlhYTM0ZDY5ZjZjID0gJChgPGRpdiBpZD0iaHRtbF9hMGY4ODdiYjY2YTc0ZTg5YjE5Y2Q5YWEzNGQ2OWY2YyIgc3R5bGU9IndpZHRoOiAxMDAuMCU7IGhlaWdodDogMTAwLjAlOyI+WydOb2RlX0lEJ108L2Rpdj5gKVswXTsKICAgICAgICAgICAgcG9wdXBfYTI0MDk1M2I2ZWNhNDU2MmE1MWIzZjlkZDdmZjYwOWEuc2V0Q29udGVudChodG1sX2EwZjg4N2JiNjZhNzRlODliMTljZDlhYTM0ZDY5ZjZjKTsKICAgICAgICAKCiAgICAgICAgY2lyY2xlX21hcmtlcl83NDAxNTIyOWFhYTE0ODE3OGU2MGU1MDJiYTUzYmViZC5iaW5kUG9wdXAocG9wdXBfYTI0MDk1M2I2ZWNhNDU2MmE1MWIzZjlkZDdmZjYwOWEpCiAgICAgICAgOwoKICAgICAgICAKICAgIAogICAgCiAgICAgICAgICAgIHZhciBjaXJjbGVfbWFya2VyX2ZkZGFjNzU5ZGMzMjRkZGRhMTg5MDM4NzU4Yzk4N2E4ID0gTC5jaXJjbGVNYXJrZXIoCiAgICAgICAgICAgICAgICBbMzQuMTM4ODg5LCAtMTE0LjMxODc2NV0sCiAgICAgICAgICAgICAgICB7ImJ1YmJsaW5nTW91c2VFdmVudHMiOiB0cnVlLCAiY29sb3IiOiAiIzMzODhmZiIsICJkYXNoQXJyYXkiOiBudWxsLCAiZGFzaE9mZnNldCI6IG51bGwsICJmaWxsIjogdHJ1ZSwgImZpbGxDb2xvciI6ICIjM2RiN2U0IiwgImZpbGxPcGFjaXR5IjogMC4yLCAiZmlsbFJ1bGUiOiAiZXZlbm9kZCIsICJsaW5lQ2FwIjogInJvdW5kIiwgImxpbmVKb2luIjogInJvdW5kIiwgIm9wYWNpdHkiOiAxLjAsICJyYWRpdXMiOiA1LCAic3Ryb2tlIjogdHJ1ZSwgIndlaWdodCI6IDN9CiAgICAgICAgICAgICkuYWRkVG8obWFwX2NkM2M0ZTk1MGIxMDQzY2RiNzU0ZDcyMjFhMTEyZjkwKTsKICAgICAgICAKICAgIAogICAgICAgIHZhciBwb3B1cF82OTU5NmMzZTgzMTQ0MGJhOWJhNDAwMDQzYjg2YzQ4NSA9IEwucG9wdXAoeyJtYXhXaWR0aCI6ICIxMDAlIn0pOwoKICAgICAgICAKICAgICAgICAgICAgdmFyIGh0bWxfMGMwNjI2YjFlYTcyNGZmOWJiZDc4MTExNmQxODgzOTYgPSAkKGA8ZGl2IGlkPSJodG1sXzBjMDYyNmIxZWE3MjRmZjliYmQ3ODExMTZkMTg4Mzk2IiBzdHlsZT0id2lkdGg6IDEwMC4wJTsgaGVpZ2h0OiAxMDAuMCU7Ij5bJ05vZGVfSUQnXTwvZGl2PmApWzBdOwogICAgICAgICAgICBwb3B1cF82OTU5NmMzZTgzMTQ0MGJhOWJhNDAwMDQzYjg2YzQ4NS5zZXRDb250ZW50KGh0bWxfMGMwNjI2YjFlYTcyNGZmOWJiZDc4MTExNmQxODgzOTYpOwogICAgICAgIAoKICAgICAgICBjaXJjbGVfbWFya2VyX2ZkZGFjNzU5ZGMzMjRkZGRhMTg5MDM4NzU4Yzk4N2E4LmJpbmRQb3B1cChwb3B1cF82OTU5NmMzZTgzMTQ0MGJhOWJhNDAwMDQzYjg2YzQ4NSkKICAgICAgICA7CgogICAgICAgIAogICAgCiAgICAKICAgICAgICAgICAgdmFyIGNpcmNsZV9tYXJrZXJfYzFhYmU2ZGRlZDMzNDEwZjg3N2MxYzkyZjY5NzJlZjUgPSBMLmNpcmNsZU1hcmtlcigKICAgICAgICAgICAgICAgIFszNC4wNDI2MTQsIC0xMTQuMzQ3M10sCiAgICAgICAgICAgICAgICB7ImJ1YmJsaW5nTW91c2VFdmVudHMiOiB0cnVlLCAiY29sb3IiOiAiIzMzODhmZiIsICJkYXNoQXJyYXkiOiBudWxsLCAiZGFzaE9mZnNldCI6IG51bGwsICJmaWxsIjogdHJ1ZSwgImZpbGxDb2xvciI6ICIjM2RiN2U0IiwgImZpbGxPcGFjaXR5IjogMC4yLCAiZmlsbFJ1bGUiOiAiZXZlbm9kZCIsICJsaW5lQ2FwIjogInJvdW5kIiwgImxpbmVKb2luIjogInJvdW5kIiwgIm9wYWNpdHkiOiAxLjAsICJyYWRpdXMiOiA1LCAic3Ryb2tlIjogdHJ1ZSwgIndlaWdodCI6IDN9CiAgICAgICAgICAgICkuYWRkVG8obWFwX2NkM2M0ZTk1MGIxMDQzY2RiNzU0ZDcyMjFhMTEyZjkwKTsKICAgICAgICAKICAgIAogICAgICAgIHZhciBwb3B1cF9jOWMyY2I5ODM3NmM0NjUyYmQ4NzFjZGEyN2JmYTNmYyA9IEwucG9wdXAoeyJtYXhXaWR0aCI6ICIxMDAlIn0pOwoKICAgICAgICAKICAgICAgICAgICAgdmFyIGh0bWxfZjg0ODhkNDRhMjlmNGQyOTgwMDcyMTc1ZTllYjFjNzkgPSAkKGA8ZGl2IGlkPSJodG1sX2Y4NDg4ZDQ0YTI5ZjRkMjk4MDA3MjE3NWU5ZWIxYzc5IiBzdHlsZT0id2lkdGg6IDEwMC4wJTsgaGVpZ2h0OiAxMDAuMCU7Ij5bJ05vZGVfSUQnXTwvZGl2PmApWzBdOwogICAgICAgICAgICBwb3B1cF9jOWMyY2I5ODM3NmM0NjUyYmQ4NzFjZGEyN2JmYTNmYy5zZXRDb250ZW50KGh0bWxfZjg0ODhkNDRhMjlmNGQyOTgwMDcyMTc1ZTllYjFjNzkpOwogICAgICAgIAoKICAgICAgICBjaXJjbGVfbWFya2VyX2MxYWJlNmRkZWQzMzQxMGY4NzdjMWM5MmY2OTcyZWY1LmJpbmRQb3B1cChwb3B1cF9jOWMyY2I5ODM3NmM0NjUyYmQ4NzFjZGEyN2JmYTNmYykKICAgICAgICA7CgogICAgICAgIAogICAgCiAgICAKICAgICAgICAgICAgdmFyIGNpcmNsZV9tYXJrZXJfNWE3YzM3NTQwMDQxNDE1N2E2YjkyM2U1Y2YwMTQwYzIgPSBMLmNpcmNsZU1hcmtlcigKICAgICAgICAgICAgICAgIFszNC4wNTg5MzEsIC0xMTQuMzQ3MTYyXSwKICAgICAgICAgICAgICAgIHsiYnViYmxpbmdNb3VzZUV2ZW50cyI6IHRydWUsICJjb2xvciI6ICIjMzM4OGZmIiwgImRhc2hBcnJheSI6IG51bGwsICJkYXNoT2Zmc2V0IjogbnVsbCwgImZpbGwiOiB0cnVlLCAiZmlsbENvbG9yIjogIiMzZGI3ZTQiLCAiZmlsbE9wYWNpdHkiOiAwLjIsICJmaWxsUnVsZSI6ICJldmVub2RkIiwgImxpbmVDYXAiOiAicm91bmQiLCAibGluZUpvaW4iOiAicm91bmQiLCAib3BhY2l0eSI6IDEuMCwgInJhZGl1cyI6IDUsICJzdHJva2UiOiB0cnVlLCAid2VpZ2h0IjogM30KICAgICAgICAgICAgKS5hZGRUbyhtYXBfY2QzYzRlOTUwYjEwNDNjZGI3NTRkNzIyMWExMTJmOTApOwogICAgICAgIAogICAgCiAgICAgICAgdmFyIHBvcHVwX2FhZjhiNjE4MzNkNTRiZDY4MjMwYTYyNGFlNTRjNjAwID0gTC5wb3B1cCh7Im1heFdpZHRoIjogIjEwMCUifSk7CgogICAgICAgIAogICAgICAgICAgICB2YXIgaHRtbF9mNGRlMTE2ZjVhMzA0ODUwYWQ0NmNmYjMxNTZjNjdmOCA9ICQoYDxkaXYgaWQ9Imh0bWxfZjRkZTExNmY1YTMwNDg1MGFkNDZjZmIzMTU2YzY3ZjgiIHN0eWxlPSJ3aWR0aDogMTAwLjAlOyBoZWlnaHQ6IDEwMC4wJTsiPlsnTm9kZV9JRCddPC9kaXY+YClbMF07CiAgICAgICAgICAgIHBvcHVwX2FhZjhiNjE4MzNkNTRiZDY4MjMwYTYyNGFlNTRjNjAwLnNldENvbnRlbnQoaHRtbF9mNGRlMTE2ZjVhMzA0ODUwYWQ0NmNmYjMxNTZjNjdmOCk7CiAgICAgICAgCgogICAgICAgIGNpcmNsZV9tYXJrZXJfNWE3YzM3NTQwMDQxNDE1N2E2YjkyM2U1Y2YwMTQwYzIuYmluZFBvcHVwKHBvcHVwX2FhZjhiNjE4MzNkNTRiZDY4MjMwYTYyNGFlNTRjNjAwKQogICAgICAgIDsKCiAgICAgICAgCiAgICAKICAgIAogICAgICAgICAgICB2YXIgY2lyY2xlX21hcmtlcl9jOTU1ZDhjMGRjNjk0NmM5OGUyYjllYzRmMjhiNWM4OCA9IEwuY2lyY2xlTWFya2VyKAogICAgICAgICAgICAgICAgWzMzLjk4ODE3LCAtMTE0LjEyNjk1XSwKICAgICAgICAgICAgICAgIHsiYnViYmxpbmdNb3VzZUV2ZW50cyI6IHRydWUsICJjb2xvciI6ICIjMzM4OGZmIiwgImRhc2hBcnJheSI6IG51bGwsICJkYXNoT2Zmc2V0IjogbnVsbCwgImZpbGwiOiB0cnVlLCAiZmlsbENvbG9yIjogIiMzZGI3ZTQiLCAiZmlsbE9wYWNpdHkiOiAwLjIsICJmaWxsUnVsZSI6ICJldmVub2RkIiwgImxpbmVDYXAiOiAicm91bmQiLCAibGluZUpvaW4iOiAicm91bmQiLCAib3BhY2l0eSI6IDEuMCwgInJhZGl1cyI6IDUsICJzdHJva2UiOiB0cnVlLCAid2VpZ2h0IjogM30KICAgICAgICAgICAgKS5hZGRUbyhtYXBfY2QzYzRlOTUwYjEwNDNjZGI3NTRkNzIyMWExMTJmOTApOwogICAgICAgIAogICAgCiAgICAgICAgdmFyIHBvcHVwXzE3ZjQyNTEyMmU1YjQ5NWFhNzYxYWI5NjlkZWYwMGI5ID0gTC5wb3B1cCh7Im1heFdpZHRoIjogIjEwMCUifSk7CgogICAgICAgIAogICAgICAgICAgICB2YXIgaHRtbF9jZTBjYTRjNmI5ZDU0ZDMxYmI0ZThjZDI4N2Y3NzZiNCA9ICQoYDxkaXYgaWQ9Imh0bWxfY2UwY2E0YzZiOWQ1NGQzMWJiNGU4Y2QyODdmNzc2YjQiIHN0eWxlPSJ3aWR0aDogMTAwLjAlOyBoZWlnaHQ6IDEwMC4wJTsiPlsnTm9kZV9JRCddPC9kaXY+YClbMF07CiAgICAgICAgICAgIHBvcHVwXzE3ZjQyNTEyMmU1YjQ5NWFhNzYxYWI5NjlkZWYwMGI5LnNldENvbnRlbnQoaHRtbF9jZTBjYTRjNmI5ZDU0ZDMxYmI0ZThjZDI4N2Y3NzZiNCk7CiAgICAgICAgCgogICAgICAgIGNpcmNsZV9tYXJrZXJfYzk1NWQ4YzBkYzY5NDZjOThlMmI5ZWM0ZjI4YjVjODguYmluZFBvcHVwKHBvcHVwXzE3ZjQyNTEyMmU1YjQ5NWFhNzYxYWI5NjlkZWYwMGI5KQogICAgICAgIDsKCiAgICAgICAgCiAgICAKICAgIAogICAgICAgICAgICB2YXIgY2lyY2xlX21hcmtlcl85ZmYyMTVhYzVjMDU0OTMzYmRlOTFlZjIxN2NjNTM5NiA9IEwuY2lyY2xlTWFya2VyKAogICAgICAgICAgICAgICAgWzM0LjAyODI2MSwgLTExNC4zNDcyNjhdLAogICAgICAgICAgICAgICAgeyJidWJibGluZ01vdXNlRXZlbnRzIjogdHJ1ZSwgImNvbG9yIjogIiMzMzg4ZmYiLCAiZGFzaEFycmF5IjogbnVsbCwgImRhc2hPZmZzZXQiOiBudWxsLCAiZmlsbCI6IHRydWUsICJmaWxsQ29sb3IiOiAiIzNkYjdlNCIsICJmaWxsT3BhY2l0eSI6IDAuMiwgImZpbGxSdWxlIjogImV2ZW5vZGQiLCAibGluZUNhcCI6ICJyb3VuZCIsICJsaW5lSm9pbiI6ICJyb3VuZCIsICJvcGFjaXR5IjogMS4wLCAicmFkaXVzIjogNSwgInN0cm9rZSI6IHRydWUsICJ3ZWlnaHQiOiAzfQogICAgICAgICAgICApLmFkZFRvKG1hcF9jZDNjNGU5NTBiMTA0M2NkYjc1NGQ3MjIxYTExMmY5MCk7CiAgICAgICAgCiAgICAKICAgICAgICB2YXIgcG9wdXBfMWM3ZjI1MjUyZGJiNDgwYmJjOTJlNzY0ZDFjMDI2YzMgPSBMLnBvcHVwKHsibWF4V2lkdGgiOiAiMTAwJSJ9KTsKCiAgICAgICAgCiAgICAgICAgICAgIHZhciBodG1sXzRmNTQ1NzVkMTZjOTRjODViZDdmMGQ2ZjkzYWMxY2IyID0gJChgPGRpdiBpZD0iaHRtbF80ZjU0NTc1ZDE2Yzk0Yzg1YmQ3ZjBkNmY5M2FjMWNiMiIgc3R5bGU9IndpZHRoOiAxMDAuMCU7IGhlaWdodDogMTAwLjAlOyI+WydOb2RlX0lEJ108L2Rpdj5gKVswXTsKICAgICAgICAgICAgcG9wdXBfMWM3ZjI1MjUyZGJiNDgwYmJjOTJlNzY0ZDFjMDI2YzMuc2V0Q29udGVudChodG1sXzRmNTQ1NzVkMTZjOTRjODViZDdmMGQ2ZjkzYWMxY2IyKTsKICAgICAgICAKCiAgICAgICAgY2lyY2xlX21hcmtlcl85ZmYyMTVhYzVjMDU0OTMzYmRlOTFlZjIxN2NjNTM5Ni5iaW5kUG9wdXAocG9wdXBfMWM3ZjI1MjUyZGJiNDgwYmJjOTJlNzY0ZDFjMDI2YzMpCiAgICAgICAgOwoKICAgICAgICAKICAgIAogICAgCiAgICAgICAgICAgIHZhciBjaXJjbGVfbWFya2VyXzM3MGZhNDlkNDdjZjQ5NzhiOGViNDdjMDJiYzM2YTE3ID0gTC5jaXJjbGVNYXJrZXIoCiAgICAgICAgICAgICAgICBbMzQuMDQyNTE5LCAtMTE0LjM0MDYxM10sCiAgICAgICAgICAgICAgICB7ImJ1YmJsaW5nTW91c2VFdmVudHMiOiB0cnVlLCAiY29sb3IiOiAiIzMzODhmZiIsICJkYXNoQXJyYXkiOiBudWxsLCAiZGFzaE9mZnNldCI6IG51bGwsICJmaWxsIjogdHJ1ZSwgImZpbGxDb2xvciI6ICIjM2RiN2U0IiwgImZpbGxPcGFjaXR5IjogMC4yLCAiZmlsbFJ1bGUiOiAiZXZlbm9kZCIsICJsaW5lQ2FwIjogInJvdW5kIiwgImxpbmVKb2luIjogInJvdW5kIiwgIm9wYWNpdHkiOiAxLjAsICJyYWRpdXMiOiA1LCAic3Ryb2tlIjogdHJ1ZSwgIndlaWdodCI6IDN9CiAgICAgICAgICAgICkuYWRkVG8obWFwX2NkM2M0ZTk1MGIxMDQzY2RiNzU0ZDcyMjFhMTEyZjkwKTsKICAgICAgICAKICAgIAogICAgICAgIHZhciBwb3B1cF9iMzdkMjliYjdkZTQ0ODBkOTU5YjNmZmRiZjRhM2MxMSA9IEwucG9wdXAoeyJtYXhXaWR0aCI6ICIxMDAlIn0pOwoKICAgICAgICAKICAgICAgICAgICAgdmFyIGh0bWxfNWFiZGRiODFlN2Y4NDYxYWE3Y2ZiNWFjZDA1ZmE1MTQgPSAkKGA8ZGl2IGlkPSJodG1sXzVhYmRkYjgxZTdmODQ2MWFhN2NmYjVhY2QwNWZhNTE0IiBzdHlsZT0id2lkdGg6IDEwMC4wJTsgaGVpZ2h0OiAxMDAuMCU7Ij5bJ05vZGVfSUQnXTwvZGl2PmApWzBdOwogICAgICAgICAgICBwb3B1cF9iMzdkMjliYjdkZTQ0ODBkOTU5YjNmZmRiZjRhM2MxMS5zZXRDb250ZW50KGh0bWxfNWFiZGRiODFlN2Y4NDYxYWE3Y2ZiNWFjZDA1ZmE1MTQpOwogICAgICAgIAoKICAgICAgICBjaXJjbGVfbWFya2VyXzM3MGZhNDlkNDdjZjQ5NzhiOGViNDdjMDJiYzM2YTE3LmJpbmRQb3B1cChwb3B1cF9iMzdkMjliYjdkZTQ0ODBkOTU5YjNmZmRiZjRhM2MxMSkKICAgICAgICA7CgogICAgICAgIAogICAgCiAgICAKICAgICAgICAgICAgdmFyIGNpcmNsZV9tYXJrZXJfMzFkMWY2MTYzMmZkNDA2NGFmNzFhNmU2NDdiY2ZhMGYgPSBMLmNpcmNsZU1hcmtlcigKICAgICAgICAgICAgICAgIFszNC4wNDI2NjQsIC0xMTQuMzI0ODU1XSwKICAgICAgICAgICAgICAgIHsiYnViYmxpbmdNb3VzZUV2ZW50cyI6IHRydWUsICJjb2xvciI6ICIjMzM4OGZmIiwgImRhc2hBcnJheSI6IG51bGwsICJkYXNoT2Zmc2V0IjogbnVsbCwgImZpbGwiOiB0cnVlLCAiZmlsbENvbG9yIjogIiMzZGI3ZTQiLCAiZmlsbE9wYWNpdHkiOiAwLjIsICJmaWxsUnVsZSI6ICJldmVub2RkIiwgImxpbmVDYXAiOiAicm91bmQiLCAibGluZUpvaW4iOiAicm91bmQiLCAib3BhY2l0eSI6IDEuMCwgInJhZGl1cyI6IDUsICJzdHJva2UiOiB0cnVlLCAid2VpZ2h0IjogM30KICAgICAgICAgICAgKS5hZGRUbyhtYXBfY2QzYzRlOTUwYjEwNDNjZGI3NTRkNzIyMWExMTJmOTApOwogICAgICAgIAogICAgCiAgICAgICAgdmFyIHBvcHVwX2M4ZWFjZGM3MmJmYzQwZDVhNjI0ZDExOWRlNzE5MTdjID0gTC5wb3B1cCh7Im1heFdpZHRoIjogIjEwMCUifSk7CgogICAgICAgIAogICAgICAgICAgICB2YXIgaHRtbF9lNTY4OTdjYzdlYWE0YmQ3YTk5Zjc4YzM1NDllZDZjYiA9ICQoYDxkaXYgaWQ9Imh0bWxfZTU2ODk3Y2M3ZWFhNGJkN2E5OWY3OGMzNTQ5ZWQ2Y2IiIHN0eWxlPSJ3aWR0aDogMTAwLjAlOyBoZWlnaHQ6IDEwMC4wJTsiPlsnTm9kZV9JRCddPC9kaXY+YClbMF07CiAgICAgICAgICAgIHBvcHVwX2M4ZWFjZGM3MmJmYzQwZDVhNjI0ZDExOWRlNzE5MTdjLnNldENvbnRlbnQoaHRtbF9lNTY4OTdjYzdlYWE0YmQ3YTk5Zjc4YzM1NDllZDZjYik7CiAgICAgICAgCgogICAgICAgIGNpcmNsZV9tYXJrZXJfMzFkMWY2MTYzMmZkNDA2NGFmNzFhNmU2NDdiY2ZhMGYuYmluZFBvcHVwKHBvcHVwX2M4ZWFjZGM3MmJmYzQwZDVhNjI0ZDExOWRlNzE5MTdjKQogICAgICAgIDsKCiAgICAgICAgCiAgICAKICAgIAogICAgICAgICAgICB2YXIgY2lyY2xlX21hcmtlcl8yZmVlYzY5MDM3MTc0OTkzODc4YmJmNzAzZDRjMzVmMyA9IEwuY2lyY2xlTWFya2VyKAogICAgICAgICAgICAgICAgWzM0LjAzOTc4OCwgLTExNC4zMjExNTldLAogICAgICAgICAgICAgICAgeyJidWJibGluZ01vdXNlRXZlbnRzIjogdHJ1ZSwgImNvbG9yIjogIiMzMzg4ZmYiLCAiZGFzaEFycmF5IjogbnVsbCwgImRhc2hPZmZzZXQiOiBudWxsLCAiZmlsbCI6IHRydWUsICJmaWxsQ29sb3IiOiAiIzNkYjdlNCIsICJmaWxsT3BhY2l0eSI6IDAuMiwgImZpbGxSdWxlIjogImV2ZW5vZGQiLCAibGluZUNhcCI6ICJyb3VuZCIsICJsaW5lSm9pbiI6ICJyb3VuZCIsICJvcGFjaXR5IjogMS4wLCAicmFkaXVzIjogNSwgInN0cm9rZSI6IHRydWUsICJ3ZWlnaHQiOiAzfQogICAgICAgICAgICApLmFkZFRvKG1hcF9jZDNjNGU5NTBiMTA0M2NkYjc1NGQ3MjIxYTExMmY5MCk7CiAgICAgICAgCiAgICAKICAgICAgICB2YXIgcG9wdXBfYWFiY2E2ODkxMDMyNDdkOWE3YjY1NDkzNzFmM2ZlMjEgPSBMLnBvcHVwKHsibWF4V2lkdGgiOiAiMTAwJSJ9KTsKCiAgICAgICAgCiAgICAgICAgICAgIHZhciBodG1sXzE4ZWM3YjE2ZDY5YjQxM2ZhOWQ5MmZhY2Q0MzQwMThhID0gJChgPGRpdiBpZD0iaHRtbF8xOGVjN2IxNmQ2OWI0MTNmYTlkOTJmYWNkNDM0MDE4YSIgc3R5bGU9IndpZHRoOiAxMDAuMCU7IGhlaWdodDogMTAwLjAlOyI+WydOb2RlX0lEJ108L2Rpdj5gKVswXTsKICAgICAgICAgICAgcG9wdXBfYWFiY2E2ODkxMDMyNDdkOWE3YjY1NDkzNzFmM2ZlMjEuc2V0Q29udGVudChodG1sXzE4ZWM3YjE2ZDY5YjQxM2ZhOWQ5MmZhY2Q0MzQwMThhKTsKICAgICAgICAKCiAgICAgICAgY2lyY2xlX21hcmtlcl8yZmVlYzY5MDM3MTc0OTkzODc4YmJmNzAzZDRjMzVmMy5iaW5kUG9wdXAocG9wdXBfYWFiY2E2ODkxMDMyNDdkOWE3YjY1NDkzNzFmM2ZlMjEpCiAgICAgICAgOwoKICAgICAgICAKICAgIAogICAgCiAgICAgICAgICAgIHZhciBjaXJjbGVfbWFya2VyXzcyYTNiNDhkNmI3OTRmNGJhY2I2YzVlZDhhMjI3ZTc3ID0gTC5jaXJjbGVNYXJrZXIoCiAgICAgICAgICAgICAgICBbMzMuNjE5NDA0LCAtMTE0LjI3NjQxNF0sCiAgICAgICAgICAgICAgICB7ImJ1YmJsaW5nTW91c2VFdmVudHMiOiB0cnVlLCAiY29sb3IiOiAiIzMzODhmZiIsICJkYXNoQXJyYXkiOiBudWxsLCAiZGFzaE9mZnNldCI6IG51bGwsICJmaWxsIjogdHJ1ZSwgImZpbGxDb2xvciI6ICIjM2RiN2U0IiwgImZpbGxPcGFjaXR5IjogMC4yLCAiZmlsbFJ1bGUiOiAiZXZlbm9kZCIsICJsaW5lQ2FwIjogInJvdW5kIiwgImxpbmVKb2luIjogInJvdW5kIiwgIm9wYWNpdHkiOiAxLjAsICJyYWRpdXMiOiA1LCAic3Ryb2tlIjogdHJ1ZSwgIndlaWdodCI6IDN9CiAgICAgICAgICAgICkuYWRkVG8obWFwX2NkM2M0ZTk1MGIxMDQzY2RiNzU0ZDcyMjFhMTEyZjkwKTsKICAgICAgICAKICAgIAogICAgICAgIHZhciBwb3B1cF9kYjc3YzFhOWRjNDY0ZmNlOWQ2NTEyNzU3NTIyZDBmOSA9IEwucG9wdXAoeyJtYXhXaWR0aCI6ICIxMDAlIn0pOwoKICAgICAgICAKICAgICAgICAgICAgdmFyIGh0bWxfMzMxZjAzNDk3NDYyNGU4NWJlMjQwODFjMjNhZmU1MmIgPSAkKGA8ZGl2IGlkPSJodG1sXzMzMWYwMzQ5NzQ2MjRlODViZTI0MDgxYzIzYWZlNTJiIiBzdHlsZT0id2lkdGg6IDEwMC4wJTsgaGVpZ2h0OiAxMDAuMCU7Ij5bJ05vZGVfSUQnXTwvZGl2PmApWzBdOwogICAgICAgICAgICBwb3B1cF9kYjc3YzFhOWRjNDY0ZmNlOWQ2NTEyNzU3NTIyZDBmOS5zZXRDb250ZW50KGh0bWxfMzMxZjAzNDk3NDYyNGU4NWJlMjQwODFjMjNhZmU1MmIpOwogICAgICAgIAoKICAgICAgICBjaXJjbGVfbWFya2VyXzcyYTNiNDhkNmI3OTRmNGJhY2I2YzVlZDhhMjI3ZTc3LmJpbmRQb3B1cChwb3B1cF9kYjc3YzFhOWRjNDY0ZmNlOWQ2NTEyNzU3NTIyZDBmOSkKICAgICAgICA7CgogICAgICAgIAogICAgCiAgICAKICAgICAgICAgICAgdmFyIGNpcmNsZV9tYXJrZXJfMTJhMTcxOTY1YzY4NGM0Y2FhZDRhY2UxZGViMmQ2ZGUgPSBMLmNpcmNsZU1hcmtlcigKICAgICAgICAgICAgICAgIFszMy42MTc1NTQsIC0xMTQuMjczMjcyXSwKICAgICAgICAgICAgICAgIHsiYnViYmxpbmdNb3VzZUV2ZW50cyI6IHRydWUsICJjb2xvciI6ICIjMzM4OGZmIiwgImRhc2hBcnJheSI6IG51bGwsICJkYXNoT2Zmc2V0IjogbnVsbCwgImZpbGwiOiB0cnVlLCAiZmlsbENvbG9yIjogIiMzZGI3ZTQiLCAiZmlsbE9wYWNpdHkiOiAwLjIsICJmaWxsUnVsZSI6ICJldmVub2RkIiwgImxpbmVDYXAiOiAicm91bmQiLCAibGluZUpvaW4iOiAicm91bmQiLCAib3BhY2l0eSI6IDEuMCwgInJhZGl1cyI6IDUsICJzdHJva2UiOiB0cnVlLCAid2VpZ2h0IjogM30KICAgICAgICAgICAgKS5hZGRUbyhtYXBfY2QzYzRlOTUwYjEwNDNjZGI3NTRkNzIyMWExMTJmOTApOwogICAgICAgIAogICAgCiAgICAgICAgdmFyIHBvcHVwX2Y0NjgyMTBmZjRjOTQyMjNhNzcyOWMxY2E0MzE4MDEyID0gTC5wb3B1cCh7Im1heFdpZHRoIjogIjEwMCUifSk7CgogICAgICAgIAogICAgICAgICAgICB2YXIgaHRtbF9lNDI5ZTViOGQ5NmQ0OWVmODU3Nzg4OTA2NTMzODdiMCA9ICQoYDxkaXYgaWQ9Imh0bWxfZTQyOWU1YjhkOTZkNDllZjg1Nzc4ODkwNjUzMzg3YjAiIHN0eWxlPSJ3aWR0aDogMTAwLjAlOyBoZWlnaHQ6IDEwMC4wJTsiPlsnTm9kZV9JRCddPC9kaXY+YClbMF07CiAgICAgICAgICAgIHBvcHVwX2Y0NjgyMTBmZjRjOTQyMjNhNzcyOWMxY2E0MzE4MDEyLnNldENvbnRlbnQoaHRtbF9lNDI5ZTViOGQ5NmQ0OWVmODU3Nzg4OTA2NTMzODdiMCk7CiAgICAgICAgCgogICAgICAgIGNpcmNsZV9tYXJrZXJfMTJhMTcxOTY1YzY4NGM0Y2FhZDRhY2UxZGViMmQ2ZGUuYmluZFBvcHVwKHBvcHVwX2Y0NjgyMTBmZjRjOTQyMjNhNzcyOWMxY2E0MzE4MDEyKQogICAgICAgIDsKCiAgICAgICAgCiAgICAKICAgIAogICAgICAgICAgICB2YXIgY2lyY2xlX21hcmtlcl81ODYyMTliMjhmNWM0ZjNkOTc0N2ZhOTdjMDJlOWIyNSA9IEwuY2lyY2xlTWFya2VyKAogICAgICAgICAgICAgICAgWzMzLjg3Nzk5OSwgLTExNC40OTQ2MzhdLAogICAgICAgICAgICAgICAgeyJidWJibGluZ01vdXNlRXZlbnRzIjogdHJ1ZSwgImNvbG9yIjogIiMzMzg4ZmYiLCAiZGFzaEFycmF5IjogbnVsbCwgImRhc2hPZmZzZXQiOiBudWxsLCAiZmlsbCI6IHRydWUsICJmaWxsQ29sb3IiOiAiIzNkYjdlNCIsICJmaWxsT3BhY2l0eSI6IDAuMiwgImZpbGxSdWxlIjogImV2ZW5vZGQiLCAibGluZUNhcCI6ICJyb3VuZCIsICJsaW5lSm9pbiI6ICJyb3VuZCIsICJvcGFjaXR5IjogMS4wLCAicmFkaXVzIjogNSwgInN0cm9rZSI6IHRydWUsICJ3ZWlnaHQiOiAzfQogICAgICAgICAgICApLmFkZFRvKG1hcF9jZDNjNGU5NTBiMTA0M2NkYjc1NGQ3MjIxYTExMmY5MCk7CiAgICAgICAgCiAgICAKICAgICAgICB2YXIgcG9wdXBfNTBmNWNlNTU1YmY1NDI2MjgyZjBjNDI1M2MxZWIxNmYgPSBMLnBvcHVwKHsibWF4V2lkdGgiOiAiMTAwJSJ9KTsKCiAgICAgICAgCiAgICAgICAgICAgIHZhciBodG1sXzZiNmVmNTRmNzQ4NDQxOGU4ODJkOGRlZmUxMjliNjkzID0gJChgPGRpdiBpZD0iaHRtbF82YjZlZjU0Zjc0ODQ0MThlODgyZDhkZWZlMTI5YjY5MyIgc3R5bGU9IndpZHRoOiAxMDAuMCU7IGhlaWdodDogMTAwLjAlOyI+WydOb2RlX0lEJ108L2Rpdj5gKVswXTsKICAgICAgICAgICAgcG9wdXBfNTBmNWNlNTU1YmY1NDI2MjgyZjBjNDI1M2MxZWIxNmYuc2V0Q29udGVudChodG1sXzZiNmVmNTRmNzQ4NDQxOGU4ODJkOGRlZmUxMjliNjkzKTsKICAgICAgICAKCiAgICAgICAgY2lyY2xlX21hcmtlcl81ODYyMTliMjhmNWM0ZjNkOTc0N2ZhOTdjMDJlOWIyNS5iaW5kUG9wdXAocG9wdXBfNTBmNWNlNTU1YmY1NDI2MjgyZjBjNDI1M2MxZWIxNmYpCiAgICAgICAgOwoKICAgICAgICAKICAgIAogICAgCiAgICAgICAgICAgIHZhciBjaXJjbGVfbWFya2VyXzVmMWQzMDMxNGMwYTQwOWVhYWZlOWQxMWQ0Y2NmY2Y1ID0gTC5jaXJjbGVNYXJrZXIoCiAgICAgICAgICAgICAgICBbMzMuODUzODc3LCAtMTE0LjUyODMwMl0sCiAgICAgICAgICAgICAgICB7ImJ1YmJsaW5nTW91c2VFdmVudHMiOiB0cnVlLCAiY29sb3IiOiAiIzMzODhmZiIsICJkYXNoQXJyYXkiOiBudWxsLCAiZGFzaE9mZnNldCI6IG51bGwsICJmaWxsIjogdHJ1ZSwgImZpbGxDb2xvciI6ICIjM2RiN2U0IiwgImZpbGxPcGFjaXR5IjogMC4yLCAiZmlsbFJ1bGUiOiAiZXZlbm9kZCIsICJsaW5lQ2FwIjogInJvdW5kIiwgImxpbmVKb2luIjogInJvdW5kIiwgIm9wYWNpdHkiOiAxLjAsICJyYWRpdXMiOiA1LCAic3Ryb2tlIjogdHJ1ZSwgIndlaWdodCI6IDN9CiAgICAgICAgICAgICkuYWRkVG8obWFwX2NkM2M0ZTk1MGIxMDQzY2RiNzU0ZDcyMjFhMTEyZjkwKTsKICAgICAgICAKICAgIAogICAgICAgIHZhciBwb3B1cF8wNTZjZGE0NDRkNGM0YTI4YTg0OTNiNGQyMGUwODYwZCA9IEwucG9wdXAoeyJtYXhXaWR0aCI6ICIxMDAlIn0pOwoKICAgICAgICAKICAgICAgICAgICAgdmFyIGh0bWxfOGVkZWQ2NTRlMDM1NGI2MWI5NzQ3OTIyN2E2ZGI2ZGUgPSAkKGA8ZGl2IGlkPSJodG1sXzhlZGVkNjU0ZTAzNTRiNjFiOTc0NzkyMjdhNmRiNmRlIiBzdHlsZT0id2lkdGg6IDEwMC4wJTsgaGVpZ2h0OiAxMDAuMCU7Ij5bJ05vZGVfSUQnXTwvZGl2PmApWzBdOwogICAgICAgICAgICBwb3B1cF8wNTZjZGE0NDRkNGM0YTI4YTg0OTNiNGQyMGUwODYwZC5zZXRDb250ZW50KGh0bWxfOGVkZWQ2NTRlMDM1NGI2MWI5NzQ3OTIyN2E2ZGI2ZGUpOwogICAgICAgIAoKICAgICAgICBjaXJjbGVfbWFya2VyXzVmMWQzMDMxNGMwYTQwOWVhYWZlOWQxMWQ0Y2NmY2Y1LmJpbmRQb3B1cChwb3B1cF8wNTZjZGE0NDRkNGM0YTI4YTg0OTNiNGQyMGUwODYwZCkKICAgICAgICA7CgogICAgICAgIAogICAgCiAgICAKICAgICAgICAgICAgdmFyIGNpcmNsZV9tYXJrZXJfYTlhMjIwZjkwNjI3NGViZWE4ZmY4MzM0YjVlYmU2ZGUgPSBMLmNpcmNsZU1hcmtlcigKICAgICAgICAgICAgICAgIFszMy45MjY0NjksIC0xMTQuNDg1NzE3XSwKICAgICAgICAgICAgICAgIHsiYnViYmxpbmdNb3VzZUV2ZW50cyI6IHRydWUsICJjb2xvciI6ICIjMzM4OGZmIiwgImRhc2hBcnJheSI6IG51bGwsICJkYXNoT2Zmc2V0IjogbnVsbCwgImZpbGwiOiB0cnVlLCAiZmlsbENvbG9yIjogIiMzZGI3ZTQiLCAiZmlsbE9wYWNpdHkiOiAwLjIsICJmaWxsUnVsZSI6ICJldmVub2RkIiwgImxpbmVDYXAiOiAicm91bmQiLCAibGluZUpvaW4iOiAicm91bmQiLCAib3BhY2l0eSI6IDEuMCwgInJhZGl1cyI6IDUsICJzdHJva2UiOiB0cnVlLCAid2VpZ2h0IjogM30KICAgICAgICAgICAgKS5hZGRUbyhtYXBfY2QzYzRlOTUwYjEwNDNjZGI3NTRkNzIyMWExMTJmOTApOwogICAgICAgIAogICAgCiAgICAgICAgdmFyIHBvcHVwXzViMzlhZjY1YTY2NDQwYjY5MTc5Y2EzNzZjMmI3ZTQzID0gTC5wb3B1cCh7Im1heFdpZHRoIjogIjEwMCUifSk7CgogICAgICAgIAogICAgICAgICAgICB2YXIgaHRtbF81ZmNmNGI2Mjk3ZmY0NWY5YWUwMDQ2MWQwM2JmODRhZSA9ICQoYDxkaXYgaWQ9Imh0bWxfNWZjZjRiNjI5N2ZmNDVmOWFlMDA0NjFkMDNiZjg0YWUiIHN0eWxlPSJ3aWR0aDogMTAwLjAlOyBoZWlnaHQ6IDEwMC4wJTsiPlsnTm9kZV9JRCddPC9kaXY+YClbMF07CiAgICAgICAgICAgIHBvcHVwXzViMzlhZjY1YTY2NDQwYjY5MTc5Y2EzNzZjMmI3ZTQzLnNldENvbnRlbnQoaHRtbF81ZmNmNGI2Mjk3ZmY0NWY5YWUwMDQ2MWQwM2JmODRhZSk7CiAgICAgICAgCgogICAgICAgIGNpcmNsZV9tYXJrZXJfYTlhMjIwZjkwNjI3NGViZWE4ZmY4MzM0YjVlYmU2ZGUuYmluZFBvcHVwKHBvcHVwXzViMzlhZjY1YTY2NDQwYjY5MTc5Y2EzNzZjMmI3ZTQzKQogICAgICAgIDsKCiAgICAgICAgCiAgICAKPC9zY3JpcHQ+\" style=\"position:absolute;width:100%;height:100%;left:0;top:0;border:none !important;\" allowfullscreen webkitallowfullscreen mozallowfullscreen></iframe></div></div>"
      ],
      "text/plain": [
       "<folium.folium.Map at 0xa73060b70>"
      ]
     },
     "execution_count": 78,
     "metadata": {},
     "output_type": "execute_result"
    }
   ],
   "source": [
    "m.save('index.html')\n",
    "m"
   ]
  },
  {
   "cell_type": "code",
   "execution_count": null,
   "metadata": {},
   "outputs": [],
   "source": []
  }
 ],
 "metadata": {
  "kernelspec": {
   "display_name": "Python 3",
   "language": "python",
   "name": "python3"
  },
  "language_info": {
   "codemirror_mode": {
    "name": "ipython",
    "version": 3
   },
   "file_extension": ".py",
   "mimetype": "text/x-python",
   "name": "python",
   "nbconvert_exporter": "python",
   "pygments_lexer": "ipython3",
   "version": "3.7.3"
  }
 },
 "nbformat": 4,
 "nbformat_minor": 2
}
