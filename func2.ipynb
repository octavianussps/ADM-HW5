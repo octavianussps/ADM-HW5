{
 "cells": [
  {
   "cell_type": "markdown",
   "metadata": {},
   "source": [
    "# Functionality 2. The Smartest Network\n",
    "### Inputs : \n",
    "### - a set of nodes v = {v_1, ..., v_n}\n",
    "### - Function: Distance and Time\n",
    "### Objective: returning the set of roads (edges) that enable the user to visit all the places. We want this set to be the ones whose sum of distances is minimum."
   ]
  },
  {
   "cell_type": "markdown",
   "metadata": {},
   "source": [
    "Fisrt, we import all necessary library"
   ]
  },
  {
   "cell_type": "code",
   "execution_count": 1,
   "metadata": {},
   "outputs": [],
   "source": [
    "import pandas as pd\n",
    "import networkx as nx\n",
    "from collections import defaultdict\n",
    "from itertools import permutations"
   ]
  },
  {
   "cell_type": "markdown",
   "metadata": {},
   "source": [
    "### Necessary functions\n",
    "\n",
    "#### 1. GeData: To collect data from file and build dataframe\n",
    "#### 2. ShortestPath: To find the shortest path from each node in inputs\n",
    "#### 3. NodeDiff: To find the distance between 2 nodes in one edge\n",
    "#### 4. TotalDist: To find the distance between start point to end point od node\n",
    "#### 4. SmartestNetwork: Main Function for this functionality "
   ]
  },
  {
   "cell_type": "code",
   "execution_count": 12,
   "metadata": {},
   "outputs": [],
   "source": [
    "# Function to get the data\n",
    "def GetData (path):\n",
    "    data = pd.read_csv(path, header=0, sep=',', \n",
    "                              index_col=None, encoding = \"ISO-8859-1\")\n",
    "    data.columns = [\"column\"]\n",
    "    data = data.iloc[6:]\n",
    "    data = data.reset_index(drop = True)\n",
    "    result = data.column.str.split(\" \", expand = True)\n",
    "    return result\n",
    "\n",
    "# Function to get the shortest path between 2 nodes\n",
    "def ShortestPath(start, end, g):\n",
    "    #init. put start as next list\n",
    "    path = []\n",
    "    next_ = [start] \n",
    "    passed = []\n",
    "    i = 0\n",
    "    while end not in next_:\n",
    "        if next_[i] not in passed:\n",
    "            for j in list(g.neighbors(next_[i])):\n",
    "                next_.append[j]\n",
    "            path.append(list(g.neighbors(next_[i])))\n",
    "            passed.append(next_[i])\n",
    "        i += 1\n",
    "    added = passed[-1]\n",
    "    i = 1\n",
    "    result = [end, added]\n",
    "    while i < len(g) and added != start:\n",
    "        parent = []\n",
    "        for i in range(len(path)):\n",
    "            for j in range(len(path[i])):\n",
    "                if path[i][j] == added:\n",
    "                    parent.append(i)\n",
    "        added = passed [parent[0]]\n",
    "        i += 1\n",
    "        result.append(added)\n",
    "    result.reverse()\n",
    "    return (result)\n",
    "\n",
    "# Function to calculate distance between nodes in edges\n",
    "def NodeDiff (start, end, func):\n",
    "    result = func.loc[(dist[1] == start) & (func[2] == end)]\n",
    "    if len(result) > 0: return int(result[3])\n",
    "    else: return 0\n",
    "\n",
    "# Function to calculate distance from start to end\n",
    "def TotalDist (start, end, func):\n",
    "    path = ShortestPath(start, end ,g)\n",
    "    result = 0\n",
    "    i = 0\n",
    "    while i < len(path) - 1:\n",
    "        result = result + NodeDiff(path[i], path[i+1], func)\n",
    "        i += 1\n",
    "    return (result)\n",
    "\n",
    "def SmartestNetwork (inputs, func):\n",
    "    lists = []\n",
    "    for item in permutations(inputs):\n",
    "        poss = list(item)\n",
    "        tot = 0\n",
    "        i = 0\n",
    "        while i < len(poss)-1:\n",
    "            tot = tot + TotalDist(poss[i], poss[i+1], func)\n",
    "            i+=1\n",
    "        possMaps = (tot, poss)\n",
    "        lists.append(possMaps)\n",
    "    lists = sorted(lists, key = lambda x: (x[0]), reverse = False)\n",
    "    bestPoss = lists[0][0]\n",
    "    \n",
    "    i = 0\n",
    "    edges_ = []\n",
    "    while i < len(bestPoss) - 1:\n",
    "        edges_ = edges_ + ShortestPath (bestPoss[i], bestPoss[i+1], g)\n",
    "        i+=1\n",
    "    return([(bestPoss, edges_)])"
   ]
  },
  {
   "cell_type": "markdown",
   "metadata": {},
   "source": [
    "Read the data"
   ]
  },
  {
   "cell_type": "code",
   "execution_count": 6,
   "metadata": {},
   "outputs": [],
   "source": [
    "coordinates = \"./data/USA-road-d.CAL.co\"\n",
    "times = \"./data/USA-road-t.CAL.gr\"\n",
    "distances = \"./data/USA-road-d.CAL.gr\""
   ]
  },
  {
   "cell_type": "code",
   "execution_count": 7,
   "metadata": {},
   "outputs": [],
   "source": [
    "cD = GetData(coordinates)\n",
    "tD = GetData(times)\n",
    "dD = GetData(distances)"
   ]
  },
  {
   "cell_type": "code",
   "execution_count": 21,
   "metadata": {},
   "outputs": [
    {
     "data": {
      "text/html": [
       "<div>\n",
       "<style scoped>\n",
       "    .dataframe tbody tr th:only-of-type {\n",
       "        vertical-align: middle;\n",
       "    }\n",
       "\n",
       "    .dataframe tbody tr th {\n",
       "        vertical-align: top;\n",
       "    }\n",
       "\n",
       "    .dataframe thead th {\n",
       "        text-align: right;\n",
       "    }\n",
       "</style>\n",
       "<table border=\"1\" class=\"dataframe\">\n",
       "  <thead>\n",
       "    <tr style=\"text-align: right;\">\n",
       "      <th></th>\n",
       "      <th>0</th>\n",
       "      <th>1</th>\n",
       "      <th>2</th>\n",
       "      <th>3</th>\n",
       "    </tr>\n",
       "  </thead>\n",
       "  <tbody>\n",
       "    <tr>\n",
       "      <th>0</th>\n",
       "      <td>a</td>\n",
       "      <td>1</td>\n",
       "      <td>1048577</td>\n",
       "      <td>456</td>\n",
       "    </tr>\n",
       "    <tr>\n",
       "      <th>1</th>\n",
       "      <td>a</td>\n",
       "      <td>1048577</td>\n",
       "      <td>1</td>\n",
       "      <td>456</td>\n",
       "    </tr>\n",
       "    <tr>\n",
       "      <th>2</th>\n",
       "      <td>a</td>\n",
       "      <td>2</td>\n",
       "      <td>1048578</td>\n",
       "      <td>2389</td>\n",
       "    </tr>\n",
       "    <tr>\n",
       "      <th>3</th>\n",
       "      <td>a</td>\n",
       "      <td>1048578</td>\n",
       "      <td>2</td>\n",
       "      <td>2389</td>\n",
       "    </tr>\n",
       "    <tr>\n",
       "      <th>4</th>\n",
       "      <td>a</td>\n",
       "      <td>3</td>\n",
       "      <td>1048579</td>\n",
       "      <td>358</td>\n",
       "    </tr>\n",
       "  </tbody>\n",
       "</table>\n",
       "</div>"
      ],
      "text/plain": [
       "   0        1        2     3\n",
       "0  a        1  1048577   456\n",
       "1  a  1048577        1   456\n",
       "2  a        2  1048578  2389\n",
       "3  a  1048578        2  2389\n",
       "4  a        3  1048579   358"
      ]
     },
     "execution_count": 21,
     "metadata": {},
     "output_type": "execute_result"
    }
   ],
   "source": [
    "dD.head()"
   ]
  },
  {
   "cell_type": "code",
   "execution_count": 12,
   "metadata": {},
   "outputs": [],
   "source": [
    "nodes = []\n",
    "lat= []\n",
    "long = []\n",
    "for key, value in cD.iterrows():\n",
    "    nodes.append(value[1])\n",
    "    lat.append(int(value[2])/1000000)\n",
    "    long.append(int(value[3])/1000000)"
   ]
  },
  {
   "cell_type": "code",
   "execution_count": 14,
   "metadata": {},
   "outputs": [
    {
     "data": {
      "text/plain": [
       "1890815"
      ]
     },
     "execution_count": 14,
     "metadata": {},
     "output_type": "execute_result"
    }
   ],
   "source": [
    "len(nodes)"
   ]
  },
  {
   "cell_type": "markdown",
   "metadata": {},
   "source": [
    "take an example to build for distance function"
   ]
  },
  {
   "cell_type": "code",
   "execution_count": 10,
   "metadata": {},
   "outputs": [],
   "source": [
    "g = nx.Graph()\n",
    "for key, value in dD.iterrows():\n",
    "    g.add_edge(value[1], value[2], dist = value[3])"
   ]
  },
  {
   "cell_type": "markdown",
   "metadata": {},
   "source": [
    "run the functionality 2"
   ]
  },
  {
   "cell_type": "code",
   "execution_count": 22,
   "metadata": {},
   "outputs": [
    {
     "data": {
      "text/plain": [
       "<networkx.classes.graph.Graph at 0x7ff41479f7b8>"
      ]
     },
     "execution_count": 22,
     "metadata": {},
     "output_type": "execute_result"
    }
   ],
   "source": [
    "g"
   ]
  }
 ],
 "metadata": {
  "kernelspec": {
   "display_name": "Python 3",
   "language": "python",
   "name": "python3"
  },
  "language_info": {
   "codemirror_mode": {
    "name": "ipython",
    "version": 3
   },
   "file_extension": ".py",
   "mimetype": "text/x-python",
   "name": "python",
   "nbconvert_exporter": "python",
   "pygments_lexer": "ipython3",
   "version": "3.7.3"
  }
 },
 "nbformat": 4,
 "nbformat_minor": 2
}
